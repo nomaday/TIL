{
  "cells": [
    {
      "cell_type": "markdown",
      "metadata": {
        "id": "view-in-github",
        "colab_type": "text"
      },
      "source": [
        "<a href=\"https://colab.research.google.com/github/nomaday/TIL/blob/main/EDA_ay.ipynb\" target=\"_parent\"><img src=\"https://colab.research.google.com/assets/colab-badge.svg\" alt=\"Open In Colab\"/></a>"
      ]
    },
    {
      "cell_type": "markdown",
      "source": [
        "Updated 2022-05-12 (Thu)"
      ],
      "metadata": {
        "id": "ZCs5keCfY9FN"
      },
      "id": "ZCs5keCfY9FN"
    },
    {
      "cell_type": "markdown",
      "id": "f7e40537",
      "metadata": {
        "id": "f7e40537"
      },
      "source": [
        "# EDA (Exploratory Data Analysis)\n"
      ]
    },
    {
      "cell_type": "markdown",
      "id": "cbc01352",
      "metadata": {
        "id": "cbc01352"
      },
      "source": [
        "DATA -fastcampus(210329_210926)"
      ]
    },
    {
      "cell_type": "code",
      "source": [
        "from google.colab import drive\n",
        "drive.mount('/content/drive')"
      ],
      "metadata": {
        "colab": {
          "base_uri": "https://localhost:8080/"
        },
        "id": "MMshfL_LfALC",
        "outputId": "529a9e97-f9ba-4b20-eb28-0264e19a8e40"
      },
      "id": "MMshfL_LfALC",
      "execution_count": 5,
      "outputs": [
        {
          "output_type": "stream",
          "name": "stdout",
          "text": [
            "Drive already mounted at /content/drive; to attempt to forcibly remount, call drive.mount(\"/content/drive\", force_remount=True).\n"
          ]
        }
      ]
    },
    {
      "cell_type": "code",
      "execution_count": 6,
      "id": "57ab8248",
      "metadata": {
        "ExecuteTime": {
          "end_time": "2022-05-10T17:14:40.391181Z",
          "start_time": "2022-05-10T17:14:37.507713Z"
        },
        "id": "57ab8248"
      },
      "outputs": [],
      "source": [
        "import pandas as pd\n",
        "import numpy as np\n",
        "import seaborn as sns\n",
        "import matplotlib.pyplot as plt\n",
        "import plotly.express as px\n",
        "from sklearn import datasets\n",
        "\n",
        "#%matplotlib inline \n",
        "#%matplotlib notebook "
      ]
    },
    {
      "cell_type": "code",
      "execution_count": 7,
      "id": "160107ca",
      "metadata": {
        "ExecuteTime": {
          "end_time": "2022-05-10T17:14:40.406107Z",
          "start_time": "2022-05-10T17:14:40.393110Z"
        },
        "id": "160107ca"
      },
      "outputs": [],
      "source": [
        "from pandas import DataFrame\n",
        "from pandas import Series"
      ]
    },
    {
      "cell_type": "code",
      "source": [
        "!sudo apt-get install -y fonts-nanum\n",
        "!sudo fc-cache -fv\n",
        "!rm ~/.cache/matplotlib -rf"
      ],
      "metadata": {
        "colab": {
          "base_uri": "https://localhost:8080/"
        },
        "id": "8LitFUpoOdJ3",
        "outputId": "9d4ee8ea-427d-45bc-de8d-e0fdd416af11"
      },
      "id": "8LitFUpoOdJ3",
      "execution_count": 8,
      "outputs": [
        {
          "output_type": "stream",
          "name": "stdout",
          "text": [
            "Reading package lists... Done\n",
            "Building dependency tree       \n",
            "Reading state information... Done\n",
            "fonts-nanum is already the newest version (20170925-1).\n",
            "The following packages were automatically installed and are no longer required:\n",
            "  libnvidia-common-460 nsight-compute-2020.2.0\n",
            "Use 'sudo apt autoremove' to remove them.\n",
            "0 upgraded, 0 newly installed, 0 to remove and 42 not upgraded.\n",
            "/usr/share/fonts: caching, new cache contents: 0 fonts, 1 dirs\n",
            "/usr/share/fonts/truetype: caching, new cache contents: 0 fonts, 3 dirs\n",
            "/usr/share/fonts/truetype/humor-sans: caching, new cache contents: 1 fonts, 0 dirs\n",
            "/usr/share/fonts/truetype/liberation: caching, new cache contents: 16 fonts, 0 dirs\n",
            "/usr/share/fonts/truetype/nanum: caching, new cache contents: 10 fonts, 0 dirs\n",
            "/usr/local/share/fonts: caching, new cache contents: 0 fonts, 0 dirs\n",
            "/root/.local/share/fonts: skipping, no such directory\n",
            "/root/.fonts: skipping, no such directory\n",
            "/var/cache/fontconfig: cleaning cache directory\n",
            "/root/.cache/fontconfig: not cleaning non-existent cache directory\n",
            "/root/.fontconfig: not cleaning non-existent cache directory\n",
            "fc-cache: succeeded\n"
          ]
        }
      ]
    },
    {
      "cell_type": "code",
      "source": [
        "import matplotlib.pyplot as plt\n",
        "\n",
        "plt.rc('font', family='NanumBarunGothic')"
      ],
      "metadata": {
        "id": "K-X52rmWOc4k"
      },
      "id": "K-X52rmWOc4k",
      "execution_count": 9,
      "outputs": []
    },
    {
      "cell_type": "code",
      "source": [
        "import matplotlib.font_manager as fm\n",
        "[(f.name, f.fname) for f in fm.fontManager.ttflist if 'NanumBarun' in f.name]"
      ],
      "metadata": {
        "colab": {
          "base_uri": "https://localhost:8080/"
        },
        "id": "-jj3-nGYOcw8",
        "outputId": "5fce98de-9032-4dc0-eea0-9509d3a7bd31"
      },
      "id": "-jj3-nGYOcw8",
      "execution_count": 10,
      "outputs": [
        {
          "output_type": "execute_result",
          "data": {
            "text/plain": [
              "[('NanumBarunGothic', '/usr/share/fonts/truetype/nanum/NanumBarunGothic.ttf'),\n",
              " ('NanumBarunGothic',\n",
              "  '/usr/share/fonts/truetype/nanum/NanumBarunGothicBold.ttf')]"
            ]
          },
          "metadata": {},
          "execution_count": 10
        }
      ]
    },
    {
      "cell_type": "markdown",
      "id": "304c5e7c",
      "metadata": {
        "id": "304c5e7c"
      },
      "source": [
        "## 데이터 살펴보기"
      ]
    },
    {
      "cell_type": "code",
      "execution_count": 11,
      "id": "c878e189",
      "metadata": {
        "ExecuteTime": {
          "end_time": "2022-05-10T17:14:41.249109Z",
          "start_time": "2022-05-10T17:14:40.812055Z"
        },
        "id": "c878e189"
      },
      "outputs": [],
      "source": [
        "data = pd.read_csv(\n",
        "    '/content/drive/MyDrive/이어드림스쿨2기/20220509 Mini Project_데이터 분석/파이널프로젝트_RAW_210329_210926.csv')"
      ]
    },
    {
      "cell_type": "code",
      "execution_count": 12,
      "id": "e08bb3dc",
      "metadata": {
        "ExecuteTime": {
          "end_time": "2022-05-10T17:24:36.482248Z",
          "start_time": "2022-05-10T17:24:36.449269Z"
        },
        "scrolled": true,
        "colab": {
          "base_uri": "https://localhost:8080/",
          "height": 337
        },
        "id": "e08bb3dc",
        "outputId": "9caeed50-ee7d-4b65-db96-71b12e237733"
      },
      "outputs": [
        {
          "output_type": "execute_result",
          "data": {
            "text/plain": [
              "       id  customer_id  course_id     type      state  \\\n",
              "0  970634     504760.0   201435.0    ORDER  CANCELLED   \n",
              "1  970650     432862.0   203178.0    ORDER  CANCELLED   \n",
              "2  970657      72297.0   204246.0  PAYMENT  COMPLETED   \n",
              "3  970656      72297.0   204246.0    ORDER  CANCELLED   \n",
              "4  970658     478028.0   201797.0  PAYMENT  COMPLETED   \n",
              "\n",
              "                    course_title category_title  format         completed_at  \\\n",
              "0      올인원 패키지 : 알고리즘 기술면접 완전 정복          프로그래밍     올인원  2021-03-28 15:00:11   \n",
              "1    초격차 패키지 : 한번에 끝내는 영상 촬영과 편집          영상/3D     올인원  2021-03-28 15:16:53   \n",
              "2           시크릿코드 : 프론트엔드 실무 완성편          프로그래밍  스쿨 온라인  2021-03-28 15:21:43   \n",
              "3           시크릿코드 : 프론트엔드 실무 완성편          프로그래밍  스쿨 온라인  2021-03-28 15:21:43   \n",
              "4  올인원 패키지 : 직장인 필수 스킬 3종 세트 MAX         업무 생산성     올인원  2021-03-28 15:21:54   \n",
              "\n",
              "   transaction_amount              coupon_title  coupon_discount_amount  \\\n",
              "0               90500                       NaN                     NaN   \n",
              "1               96000                       NaN                     NaN   \n",
              "2              171810     [10% 할인] 시크릿코드 실무 완성편                 19090.0   \n",
              "3              171810                       NaN                     NaN   \n",
              "4               97500  [웰컴쿠폰] 올인원 패키지 2만원 할인 쿠폰                 20000.0   \n",
              "\n",
              "   sale_price  tax_free_amount   pg method subcategory_title  \\\n",
              "0    110500.0         110500.0  NaN  VBANK           개발자 커리어   \n",
              "1    116000.0         116000.0  NaN   CARD             영상 편집   \n",
              "2    190900.0         190900.0  NaN   CARD               NaN   \n",
              "3    190900.0         190900.0  NaN   CARD               NaN   \n",
              "4    117500.0         117500.0  NaN   CARD           PPT/보고서   \n",
              "\n",
              "   marketing_start_at  \n",
              "0                 NaN  \n",
              "1  2020-12-02 0:00:00  \n",
              "2  2021-03-04 0:00:00  \n",
              "3  2021-03-04 0:00:00  \n",
              "4  2019-11-14 0:00:00  "
            ],
            "text/html": [
              "\n",
              "  <div id=\"df-b372d8dd-ca21-48cf-bdd6-0d8c410687a2\">\n",
              "    <div class=\"colab-df-container\">\n",
              "      <div>\n",
              "<style scoped>\n",
              "    .dataframe tbody tr th:only-of-type {\n",
              "        vertical-align: middle;\n",
              "    }\n",
              "\n",
              "    .dataframe tbody tr th {\n",
              "        vertical-align: top;\n",
              "    }\n",
              "\n",
              "    .dataframe thead th {\n",
              "        text-align: right;\n",
              "    }\n",
              "</style>\n",
              "<table border=\"1\" class=\"dataframe\">\n",
              "  <thead>\n",
              "    <tr style=\"text-align: right;\">\n",
              "      <th></th>\n",
              "      <th>id</th>\n",
              "      <th>customer_id</th>\n",
              "      <th>course_id</th>\n",
              "      <th>type</th>\n",
              "      <th>state</th>\n",
              "      <th>course_title</th>\n",
              "      <th>category_title</th>\n",
              "      <th>format</th>\n",
              "      <th>completed_at</th>\n",
              "      <th>transaction_amount</th>\n",
              "      <th>coupon_title</th>\n",
              "      <th>coupon_discount_amount</th>\n",
              "      <th>sale_price</th>\n",
              "      <th>tax_free_amount</th>\n",
              "      <th>pg</th>\n",
              "      <th>method</th>\n",
              "      <th>subcategory_title</th>\n",
              "      <th>marketing_start_at</th>\n",
              "    </tr>\n",
              "  </thead>\n",
              "  <tbody>\n",
              "    <tr>\n",
              "      <th>0</th>\n",
              "      <td>970634</td>\n",
              "      <td>504760.0</td>\n",
              "      <td>201435.0</td>\n",
              "      <td>ORDER</td>\n",
              "      <td>CANCELLED</td>\n",
              "      <td>올인원 패키지 : 알고리즘 기술면접 완전 정복</td>\n",
              "      <td>프로그래밍</td>\n",
              "      <td>올인원</td>\n",
              "      <td>2021-03-28 15:00:11</td>\n",
              "      <td>90500</td>\n",
              "      <td>NaN</td>\n",
              "      <td>NaN</td>\n",
              "      <td>110500.0</td>\n",
              "      <td>110500.0</td>\n",
              "      <td>NaN</td>\n",
              "      <td>VBANK</td>\n",
              "      <td>개발자 커리어</td>\n",
              "      <td>NaN</td>\n",
              "    </tr>\n",
              "    <tr>\n",
              "      <th>1</th>\n",
              "      <td>970650</td>\n",
              "      <td>432862.0</td>\n",
              "      <td>203178.0</td>\n",
              "      <td>ORDER</td>\n",
              "      <td>CANCELLED</td>\n",
              "      <td>초격차 패키지 : 한번에 끝내는 영상 촬영과 편집</td>\n",
              "      <td>영상/3D</td>\n",
              "      <td>올인원</td>\n",
              "      <td>2021-03-28 15:16:53</td>\n",
              "      <td>96000</td>\n",
              "      <td>NaN</td>\n",
              "      <td>NaN</td>\n",
              "      <td>116000.0</td>\n",
              "      <td>116000.0</td>\n",
              "      <td>NaN</td>\n",
              "      <td>CARD</td>\n",
              "      <td>영상 편집</td>\n",
              "      <td>2020-12-02 0:00:00</td>\n",
              "    </tr>\n",
              "    <tr>\n",
              "      <th>2</th>\n",
              "      <td>970657</td>\n",
              "      <td>72297.0</td>\n",
              "      <td>204246.0</td>\n",
              "      <td>PAYMENT</td>\n",
              "      <td>COMPLETED</td>\n",
              "      <td>시크릿코드 : 프론트엔드 실무 완성편</td>\n",
              "      <td>프로그래밍</td>\n",
              "      <td>스쿨 온라인</td>\n",
              "      <td>2021-03-28 15:21:43</td>\n",
              "      <td>171810</td>\n",
              "      <td>[10% 할인] 시크릿코드 실무 완성편</td>\n",
              "      <td>19090.0</td>\n",
              "      <td>190900.0</td>\n",
              "      <td>190900.0</td>\n",
              "      <td>NaN</td>\n",
              "      <td>CARD</td>\n",
              "      <td>NaN</td>\n",
              "      <td>2021-03-04 0:00:00</td>\n",
              "    </tr>\n",
              "    <tr>\n",
              "      <th>3</th>\n",
              "      <td>970656</td>\n",
              "      <td>72297.0</td>\n",
              "      <td>204246.0</td>\n",
              "      <td>ORDER</td>\n",
              "      <td>CANCELLED</td>\n",
              "      <td>시크릿코드 : 프론트엔드 실무 완성편</td>\n",
              "      <td>프로그래밍</td>\n",
              "      <td>스쿨 온라인</td>\n",
              "      <td>2021-03-28 15:21:43</td>\n",
              "      <td>171810</td>\n",
              "      <td>NaN</td>\n",
              "      <td>NaN</td>\n",
              "      <td>190900.0</td>\n",
              "      <td>190900.0</td>\n",
              "      <td>NaN</td>\n",
              "      <td>CARD</td>\n",
              "      <td>NaN</td>\n",
              "      <td>2021-03-04 0:00:00</td>\n",
              "    </tr>\n",
              "    <tr>\n",
              "      <th>4</th>\n",
              "      <td>970658</td>\n",
              "      <td>478028.0</td>\n",
              "      <td>201797.0</td>\n",
              "      <td>PAYMENT</td>\n",
              "      <td>COMPLETED</td>\n",
              "      <td>올인원 패키지 : 직장인 필수 스킬 3종 세트 MAX</td>\n",
              "      <td>업무 생산성</td>\n",
              "      <td>올인원</td>\n",
              "      <td>2021-03-28 15:21:54</td>\n",
              "      <td>97500</td>\n",
              "      <td>[웰컴쿠폰] 올인원 패키지 2만원 할인 쿠폰</td>\n",
              "      <td>20000.0</td>\n",
              "      <td>117500.0</td>\n",
              "      <td>117500.0</td>\n",
              "      <td>NaN</td>\n",
              "      <td>CARD</td>\n",
              "      <td>PPT/보고서</td>\n",
              "      <td>2019-11-14 0:00:00</td>\n",
              "    </tr>\n",
              "  </tbody>\n",
              "</table>\n",
              "</div>\n",
              "      <button class=\"colab-df-convert\" onclick=\"convertToInteractive('df-b372d8dd-ca21-48cf-bdd6-0d8c410687a2')\"\n",
              "              title=\"Convert this dataframe to an interactive table.\"\n",
              "              style=\"display:none;\">\n",
              "        \n",
              "  <svg xmlns=\"http://www.w3.org/2000/svg\" height=\"24px\"viewBox=\"0 0 24 24\"\n",
              "       width=\"24px\">\n",
              "    <path d=\"M0 0h24v24H0V0z\" fill=\"none\"/>\n",
              "    <path d=\"M18.56 5.44l.94 2.06.94-2.06 2.06-.94-2.06-.94-.94-2.06-.94 2.06-2.06.94zm-11 1L8.5 8.5l.94-2.06 2.06-.94-2.06-.94L8.5 2.5l-.94 2.06-2.06.94zm10 10l.94 2.06.94-2.06 2.06-.94-2.06-.94-.94-2.06-.94 2.06-2.06.94z\"/><path d=\"M17.41 7.96l-1.37-1.37c-.4-.4-.92-.59-1.43-.59-.52 0-1.04.2-1.43.59L10.3 9.45l-7.72 7.72c-.78.78-.78 2.05 0 2.83L4 21.41c.39.39.9.59 1.41.59.51 0 1.02-.2 1.41-.59l7.78-7.78 2.81-2.81c.8-.78.8-2.07 0-2.86zM5.41 20L4 18.59l7.72-7.72 1.47 1.35L5.41 20z\"/>\n",
              "  </svg>\n",
              "      </button>\n",
              "      \n",
              "  <style>\n",
              "    .colab-df-container {\n",
              "      display:flex;\n",
              "      flex-wrap:wrap;\n",
              "      gap: 12px;\n",
              "    }\n",
              "\n",
              "    .colab-df-convert {\n",
              "      background-color: #E8F0FE;\n",
              "      border: none;\n",
              "      border-radius: 50%;\n",
              "      cursor: pointer;\n",
              "      display: none;\n",
              "      fill: #1967D2;\n",
              "      height: 32px;\n",
              "      padding: 0 0 0 0;\n",
              "      width: 32px;\n",
              "    }\n",
              "\n",
              "    .colab-df-convert:hover {\n",
              "      background-color: #E2EBFA;\n",
              "      box-shadow: 0px 1px 2px rgba(60, 64, 67, 0.3), 0px 1px 3px 1px rgba(60, 64, 67, 0.15);\n",
              "      fill: #174EA6;\n",
              "    }\n",
              "\n",
              "    [theme=dark] .colab-df-convert {\n",
              "      background-color: #3B4455;\n",
              "      fill: #D2E3FC;\n",
              "    }\n",
              "\n",
              "    [theme=dark] .colab-df-convert:hover {\n",
              "      background-color: #434B5C;\n",
              "      box-shadow: 0px 1px 3px 1px rgba(0, 0, 0, 0.15);\n",
              "      filter: drop-shadow(0px 1px 2px rgba(0, 0, 0, 0.3));\n",
              "      fill: #FFFFFF;\n",
              "    }\n",
              "  </style>\n",
              "\n",
              "      <script>\n",
              "        const buttonEl =\n",
              "          document.querySelector('#df-b372d8dd-ca21-48cf-bdd6-0d8c410687a2 button.colab-df-convert');\n",
              "        buttonEl.style.display =\n",
              "          google.colab.kernel.accessAllowed ? 'block' : 'none';\n",
              "\n",
              "        async function convertToInteractive(key) {\n",
              "          const element = document.querySelector('#df-b372d8dd-ca21-48cf-bdd6-0d8c410687a2');\n",
              "          const dataTable =\n",
              "            await google.colab.kernel.invokeFunction('convertToInteractive',\n",
              "                                                     [key], {});\n",
              "          if (!dataTable) return;\n",
              "\n",
              "          const docLinkHtml = 'Like what you see? Visit the ' +\n",
              "            '<a target=\"_blank\" href=https://colab.research.google.com/notebooks/data_table.ipynb>data table notebook</a>'\n",
              "            + ' to learn more about interactive tables.';\n",
              "          element.innerHTML = '';\n",
              "          dataTable['output_type'] = 'display_data';\n",
              "          await google.colab.output.renderOutput(dataTable, element);\n",
              "          const docLink = document.createElement('div');\n",
              "          docLink.innerHTML = docLinkHtml;\n",
              "          element.appendChild(docLink);\n",
              "        }\n",
              "      </script>\n",
              "    </div>\n",
              "  </div>\n",
              "  "
            ]
          },
          "metadata": {},
          "execution_count": 12
        }
      ],
      "source": [
        "data.head()"
      ]
    },
    {
      "cell_type": "markdown",
      "id": "9da447f8",
      "metadata": {
        "id": "9da447f8"
      },
      "source": [
        "### 컬럼 설명"
      ]
    },
    {
      "cell_type": "markdown",
      "id": "c3d86b1e",
      "metadata": {
        "id": "c3d86b1e"
      },
      "source": [
        "- **id**:  해당 거래내역에 대한 ID (PK)\n",
        "- **customer_id**:  결제한 고객 ID\n",
        "- **course_id**:  강의 ID, 프로모션에 대해서는 값이 할당되어 있지 않습니다.\n",
        "- **type**:  거래의 종류\n",
        "- **state**:  거래에 대한 상태\n",
        "- **course_title**:  강의 제목\n",
        "- **category_title**:  대분류\n",
        "- **format**:  온라인 강의의 기획 종류\n",
        "- **completed_at**:  state가 COMPLETED로 변경된 시점 (현재 state에는 REQUESTED와 COMPLETED 뿐이기 때문에, REQUESTED였던 거래내역이 COMPLETED로 바뀔 때, 즉 실제 구매가 발생했을 때의 시각)\n",
        "- **transaction_amount**:  최종 결제 금액    (네이버페이 등의 PG사에서 포인트 차감 등으로 sale_price와 차이가 발생할 수 있음)\n",
        "- **coupon_title**:  쿠폰 종류\n",
        "- **coupon_discount_amount**:  쿠폰 할인 금액\n",
        "- **sale_price**:  판매 금액 \n",
        "- **tax_free_amount**:  보안상 공유가 힘듬\n",
        "- **pg**:  PG사 종류 (PG가 null로 되어있는 부분은 default로 세팅된 다른 PG사라고 생각해주시면 됩니다.)\n",
        "- **method**:  결제 방식  (method에 TRANS와 TRANSACTION 같은 데이터이고 무시해도 좋음)\n",
        "- **subcategory_title**:  중분류\n",
        "- **marketing_start_at**:  강의 판매 시점, 웹 페이지 상에 landing page로 올라온 것을 기준 (자세한 사항은 공유가 힘듬) (비어있는 값은 무시해도 좋음)\n",
        "\n",
        ">**type \t유형**<br>\n",
        "　**- ORDER**\t<s>DEPRECATE</s> (ORDER 상태는 2021년 7월까지만 사용하던 상태로, 내부적으로 정의되어 사용되던 것이라 현재는 무시해도 좋음)\n",
        "<br>　<s>- TRANSACTION</s>\tB2B계약결제 (B2B CONTRACT로 생성된 데이터로 무시해도 좋음)\n",
        "<br>　**- PAYMENT**　결제\n",
        "<br>　**- REFUND**　환불\n",
        "\n",
        ">**state\t상태**\n",
        "<br>　**- COMPLETED**　결제 완료\n",
        "<br>　**- REQUESTED**　고객에게 결제 요청\n",
        "<br>　- PENDING　보안 이슈로 공개X\n",
        "<br>　- CANCELLED　보안 이슈로 공개X\n",
        "<br>　- HIDDEN　보안 이슈로 공개X\n",
        "<br>　- DELETE　보안 이슈로 공개X\n",
        "\n",
        "> **format**\n",
        "<br>　- **B2B**\tB2B 온라인 외 기업강의 (기업교육 계약 시 생성)\n",
        "<br>　- **B2B 온라인**\tB2B 온라인 구독제 : 패키지 플랜, 올 플랜 등 패스트캠퍼스 온라인 강의를 구독하는 형식의 상품 (기업교육 계약시 생성)\n",
        "<br>　- **B2G**\tK-Digital Training, K-Digital Credit 등 정부 사업 (커리어 교육 사업 - 무료 과정)\n",
        "<br>　- **MBA**\tMBA (경영학 석사)\n",
        "<br>　- **RED**\t연사 강조 강의\n",
        "<br>　- **관리**\t관리용\n",
        "<br>　- **스쿨**\t커리어 교육 사업 : 오프라인 강의 (Snowball CIC)\n",
        "<br>　- **스쿨 온라인**\t커리어 교육 사업 : 온라인 강의 (Snowball CIC)\n",
        "<br>　- **아카이브**\t아카이브\n",
        "<br>　- **온라인**\t-\n",
        "<br>　- **온라인 완주반**\t온라인 완주 즉, '완강' 시 환급해주는 상품\n",
        "<br>　- **올인원**\t올인원 패키지, 초격차 패키지 등 온라인 강의\n",
        "<br>　- **이벤트**\t이벤트\n",
        "<br>　- **캠프**\t캠프 (오프라인 강의 : 주 2~3회 저녁 or 주말 시간 대 강의 진행)\n",
        "<br>　- **콜로소**\t취미 교육 사업 : 온라인 강의 (콜로소 CIC)\n",
        "<br>　- **하루10분컷**\tSnowball\n",
        "\n",
        "> Q9. coupon_discount_amount가 sale_price보다 크고 transaction_amount가 0보다 큰 데이터가 4개 존재합니다. 쿠폰 금액이 강의 가격보다 더 비싼데 결제를 한 이 데이터들은 어떻게 해석해야할지 여쭤보고 싶습니다.<br>\n",
        "A9. 이 데이터는 무시하셔도 좋습니다. (보안상 이슈로 자세한 답변이 어려움)\n",
        "\n",
        ">A15. 제공되는 데이터는 해당 기간에 발생한 모든 데이터중에 개인정보 이슈가 있는 데이터들만 제외한 데이터입니다. type이 바뀌게 되면 새롭게 row가 추가됩니다.\n"
      ]
    },
    {
      "cell_type": "code",
      "execution_count": 13,
      "id": "28acd2c9",
      "metadata": {
        "ExecuteTime": {
          "end_time": "2022-05-10T17:14:44.265874Z",
          "start_time": "2022-05-10T17:14:44.173861Z"
        },
        "scrolled": false,
        "colab": {
          "base_uri": "https://localhost:8080/",
          "height": 300
        },
        "id": "28acd2c9",
        "outputId": "fff832cf-7067-4c98-a43f-f555aad69e18"
      },
      "outputs": [
        {
          "output_type": "execute_result",
          "data": {
            "text/plain": [
              "                 id    customer_id      course_id  transaction_amount  \\\n",
              "count  1.054190e+05  105416.000000  100212.000000        1.054190e+05   \n",
              "mean   1.147054e+06  417248.252742  203868.586327        1.464814e+05   \n",
              "std    1.125898e+05  206414.496648    1534.583331        7.195061e+05   \n",
              "min    5.679930e+05      16.000000    2516.000000       -4.144074e+06   \n",
              "25%    1.048940e+06  256401.000000  203100.000000        8.350000e+04   \n",
              "50%    1.135186e+06  501046.000000  203787.000000        1.175000e+05   \n",
              "75%    1.240472e+06  566595.000000  204775.000000        1.590000e+05   \n",
              "max    1.381657e+06  672308.000000  207742.000000        1.134000e+08   \n",
              "\n",
              "       coupon_discount_amount    sale_price  tax_free_amount  \n",
              "count            3.181700e+04  1.042910e+05     1.042910e+05  \n",
              "mean             4.972172e+04  1.610808e+05     1.575551e+05  \n",
              "std              5.624467e+04  3.955298e+05     3.898133e+05  \n",
              "min              0.000000e+00  1.000000e+00     0.000000e+00  \n",
              "25%              2.000000e+04  1.090000e+05     1.090000e+05  \n",
              "50%              2.100000e+04  1.320000e+05     1.320000e+05  \n",
              "75%              6.915000e+04  1.710000e+05     1.710000e+05  \n",
              "max              2.000000e+06  9.094000e+07     9.094000e+07  "
            ],
            "text/html": [
              "\n",
              "  <div id=\"df-fd015b35-1472-4c20-9d13-6811becf0b86\">\n",
              "    <div class=\"colab-df-container\">\n",
              "      <div>\n",
              "<style scoped>\n",
              "    .dataframe tbody tr th:only-of-type {\n",
              "        vertical-align: middle;\n",
              "    }\n",
              "\n",
              "    .dataframe tbody tr th {\n",
              "        vertical-align: top;\n",
              "    }\n",
              "\n",
              "    .dataframe thead th {\n",
              "        text-align: right;\n",
              "    }\n",
              "</style>\n",
              "<table border=\"1\" class=\"dataframe\">\n",
              "  <thead>\n",
              "    <tr style=\"text-align: right;\">\n",
              "      <th></th>\n",
              "      <th>id</th>\n",
              "      <th>customer_id</th>\n",
              "      <th>course_id</th>\n",
              "      <th>transaction_amount</th>\n",
              "      <th>coupon_discount_amount</th>\n",
              "      <th>sale_price</th>\n",
              "      <th>tax_free_amount</th>\n",
              "    </tr>\n",
              "  </thead>\n",
              "  <tbody>\n",
              "    <tr>\n",
              "      <th>count</th>\n",
              "      <td>1.054190e+05</td>\n",
              "      <td>105416.000000</td>\n",
              "      <td>100212.000000</td>\n",
              "      <td>1.054190e+05</td>\n",
              "      <td>3.181700e+04</td>\n",
              "      <td>1.042910e+05</td>\n",
              "      <td>1.042910e+05</td>\n",
              "    </tr>\n",
              "    <tr>\n",
              "      <th>mean</th>\n",
              "      <td>1.147054e+06</td>\n",
              "      <td>417248.252742</td>\n",
              "      <td>203868.586327</td>\n",
              "      <td>1.464814e+05</td>\n",
              "      <td>4.972172e+04</td>\n",
              "      <td>1.610808e+05</td>\n",
              "      <td>1.575551e+05</td>\n",
              "    </tr>\n",
              "    <tr>\n",
              "      <th>std</th>\n",
              "      <td>1.125898e+05</td>\n",
              "      <td>206414.496648</td>\n",
              "      <td>1534.583331</td>\n",
              "      <td>7.195061e+05</td>\n",
              "      <td>5.624467e+04</td>\n",
              "      <td>3.955298e+05</td>\n",
              "      <td>3.898133e+05</td>\n",
              "    </tr>\n",
              "    <tr>\n",
              "      <th>min</th>\n",
              "      <td>5.679930e+05</td>\n",
              "      <td>16.000000</td>\n",
              "      <td>2516.000000</td>\n",
              "      <td>-4.144074e+06</td>\n",
              "      <td>0.000000e+00</td>\n",
              "      <td>1.000000e+00</td>\n",
              "      <td>0.000000e+00</td>\n",
              "    </tr>\n",
              "    <tr>\n",
              "      <th>25%</th>\n",
              "      <td>1.048940e+06</td>\n",
              "      <td>256401.000000</td>\n",
              "      <td>203100.000000</td>\n",
              "      <td>8.350000e+04</td>\n",
              "      <td>2.000000e+04</td>\n",
              "      <td>1.090000e+05</td>\n",
              "      <td>1.090000e+05</td>\n",
              "    </tr>\n",
              "    <tr>\n",
              "      <th>50%</th>\n",
              "      <td>1.135186e+06</td>\n",
              "      <td>501046.000000</td>\n",
              "      <td>203787.000000</td>\n",
              "      <td>1.175000e+05</td>\n",
              "      <td>2.100000e+04</td>\n",
              "      <td>1.320000e+05</td>\n",
              "      <td>1.320000e+05</td>\n",
              "    </tr>\n",
              "    <tr>\n",
              "      <th>75%</th>\n",
              "      <td>1.240472e+06</td>\n",
              "      <td>566595.000000</td>\n",
              "      <td>204775.000000</td>\n",
              "      <td>1.590000e+05</td>\n",
              "      <td>6.915000e+04</td>\n",
              "      <td>1.710000e+05</td>\n",
              "      <td>1.710000e+05</td>\n",
              "    </tr>\n",
              "    <tr>\n",
              "      <th>max</th>\n",
              "      <td>1.381657e+06</td>\n",
              "      <td>672308.000000</td>\n",
              "      <td>207742.000000</td>\n",
              "      <td>1.134000e+08</td>\n",
              "      <td>2.000000e+06</td>\n",
              "      <td>9.094000e+07</td>\n",
              "      <td>9.094000e+07</td>\n",
              "    </tr>\n",
              "  </tbody>\n",
              "</table>\n",
              "</div>\n",
              "      <button class=\"colab-df-convert\" onclick=\"convertToInteractive('df-fd015b35-1472-4c20-9d13-6811becf0b86')\"\n",
              "              title=\"Convert this dataframe to an interactive table.\"\n",
              "              style=\"display:none;\">\n",
              "        \n",
              "  <svg xmlns=\"http://www.w3.org/2000/svg\" height=\"24px\"viewBox=\"0 0 24 24\"\n",
              "       width=\"24px\">\n",
              "    <path d=\"M0 0h24v24H0V0z\" fill=\"none\"/>\n",
              "    <path d=\"M18.56 5.44l.94 2.06.94-2.06 2.06-.94-2.06-.94-.94-2.06-.94 2.06-2.06.94zm-11 1L8.5 8.5l.94-2.06 2.06-.94-2.06-.94L8.5 2.5l-.94 2.06-2.06.94zm10 10l.94 2.06.94-2.06 2.06-.94-2.06-.94-.94-2.06-.94 2.06-2.06.94z\"/><path d=\"M17.41 7.96l-1.37-1.37c-.4-.4-.92-.59-1.43-.59-.52 0-1.04.2-1.43.59L10.3 9.45l-7.72 7.72c-.78.78-.78 2.05 0 2.83L4 21.41c.39.39.9.59 1.41.59.51 0 1.02-.2 1.41-.59l7.78-7.78 2.81-2.81c.8-.78.8-2.07 0-2.86zM5.41 20L4 18.59l7.72-7.72 1.47 1.35L5.41 20z\"/>\n",
              "  </svg>\n",
              "      </button>\n",
              "      \n",
              "  <style>\n",
              "    .colab-df-container {\n",
              "      display:flex;\n",
              "      flex-wrap:wrap;\n",
              "      gap: 12px;\n",
              "    }\n",
              "\n",
              "    .colab-df-convert {\n",
              "      background-color: #E8F0FE;\n",
              "      border: none;\n",
              "      border-radius: 50%;\n",
              "      cursor: pointer;\n",
              "      display: none;\n",
              "      fill: #1967D2;\n",
              "      height: 32px;\n",
              "      padding: 0 0 0 0;\n",
              "      width: 32px;\n",
              "    }\n",
              "\n",
              "    .colab-df-convert:hover {\n",
              "      background-color: #E2EBFA;\n",
              "      box-shadow: 0px 1px 2px rgba(60, 64, 67, 0.3), 0px 1px 3px 1px rgba(60, 64, 67, 0.15);\n",
              "      fill: #174EA6;\n",
              "    }\n",
              "\n",
              "    [theme=dark] .colab-df-convert {\n",
              "      background-color: #3B4455;\n",
              "      fill: #D2E3FC;\n",
              "    }\n",
              "\n",
              "    [theme=dark] .colab-df-convert:hover {\n",
              "      background-color: #434B5C;\n",
              "      box-shadow: 0px 1px 3px 1px rgba(0, 0, 0, 0.15);\n",
              "      filter: drop-shadow(0px 1px 2px rgba(0, 0, 0, 0.3));\n",
              "      fill: #FFFFFF;\n",
              "    }\n",
              "  </style>\n",
              "\n",
              "      <script>\n",
              "        const buttonEl =\n",
              "          document.querySelector('#df-fd015b35-1472-4c20-9d13-6811becf0b86 button.colab-df-convert');\n",
              "        buttonEl.style.display =\n",
              "          google.colab.kernel.accessAllowed ? 'block' : 'none';\n",
              "\n",
              "        async function convertToInteractive(key) {\n",
              "          const element = document.querySelector('#df-fd015b35-1472-4c20-9d13-6811becf0b86');\n",
              "          const dataTable =\n",
              "            await google.colab.kernel.invokeFunction('convertToInteractive',\n",
              "                                                     [key], {});\n",
              "          if (!dataTable) return;\n",
              "\n",
              "          const docLinkHtml = 'Like what you see? Visit the ' +\n",
              "            '<a target=\"_blank\" href=https://colab.research.google.com/notebooks/data_table.ipynb>data table notebook</a>'\n",
              "            + ' to learn more about interactive tables.';\n",
              "          element.innerHTML = '';\n",
              "          dataTable['output_type'] = 'display_data';\n",
              "          await google.colab.output.renderOutput(dataTable, element);\n",
              "          const docLink = document.createElement('div');\n",
              "          docLink.innerHTML = docLinkHtml;\n",
              "          element.appendChild(docLink);\n",
              "        }\n",
              "      </script>\n",
              "    </div>\n",
              "  </div>\n",
              "  "
            ]
          },
          "metadata": {},
          "execution_count": 13
        }
      ],
      "source": [
        "data.describe()"
      ]
    },
    {
      "cell_type": "markdown",
      "id": "a693868d",
      "metadata": {
        "id": "a693868d"
      },
      "source": [
        "### 데이터 type 확인"
      ]
    },
    {
      "cell_type": "code",
      "execution_count": 14,
      "id": "f2beb023",
      "metadata": {
        "ExecuteTime": {
          "end_time": "2022-05-10T17:14:45.384349Z",
          "start_time": "2022-05-10T17:14:45.323357Z"
        },
        "scrolled": false,
        "colab": {
          "base_uri": "https://localhost:8080/"
        },
        "id": "f2beb023",
        "outputId": "6aaae5a8-7612-43c4-f49d-a82f8fdb1e4e"
      },
      "outputs": [
        {
          "output_type": "stream",
          "name": "stdout",
          "text": [
            "<class 'pandas.core.frame.DataFrame'>\n",
            "RangeIndex: 105419 entries, 0 to 105418\n",
            "Data columns (total 18 columns):\n",
            " #   Column                  Non-Null Count   Dtype  \n",
            "---  ------                  --------------   -----  \n",
            " 0   id                      105419 non-null  int64  \n",
            " 1   customer_id             105416 non-null  float64\n",
            " 2   course_id               100212 non-null  float64\n",
            " 3   type                    105419 non-null  object \n",
            " 4   state                   105419 non-null  object \n",
            " 5   course_title            105403 non-null  object \n",
            " 6   category_title          105395 non-null  object \n",
            " 7   format                  105403 non-null  object \n",
            " 8   completed_at            105419 non-null  object \n",
            " 9   transaction_amount      105419 non-null  int64  \n",
            " 10  coupon_title            31817 non-null   object \n",
            " 11  coupon_discount_amount  31817 non-null   float64\n",
            " 12  sale_price              104291 non-null  float64\n",
            " 13  tax_free_amount         104291 non-null  float64\n",
            " 14  pg                      90344 non-null   object \n",
            " 15  method                  92323 non-null   object \n",
            " 16  subcategory_title       85590 non-null   object \n",
            " 17  marketing_start_at      87440 non-null   object \n",
            "dtypes: float64(5), int64(2), object(11)\n",
            "memory usage: 14.5+ MB\n"
          ]
        }
      ],
      "source": [
        "data.info()"
      ]
    },
    {
      "cell_type": "markdown",
      "id": "3eebae5d",
      "metadata": {
        "ExecuteTime": {
          "end_time": "2022-05-09T04:07:50.666771Z",
          "start_time": "2022-05-09T04:07:50.655769Z"
        },
        "id": "3eebae5d"
      },
      "source": [
        "### 결측값/결측비율 확인"
      ]
    },
    {
      "cell_type": "code",
      "execution_count": 15,
      "id": "13dd8b8f",
      "metadata": {
        "ExecuteTime": {
          "end_time": "2022-05-10T17:14:46.337947Z",
          "start_time": "2022-05-10T17:14:46.228941Z"
        },
        "colab": {
          "base_uri": "https://localhost:8080/"
        },
        "id": "13dd8b8f",
        "outputId": "9b2f33f0-aec4-46e2-c422-d85382a21661"
      },
      "outputs": [
        {
          "output_type": "stream",
          "name": "stdout",
          "text": [
            "───[결측값]────────────────────────\n",
            "id                            0\n",
            "customer_id                   3\n",
            "course_id                  5207\n",
            "type                          0\n",
            "state                         0\n",
            "course_title                 16\n",
            "category_title               24\n",
            "format                       16\n",
            "completed_at                  0\n",
            "transaction_amount            0\n",
            "coupon_title              73602\n",
            "coupon_discount_amount    73602\n",
            "sale_price                 1128\n",
            "tax_free_amount            1128\n",
            "pg                        15075\n",
            "method                    13096\n",
            "subcategory_title         19829\n",
            "marketing_start_at        17979\n",
            "dtype: int64\n",
            "\n",
            "───[결측비율]────────────────────────\n",
            "id                         0.000000\n",
            "customer_id                0.002846\n",
            "course_id                  4.939337\n",
            "type                       0.000000\n",
            "state                      0.000000\n",
            "course_title               0.015178\n",
            "category_title             0.022766\n",
            "format                     0.015178\n",
            "completed_at               0.000000\n",
            "transaction_amount         0.000000\n",
            "coupon_title              69.818534\n",
            "coupon_discount_amount    69.818534\n",
            "sale_price                 1.070016\n",
            "tax_free_amount            1.070016\n",
            "pg                        14.300079\n",
            "method                    12.422808\n",
            "subcategory_title         18.809702\n",
            "marketing_start_at        17.054800\n",
            "dtype: float64\n"
          ]
        }
      ],
      "source": [
        "print('───[결측값]────────────────────────')\n",
        "print(data.isna().sum())\n",
        "print()\n",
        "print('───[결측비율]────────────────────────')\n",
        "print(data.isna().sum() / len(data) *100)"
      ]
    },
    {
      "cell_type": "markdown",
      "id": "28788906",
      "metadata": {
        "id": "28788906"
      },
      "source": [
        "### 불필요한 컬럼 제거"
      ]
    },
    {
      "cell_type": "code",
      "execution_count": 16,
      "id": "257d3ec9",
      "metadata": {
        "ExecuteTime": {
          "end_time": "2022-05-10T17:25:32.568716Z",
          "start_time": "2022-05-10T17:25:32.516713Z"
        },
        "scrolled": true,
        "colab": {
          "base_uri": "https://localhost:8080/",
          "height": 250
        },
        "id": "257d3ec9",
        "outputId": "35b5c541-b786-4a70-b18d-5720c809aa22"
      },
      "outputs": [
        {
          "output_type": "execute_result",
          "data": {
            "text/plain": [
              "       id  customer_id  course_id     type      state  \\\n",
              "0  970634     504760.0   201435.0    ORDER  CANCELLED   \n",
              "1  970650     432862.0   203178.0    ORDER  CANCELLED   \n",
              "2  970657      72297.0   204246.0  PAYMENT  COMPLETED   \n",
              "3  970656      72297.0   204246.0    ORDER  CANCELLED   \n",
              "4  970658     478028.0   201797.0  PAYMENT  COMPLETED   \n",
              "\n",
              "                    course_title category_title  format         completed_at  \\\n",
              "0      올인원 패키지 : 알고리즘 기술면접 완전 정복          프로그래밍     올인원  2021-03-28 15:00:11   \n",
              "1    초격차 패키지 : 한번에 끝내는 영상 촬영과 편집          영상/3D     올인원  2021-03-28 15:16:53   \n",
              "2           시크릿코드 : 프론트엔드 실무 완성편          프로그래밍  스쿨 온라인  2021-03-28 15:21:43   \n",
              "3           시크릿코드 : 프론트엔드 실무 완성편          프로그래밍  스쿨 온라인  2021-03-28 15:21:43   \n",
              "4  올인원 패키지 : 직장인 필수 스킬 3종 세트 MAX         업무 생산성     올인원  2021-03-28 15:21:54   \n",
              "\n",
              "   transaction_amount              coupon_title  coupon_discount_amount  \\\n",
              "0               90500                       NaN                     NaN   \n",
              "1               96000                       NaN                     NaN   \n",
              "2              171810     [10% 할인] 시크릿코드 실무 완성편                 19090.0   \n",
              "3              171810                       NaN                     NaN   \n",
              "4               97500  [웰컴쿠폰] 올인원 패키지 2만원 할인 쿠폰                 20000.0   \n",
              "\n",
              "   sale_price   pg subcategory_title  marketing_start_at  \n",
              "0    110500.0  NaN           개발자 커리어                 NaN  \n",
              "1    116000.0  NaN             영상 편집  2020-12-02 0:00:00  \n",
              "2    190900.0  NaN               NaN  2021-03-04 0:00:00  \n",
              "3    190900.0  NaN               NaN  2021-03-04 0:00:00  \n",
              "4    117500.0  NaN           PPT/보고서  2019-11-14 0:00:00  "
            ],
            "text/html": [
              "\n",
              "  <div id=\"df-de715aaf-3c8d-4645-b004-135480c9c372\">\n",
              "    <div class=\"colab-df-container\">\n",
              "      <div>\n",
              "<style scoped>\n",
              "    .dataframe tbody tr th:only-of-type {\n",
              "        vertical-align: middle;\n",
              "    }\n",
              "\n",
              "    .dataframe tbody tr th {\n",
              "        vertical-align: top;\n",
              "    }\n",
              "\n",
              "    .dataframe thead th {\n",
              "        text-align: right;\n",
              "    }\n",
              "</style>\n",
              "<table border=\"1\" class=\"dataframe\">\n",
              "  <thead>\n",
              "    <tr style=\"text-align: right;\">\n",
              "      <th></th>\n",
              "      <th>id</th>\n",
              "      <th>customer_id</th>\n",
              "      <th>course_id</th>\n",
              "      <th>type</th>\n",
              "      <th>state</th>\n",
              "      <th>course_title</th>\n",
              "      <th>category_title</th>\n",
              "      <th>format</th>\n",
              "      <th>completed_at</th>\n",
              "      <th>transaction_amount</th>\n",
              "      <th>coupon_title</th>\n",
              "      <th>coupon_discount_amount</th>\n",
              "      <th>sale_price</th>\n",
              "      <th>pg</th>\n",
              "      <th>subcategory_title</th>\n",
              "      <th>marketing_start_at</th>\n",
              "    </tr>\n",
              "  </thead>\n",
              "  <tbody>\n",
              "    <tr>\n",
              "      <th>0</th>\n",
              "      <td>970634</td>\n",
              "      <td>504760.0</td>\n",
              "      <td>201435.0</td>\n",
              "      <td>ORDER</td>\n",
              "      <td>CANCELLED</td>\n",
              "      <td>올인원 패키지 : 알고리즘 기술면접 완전 정복</td>\n",
              "      <td>프로그래밍</td>\n",
              "      <td>올인원</td>\n",
              "      <td>2021-03-28 15:00:11</td>\n",
              "      <td>90500</td>\n",
              "      <td>NaN</td>\n",
              "      <td>NaN</td>\n",
              "      <td>110500.0</td>\n",
              "      <td>NaN</td>\n",
              "      <td>개발자 커리어</td>\n",
              "      <td>NaN</td>\n",
              "    </tr>\n",
              "    <tr>\n",
              "      <th>1</th>\n",
              "      <td>970650</td>\n",
              "      <td>432862.0</td>\n",
              "      <td>203178.0</td>\n",
              "      <td>ORDER</td>\n",
              "      <td>CANCELLED</td>\n",
              "      <td>초격차 패키지 : 한번에 끝내는 영상 촬영과 편집</td>\n",
              "      <td>영상/3D</td>\n",
              "      <td>올인원</td>\n",
              "      <td>2021-03-28 15:16:53</td>\n",
              "      <td>96000</td>\n",
              "      <td>NaN</td>\n",
              "      <td>NaN</td>\n",
              "      <td>116000.0</td>\n",
              "      <td>NaN</td>\n",
              "      <td>영상 편집</td>\n",
              "      <td>2020-12-02 0:00:00</td>\n",
              "    </tr>\n",
              "    <tr>\n",
              "      <th>2</th>\n",
              "      <td>970657</td>\n",
              "      <td>72297.0</td>\n",
              "      <td>204246.0</td>\n",
              "      <td>PAYMENT</td>\n",
              "      <td>COMPLETED</td>\n",
              "      <td>시크릿코드 : 프론트엔드 실무 완성편</td>\n",
              "      <td>프로그래밍</td>\n",
              "      <td>스쿨 온라인</td>\n",
              "      <td>2021-03-28 15:21:43</td>\n",
              "      <td>171810</td>\n",
              "      <td>[10% 할인] 시크릿코드 실무 완성편</td>\n",
              "      <td>19090.0</td>\n",
              "      <td>190900.0</td>\n",
              "      <td>NaN</td>\n",
              "      <td>NaN</td>\n",
              "      <td>2021-03-04 0:00:00</td>\n",
              "    </tr>\n",
              "    <tr>\n",
              "      <th>3</th>\n",
              "      <td>970656</td>\n",
              "      <td>72297.0</td>\n",
              "      <td>204246.0</td>\n",
              "      <td>ORDER</td>\n",
              "      <td>CANCELLED</td>\n",
              "      <td>시크릿코드 : 프론트엔드 실무 완성편</td>\n",
              "      <td>프로그래밍</td>\n",
              "      <td>스쿨 온라인</td>\n",
              "      <td>2021-03-28 15:21:43</td>\n",
              "      <td>171810</td>\n",
              "      <td>NaN</td>\n",
              "      <td>NaN</td>\n",
              "      <td>190900.0</td>\n",
              "      <td>NaN</td>\n",
              "      <td>NaN</td>\n",
              "      <td>2021-03-04 0:00:00</td>\n",
              "    </tr>\n",
              "    <tr>\n",
              "      <th>4</th>\n",
              "      <td>970658</td>\n",
              "      <td>478028.0</td>\n",
              "      <td>201797.0</td>\n",
              "      <td>PAYMENT</td>\n",
              "      <td>COMPLETED</td>\n",
              "      <td>올인원 패키지 : 직장인 필수 스킬 3종 세트 MAX</td>\n",
              "      <td>업무 생산성</td>\n",
              "      <td>올인원</td>\n",
              "      <td>2021-03-28 15:21:54</td>\n",
              "      <td>97500</td>\n",
              "      <td>[웰컴쿠폰] 올인원 패키지 2만원 할인 쿠폰</td>\n",
              "      <td>20000.0</td>\n",
              "      <td>117500.0</td>\n",
              "      <td>NaN</td>\n",
              "      <td>PPT/보고서</td>\n",
              "      <td>2019-11-14 0:00:00</td>\n",
              "    </tr>\n",
              "  </tbody>\n",
              "</table>\n",
              "</div>\n",
              "      <button class=\"colab-df-convert\" onclick=\"convertToInteractive('df-de715aaf-3c8d-4645-b004-135480c9c372')\"\n",
              "              title=\"Convert this dataframe to an interactive table.\"\n",
              "              style=\"display:none;\">\n",
              "        \n",
              "  <svg xmlns=\"http://www.w3.org/2000/svg\" height=\"24px\"viewBox=\"0 0 24 24\"\n",
              "       width=\"24px\">\n",
              "    <path d=\"M0 0h24v24H0V0z\" fill=\"none\"/>\n",
              "    <path d=\"M18.56 5.44l.94 2.06.94-2.06 2.06-.94-2.06-.94-.94-2.06-.94 2.06-2.06.94zm-11 1L8.5 8.5l.94-2.06 2.06-.94-2.06-.94L8.5 2.5l-.94 2.06-2.06.94zm10 10l.94 2.06.94-2.06 2.06-.94-2.06-.94-.94-2.06-.94 2.06-2.06.94z\"/><path d=\"M17.41 7.96l-1.37-1.37c-.4-.4-.92-.59-1.43-.59-.52 0-1.04.2-1.43.59L10.3 9.45l-7.72 7.72c-.78.78-.78 2.05 0 2.83L4 21.41c.39.39.9.59 1.41.59.51 0 1.02-.2 1.41-.59l7.78-7.78 2.81-2.81c.8-.78.8-2.07 0-2.86zM5.41 20L4 18.59l7.72-7.72 1.47 1.35L5.41 20z\"/>\n",
              "  </svg>\n",
              "      </button>\n",
              "      \n",
              "  <style>\n",
              "    .colab-df-container {\n",
              "      display:flex;\n",
              "      flex-wrap:wrap;\n",
              "      gap: 12px;\n",
              "    }\n",
              "\n",
              "    .colab-df-convert {\n",
              "      background-color: #E8F0FE;\n",
              "      border: none;\n",
              "      border-radius: 50%;\n",
              "      cursor: pointer;\n",
              "      display: none;\n",
              "      fill: #1967D2;\n",
              "      height: 32px;\n",
              "      padding: 0 0 0 0;\n",
              "      width: 32px;\n",
              "    }\n",
              "\n",
              "    .colab-df-convert:hover {\n",
              "      background-color: #E2EBFA;\n",
              "      box-shadow: 0px 1px 2px rgba(60, 64, 67, 0.3), 0px 1px 3px 1px rgba(60, 64, 67, 0.15);\n",
              "      fill: #174EA6;\n",
              "    }\n",
              "\n",
              "    [theme=dark] .colab-df-convert {\n",
              "      background-color: #3B4455;\n",
              "      fill: #D2E3FC;\n",
              "    }\n",
              "\n",
              "    [theme=dark] .colab-df-convert:hover {\n",
              "      background-color: #434B5C;\n",
              "      box-shadow: 0px 1px 3px 1px rgba(0, 0, 0, 0.15);\n",
              "      filter: drop-shadow(0px 1px 2px rgba(0, 0, 0, 0.3));\n",
              "      fill: #FFFFFF;\n",
              "    }\n",
              "  </style>\n",
              "\n",
              "      <script>\n",
              "        const buttonEl =\n",
              "          document.querySelector('#df-de715aaf-3c8d-4645-b004-135480c9c372 button.colab-df-convert');\n",
              "        buttonEl.style.display =\n",
              "          google.colab.kernel.accessAllowed ? 'block' : 'none';\n",
              "\n",
              "        async function convertToInteractive(key) {\n",
              "          const element = document.querySelector('#df-de715aaf-3c8d-4645-b004-135480c9c372');\n",
              "          const dataTable =\n",
              "            await google.colab.kernel.invokeFunction('convertToInteractive',\n",
              "                                                     [key], {});\n",
              "          if (!dataTable) return;\n",
              "\n",
              "          const docLinkHtml = 'Like what you see? Visit the ' +\n",
              "            '<a target=\"_blank\" href=https://colab.research.google.com/notebooks/data_table.ipynb>data table notebook</a>'\n",
              "            + ' to learn more about interactive tables.';\n",
              "          element.innerHTML = '';\n",
              "          dataTable['output_type'] = 'display_data';\n",
              "          await google.colab.output.renderOutput(dataTable, element);\n",
              "          const docLink = document.createElement('div');\n",
              "          docLink.innerHTML = docLinkHtml;\n",
              "          element.appendChild(docLink);\n",
              "        }\n",
              "      </script>\n",
              "    </div>\n",
              "  </div>\n",
              "  "
            ]
          },
          "metadata": {},
          "execution_count": 16
        }
      ],
      "source": [
        "df = data.drop(['tax_free_amount','method'], axis =1)\n",
        "df.head()"
      ]
    },
    {
      "cell_type": "markdown",
      "id": "cf9497aa",
      "metadata": {
        "id": "cf9497aa"
      },
      "source": [
        "## 데이터 분포 확인"
      ]
    },
    {
      "cell_type": "code",
      "execution_count": 17,
      "id": "65d27fe0",
      "metadata": {
        "ExecuteTime": {
          "end_time": "2022-05-10T17:14:49.529342Z",
          "start_time": "2022-05-10T17:14:49.331284Z"
        },
        "colab": {
          "base_uri": "https://localhost:8080/"
        },
        "id": "65d27fe0",
        "outputId": "afd3cca5-e991-480f-b7ae-9368c5080f6e"
      },
      "outputs": [
        {
          "output_type": "stream",
          "name": "stdout",
          "text": [
            "id 105419\n",
            "customer_id 53753\n",
            "course_id 1347\n",
            "type 4\n",
            "state 5\n",
            "course_title 1641\n",
            "category_title 16\n",
            "format 16\n",
            "completed_at 98573\n",
            "transaction_amount 2393\n",
            "coupon_title 494\n",
            "coupon_discount_amount 773\n",
            "sale_price 550\n",
            "pg 5\n",
            "subcategory_title 33\n",
            "marketing_start_at 179\n"
          ]
        }
      ],
      "source": [
        "for col_nm in df.columns:\n",
        "    print(col_nm, df[col_nm].nunique())"
      ]
    },
    {
      "cell_type": "code",
      "source": [
        "df.isnull().sum()"
      ],
      "metadata": {
        "colab": {
          "base_uri": "https://localhost:8080/"
        },
        "id": "hqEBbF_dpbop",
        "outputId": "8629c373-ffb3-4836-9024-69c03d358dbe"
      },
      "id": "hqEBbF_dpbop",
      "execution_count": 18,
      "outputs": [
        {
          "output_type": "execute_result",
          "data": {
            "text/plain": [
              "id                            0\n",
              "customer_id                   3\n",
              "course_id                  5207\n",
              "type                          0\n",
              "state                         0\n",
              "course_title                 16\n",
              "category_title               24\n",
              "format                       16\n",
              "completed_at                  0\n",
              "transaction_amount            0\n",
              "coupon_title              73602\n",
              "coupon_discount_amount    73602\n",
              "sale_price                 1128\n",
              "pg                        15075\n",
              "subcategory_title         19829\n",
              "marketing_start_at        17979\n",
              "dtype: int64"
            ]
          },
          "metadata": {},
          "execution_count": 18
        }
      ]
    },
    {
      "cell_type": "code",
      "execution_count": 19,
      "id": "519b2139",
      "metadata": {
        "ExecuteTime": {
          "end_time": "2022-05-10T17:16:58.285312Z",
          "start_time": "2022-05-10T17:16:58.258370Z"
        },
        "colab": {
          "base_uri": "https://localhost:8080/"
        },
        "id": "519b2139",
        "outputId": "2ebadb19-4075-487f-c437-5158e37c7fe7"
      },
      "outputs": [
        {
          "output_type": "execute_result",
          "data": {
            "text/plain": [
              "Index(['id', 'customer_id', 'course_id', 'type', 'state', 'course_title',\n",
              "       'category_title', 'format', 'completed_at', 'transaction_amount',\n",
              "       'coupon_title', 'coupon_discount_amount', 'sale_price', 'pg',\n",
              "       'subcategory_title', 'marketing_start_at'],\n",
              "      dtype='object')"
            ]
          },
          "metadata": {},
          "execution_count": 19
        }
      ],
      "source": [
        "df.columns"
      ]
    },
    {
      "cell_type": "code",
      "execution_count": 20,
      "id": "40469920",
      "metadata": {
        "ExecuteTime": {
          "end_time": "2022-05-10T17:16:58.780866Z",
          "start_time": "2022-05-10T17:16:58.764804Z"
        },
        "colab": {
          "base_uri": "https://localhost:8080/"
        },
        "id": "40469920",
        "outputId": "69479853-64cc-49b8-9b5a-227d6629aaaf"
      },
      "outputs": [
        {
          "output_type": "stream",
          "name": "stdout",
          "text": [
            "['프로그래밍' '영상/3D' '업무 생산성' '크리에이티브' '부동산/금융' '데이터사이언스' '디자인' '마케팅' '교육'\n",
            " '투자/재테크' nan '관리' '데이터 사이언스' '비즈니스' '지식콘텐츠' '일러스트' '파이낸스']\n",
            "17\n"
          ]
        }
      ],
      "source": [
        "print(df['category_title'].unique())\n",
        "print(len(df['category_title'].unique()))"
      ]
    },
    {
      "cell_type": "code",
      "execution_count": 21,
      "id": "8c935986",
      "metadata": {
        "ExecuteTime": {
          "end_time": "2022-05-10T17:16:59.506613Z",
          "start_time": "2022-05-10T17:16:59.482584Z"
        },
        "colab": {
          "base_uri": "https://localhost:8080/"
        },
        "id": "8c935986",
        "outputId": "edea07c4-e9e9-4402-d3f5-027d26194618"
      },
      "outputs": [
        {
          "output_type": "stream",
          "name": "stdout",
          "text": [
            "['개발자 커리어' '영상 편집' nan 'PPT/보고서' '금융/투자 실무' '프론트엔드 개발' 'DevOps' 'UX/UI'\n",
            " '머신러닝' '모션그래픽' '딥러닝/인공지능' '글쓰기/카피라이팅' '디지털마케팅' '엑셀/VBA' '데이터분석' '디자인툴'\n",
            " '모바일앱' '업무자동화' 'SNS마케팅' '게임' '회계/재무/세무' '부동산 개발' '시각디자인' '백엔드 개발'\n",
            " '데이터마케팅' '일러스트' '부동산 투자' '코딩 입문' '커뮤니케이션' '리더십' '주식 투자' '게임 그래픽'\n",
            " '데이터엔지니어링' 'VFX']\n",
            "34\n"
          ]
        }
      ],
      "source": [
        "print(df['subcategory_title'].unique())\n",
        "print(len(df['subcategory_title'].unique()))"
      ]
    },
    {
      "cell_type": "code",
      "execution_count": 22,
      "id": "5667d036",
      "metadata": {
        "ExecuteTime": {
          "end_time": "2022-05-10T17:17:04.061212Z",
          "start_time": "2022-05-10T17:17:04.044155Z"
        },
        "colab": {
          "base_uri": "https://localhost:8080/"
        },
        "id": "5667d036",
        "outputId": "dd96ebd1-3d64-45cf-9b49-25710ca7f6ef"
      },
      "outputs": [
        {
          "output_type": "stream",
          "name": "stdout",
          "text": [
            "['올인원' '스쿨 온라인' '온라인 완주반' 'RED' 'B2B 온라인' '캠프' '스쿨' nan 'B2B' '이벤트'\n",
            " '하루10분컷' '아카이브' '관리' '온라인' 'MBA' '콜로소' 'B2G']\n",
            "17\n"
          ]
        }
      ],
      "source": [
        "print(df['format'].unique())\n",
        "print(len(df['format'].unique()))"
      ]
    },
    {
      "cell_type": "code",
      "execution_count": 23,
      "id": "3eeac48a",
      "metadata": {
        "ExecuteTime": {
          "end_time": "2022-05-10T17:17:08.186525Z",
          "start_time": "2022-05-10T17:17:08.167526Z"
        },
        "colab": {
          "base_uri": "https://localhost:8080/"
        },
        "id": "3eeac48a",
        "outputId": "9597c187-c709-40e3-d754-6f535e5cfd33"
      },
      "outputs": [
        {
          "output_type": "execute_result",
          "data": {
            "text/plain": [
              "array(['ORDER', 'PAYMENT', 'REFUND', 'TRANSACTION'], dtype=object)"
            ]
          },
          "metadata": {},
          "execution_count": 23
        }
      ],
      "source": [
        "df['type'].unique()"
      ]
    },
    {
      "cell_type": "code",
      "execution_count": 24,
      "id": "3cc520fb",
      "metadata": {
        "ExecuteTime": {
          "end_time": "2022-05-10T17:17:08.548897Z",
          "start_time": "2022-05-10T17:17:08.523892Z"
        },
        "colab": {
          "base_uri": "https://localhost:8080/"
        },
        "id": "3cc520fb",
        "outputId": "6a206afb-363a-463d-ca73-49aff5641c5b"
      },
      "outputs": [
        {
          "output_type": "execute_result",
          "data": {
            "text/plain": [
              "array(['CANCELLED', 'COMPLETED', 'PENDING', 'DELETED', 'REQUESTED'],\n",
              "      dtype=object)"
            ]
          },
          "metadata": {},
          "execution_count": 24
        }
      ],
      "source": [
        "df['state'].unique()"
      ]
    },
    {
      "cell_type": "code",
      "execution_count": 25,
      "id": "0da454e6",
      "metadata": {
        "ExecuteTime": {
          "end_time": "2022-05-10T17:18:32.901961Z",
          "start_time": "2022-05-10T17:18:32.882962Z"
        },
        "colab": {
          "base_uri": "https://localhost:8080/"
        },
        "id": "0da454e6",
        "outputId": "62be066a-e60b-4ba3-fb4e-c8706331c499"
      },
      "outputs": [
        {
          "output_type": "stream",
          "name": "stdout",
          "text": [
            "[nan 'INICIS' 'KAKAO' 'CHAI' 'PAYCO' 'NAVER']\n",
            "6\n"
          ]
        }
      ],
      "source": [
        "print(df['pg'].unique())\n",
        "print(len(df['pg'].unique()))"
      ]
    },
    {
      "cell_type": "markdown",
      "metadata": {
        "id": "294ee4d5"
      },
      "source": [
        "### 데이터 전처리"
      ],
      "id": "294ee4d5"
    },
    {
      "cell_type": "markdown",
      "metadata": {
        "id": "da05b438"
      },
      "source": [
        "<s>데이터 사이언스    → 데이터사이언스 \n",
        "<br>비즈니스    → 업무 생산성          으로 통합\n",
        "<br> 지식콘텐츠    → 업무 생산성          으로 통합\n",
        "<br> 일러스트    → 디자인                  으로 통합\n",
        "<br> 파이낸스    → 부동산/금융         으로 통합</s>\n",
        "\n",
        "------------------------------------------------------------------\n",
        "**Fixed 'category_title'**\n",
        "<br> 1    프로그래밍\n",
        "<br> 2    영상/3D\n",
        "<br> 3    업무 생산성    + 비즈니스,  지식콘텐츠\n",
        "<br> 4    크리에이티브\n",
        "<br> 5    부동산/금융    + 파이낸스\n",
        "<br> 6    데이터사이언스    + 데이터 사이언스\n",
        "<br> 7    디자인    + 일러스트\n",
        "<br> 8    마케팅\n",
        "<br> 9    교육\n",
        "<br> 10  투자/재테크\n",
        "\n",
        "------------------------------------------------------------------\n",
        "그 외, 아래 2개 카테고리는 제거하기로 결정\n",
        "<br><s> NaN : 삭제\n",
        "<br> 관리 : 삭제</s>"
      ],
      "id": "da05b438"
    },
    {
      "cell_type": "code",
      "source": [
        "df[df['category_title'] == '관리']"
      ],
      "metadata": {
        "colab": {
          "base_uri": "https://localhost:8080/",
          "height": 112
        },
        "id": "DNzx2Qm8mU4o",
        "outputId": "a820c4f6-2493-4c05-f1d4-462862ab78d4"
      },
      "id": "DNzx2Qm8mU4o",
      "execution_count": 26,
      "outputs": [
        {
          "output_type": "execute_result",
          "data": {
            "text/plain": [
              "            id  customer_id  course_id     type      state  \\\n",
              "32619  1067141     496508.0   205233.0    ORDER  CANCELLED   \n",
              "32620  1067142     496508.0   205233.0  PAYMENT  COMPLETED   \n",
              "\n",
              "                       course_title category_title format  \\\n",
              "32619  (TEST) 오프라인 과세 상품 결제 테스트용 상품             관리     관리   \n",
              "32620  (TEST) 오프라인 과세 상품 결제 테스트용 상품             관리     관리   \n",
              "\n",
              "              completed_at  transaction_amount coupon_title  \\\n",
              "32619  2021-05-12 17:31:06              150000          NaN   \n",
              "32620  2021-05-12 17:31:06              150000          NaN   \n",
              "\n",
              "       coupon_discount_amount  sale_price     pg subcategory_title  \\\n",
              "32619                     NaN    150000.0  NAVER               NaN   \n",
              "32620                     NaN    150000.0  NAVER               NaN   \n",
              "\n",
              "      marketing_start_at  \n",
              "32619                NaN  \n",
              "32620                NaN  "
            ],
            "text/html": [
              "\n",
              "  <div id=\"df-e27d483e-1702-4952-89da-47e2ad0efbeb\">\n",
              "    <div class=\"colab-df-container\">\n",
              "      <div>\n",
              "<style scoped>\n",
              "    .dataframe tbody tr th:only-of-type {\n",
              "        vertical-align: middle;\n",
              "    }\n",
              "\n",
              "    .dataframe tbody tr th {\n",
              "        vertical-align: top;\n",
              "    }\n",
              "\n",
              "    .dataframe thead th {\n",
              "        text-align: right;\n",
              "    }\n",
              "</style>\n",
              "<table border=\"1\" class=\"dataframe\">\n",
              "  <thead>\n",
              "    <tr style=\"text-align: right;\">\n",
              "      <th></th>\n",
              "      <th>id</th>\n",
              "      <th>customer_id</th>\n",
              "      <th>course_id</th>\n",
              "      <th>type</th>\n",
              "      <th>state</th>\n",
              "      <th>course_title</th>\n",
              "      <th>category_title</th>\n",
              "      <th>format</th>\n",
              "      <th>completed_at</th>\n",
              "      <th>transaction_amount</th>\n",
              "      <th>coupon_title</th>\n",
              "      <th>coupon_discount_amount</th>\n",
              "      <th>sale_price</th>\n",
              "      <th>pg</th>\n",
              "      <th>subcategory_title</th>\n",
              "      <th>marketing_start_at</th>\n",
              "    </tr>\n",
              "  </thead>\n",
              "  <tbody>\n",
              "    <tr>\n",
              "      <th>32619</th>\n",
              "      <td>1067141</td>\n",
              "      <td>496508.0</td>\n",
              "      <td>205233.0</td>\n",
              "      <td>ORDER</td>\n",
              "      <td>CANCELLED</td>\n",
              "      <td>(TEST) 오프라인 과세 상품 결제 테스트용 상품</td>\n",
              "      <td>관리</td>\n",
              "      <td>관리</td>\n",
              "      <td>2021-05-12 17:31:06</td>\n",
              "      <td>150000</td>\n",
              "      <td>NaN</td>\n",
              "      <td>NaN</td>\n",
              "      <td>150000.0</td>\n",
              "      <td>NAVER</td>\n",
              "      <td>NaN</td>\n",
              "      <td>NaN</td>\n",
              "    </tr>\n",
              "    <tr>\n",
              "      <th>32620</th>\n",
              "      <td>1067142</td>\n",
              "      <td>496508.0</td>\n",
              "      <td>205233.0</td>\n",
              "      <td>PAYMENT</td>\n",
              "      <td>COMPLETED</td>\n",
              "      <td>(TEST) 오프라인 과세 상품 결제 테스트용 상품</td>\n",
              "      <td>관리</td>\n",
              "      <td>관리</td>\n",
              "      <td>2021-05-12 17:31:06</td>\n",
              "      <td>150000</td>\n",
              "      <td>NaN</td>\n",
              "      <td>NaN</td>\n",
              "      <td>150000.0</td>\n",
              "      <td>NAVER</td>\n",
              "      <td>NaN</td>\n",
              "      <td>NaN</td>\n",
              "    </tr>\n",
              "  </tbody>\n",
              "</table>\n",
              "</div>\n",
              "      <button class=\"colab-df-convert\" onclick=\"convertToInteractive('df-e27d483e-1702-4952-89da-47e2ad0efbeb')\"\n",
              "              title=\"Convert this dataframe to an interactive table.\"\n",
              "              style=\"display:none;\">\n",
              "        \n",
              "  <svg xmlns=\"http://www.w3.org/2000/svg\" height=\"24px\"viewBox=\"0 0 24 24\"\n",
              "       width=\"24px\">\n",
              "    <path d=\"M0 0h24v24H0V0z\" fill=\"none\"/>\n",
              "    <path d=\"M18.56 5.44l.94 2.06.94-2.06 2.06-.94-2.06-.94-.94-2.06-.94 2.06-2.06.94zm-11 1L8.5 8.5l.94-2.06 2.06-.94-2.06-.94L8.5 2.5l-.94 2.06-2.06.94zm10 10l.94 2.06.94-2.06 2.06-.94-2.06-.94-.94-2.06-.94 2.06-2.06.94z\"/><path d=\"M17.41 7.96l-1.37-1.37c-.4-.4-.92-.59-1.43-.59-.52 0-1.04.2-1.43.59L10.3 9.45l-7.72 7.72c-.78.78-.78 2.05 0 2.83L4 21.41c.39.39.9.59 1.41.59.51 0 1.02-.2 1.41-.59l7.78-7.78 2.81-2.81c.8-.78.8-2.07 0-2.86zM5.41 20L4 18.59l7.72-7.72 1.47 1.35L5.41 20z\"/>\n",
              "  </svg>\n",
              "      </button>\n",
              "      \n",
              "  <style>\n",
              "    .colab-df-container {\n",
              "      display:flex;\n",
              "      flex-wrap:wrap;\n",
              "      gap: 12px;\n",
              "    }\n",
              "\n",
              "    .colab-df-convert {\n",
              "      background-color: #E8F0FE;\n",
              "      border: none;\n",
              "      border-radius: 50%;\n",
              "      cursor: pointer;\n",
              "      display: none;\n",
              "      fill: #1967D2;\n",
              "      height: 32px;\n",
              "      padding: 0 0 0 0;\n",
              "      width: 32px;\n",
              "    }\n",
              "\n",
              "    .colab-df-convert:hover {\n",
              "      background-color: #E2EBFA;\n",
              "      box-shadow: 0px 1px 2px rgba(60, 64, 67, 0.3), 0px 1px 3px 1px rgba(60, 64, 67, 0.15);\n",
              "      fill: #174EA6;\n",
              "    }\n",
              "\n",
              "    [theme=dark] .colab-df-convert {\n",
              "      background-color: #3B4455;\n",
              "      fill: #D2E3FC;\n",
              "    }\n",
              "\n",
              "    [theme=dark] .colab-df-convert:hover {\n",
              "      background-color: #434B5C;\n",
              "      box-shadow: 0px 1px 3px 1px rgba(0, 0, 0, 0.15);\n",
              "      filter: drop-shadow(0px 1px 2px rgba(0, 0, 0, 0.3));\n",
              "      fill: #FFFFFF;\n",
              "    }\n",
              "  </style>\n",
              "\n",
              "      <script>\n",
              "        const buttonEl =\n",
              "          document.querySelector('#df-e27d483e-1702-4952-89da-47e2ad0efbeb button.colab-df-convert');\n",
              "        buttonEl.style.display =\n",
              "          google.colab.kernel.accessAllowed ? 'block' : 'none';\n",
              "\n",
              "        async function convertToInteractive(key) {\n",
              "          const element = document.querySelector('#df-e27d483e-1702-4952-89da-47e2ad0efbeb');\n",
              "          const dataTable =\n",
              "            await google.colab.kernel.invokeFunction('convertToInteractive',\n",
              "                                                     [key], {});\n",
              "          if (!dataTable) return;\n",
              "\n",
              "          const docLinkHtml = 'Like what you see? Visit the ' +\n",
              "            '<a target=\"_blank\" href=https://colab.research.google.com/notebooks/data_table.ipynb>data table notebook</a>'\n",
              "            + ' to learn more about interactive tables.';\n",
              "          element.innerHTML = '';\n",
              "          dataTable['output_type'] = 'display_data';\n",
              "          await google.colab.output.renderOutput(dataTable, element);\n",
              "          const docLink = document.createElement('div');\n",
              "          docLink.innerHTML = docLinkHtml;\n",
              "          element.appendChild(docLink);\n",
              "        }\n",
              "      </script>\n",
              "    </div>\n",
              "  </div>\n",
              "  "
            ]
          },
          "metadata": {},
          "execution_count": 26
        }
      ]
    },
    {
      "cell_type": "code",
      "source": [
        "df[df['category_title'] == '관리'].index"
      ],
      "metadata": {
        "colab": {
          "base_uri": "https://localhost:8080/"
        },
        "id": "rNYkJxFBh9wM",
        "outputId": "fca6345f-55b3-4c96-e573-bda86b0f61ef"
      },
      "id": "rNYkJxFBh9wM",
      "execution_count": 27,
      "outputs": [
        {
          "output_type": "execute_result",
          "data": {
            "text/plain": [
              "Int64Index([32619, 32620], dtype='int64')"
            ]
          },
          "metadata": {},
          "execution_count": 27
        }
      ]
    },
    {
      "cell_type": "code",
      "source": [
        "df['category_title'] = df['category_title'].str.replace('데이터 사이언스', '데이터사이언스')"
      ],
      "metadata": {
        "id": "yjJgVcgJiUlj"
      },
      "id": "yjJgVcgJiUlj",
      "execution_count": 28,
      "outputs": []
    },
    {
      "cell_type": "code",
      "source": [
        "df['category_title'] = df['category_title'].str.replace('비즈니스', '업무 생산성')"
      ],
      "metadata": {
        "id": "EfREA5OdjeTO"
      },
      "id": "EfREA5OdjeTO",
      "execution_count": 29,
      "outputs": []
    },
    {
      "cell_type": "code",
      "source": [
        "df['category_title'] = df['category_title'].str.replace('지식콘텐츠', '업무 생산성')"
      ],
      "metadata": {
        "id": "S0jnc5Yfj0qS"
      },
      "id": "S0jnc5Yfj0qS",
      "execution_count": 30,
      "outputs": []
    },
    {
      "cell_type": "code",
      "source": [
        "df['category_title'] = df['category_title'].str.replace('일러스트', '디자인')"
      ],
      "metadata": {
        "id": "miolbtodkcpN"
      },
      "execution_count": 31,
      "outputs": [],
      "id": "miolbtodkcpN"
    },
    {
      "cell_type": "code",
      "source": [
        "df['category_title'] = df['category_title'].str.replace('파이낸스', '부동산/금융')"
      ],
      "metadata": {
        "id": "HstHV73xkqYP"
      },
      "id": "HstHV73xkqYP",
      "execution_count": 32,
      "outputs": []
    },
    {
      "cell_type": "code",
      "source": [
        " #df.iloc[98137]"
      ],
      "metadata": {
        "id": "PTCaLzrLiiu9"
      },
      "id": "PTCaLzrLiiu9",
      "execution_count": 33,
      "outputs": []
    },
    {
      "cell_type": "code",
      "source": [
        "df.drop(df[df['category_title'] == '관리'].index, inplace=True)"
      ],
      "metadata": {
        "id": "JglI7GXXmpO9"
      },
      "id": "JglI7GXXmpO9",
      "execution_count": 34,
      "outputs": []
    },
    {
      "cell_type": "code",
      "source": [
        "# df.dropna(subset=['category_title'])   이걸로 NaN값 없어지지 않음\n",
        "df = df[df['category_title'].notna()]"
      ],
      "metadata": {
        "id": "D4PCC3Ren-qf"
      },
      "id": "D4PCC3Ren-qf",
      "execution_count": 35,
      "outputs": []
    },
    {
      "cell_type": "code",
      "source": [
        "df[df['category_title'].isnull()]"
      ],
      "metadata": {
        "id": "jQU9qZW_nh10",
        "colab": {
          "base_uri": "https://localhost:8080/",
          "height": 49
        },
        "outputId": "f7a95f9e-16fb-4c18-b664-408f420b720d"
      },
      "id": "jQU9qZW_nh10",
      "execution_count": 36,
      "outputs": [
        {
          "output_type": "execute_result",
          "data": {
            "text/plain": [
              "Empty DataFrame\n",
              "Columns: [id, customer_id, course_id, type, state, course_title, category_title, format, completed_at, transaction_amount, coupon_title, coupon_discount_amount, sale_price, pg, subcategory_title, marketing_start_at]\n",
              "Index: []"
            ],
            "text/html": [
              "\n",
              "  <div id=\"df-b260caea-023d-4b4a-aa2f-150c1cb31e63\">\n",
              "    <div class=\"colab-df-container\">\n",
              "      <div>\n",
              "<style scoped>\n",
              "    .dataframe tbody tr th:only-of-type {\n",
              "        vertical-align: middle;\n",
              "    }\n",
              "\n",
              "    .dataframe tbody tr th {\n",
              "        vertical-align: top;\n",
              "    }\n",
              "\n",
              "    .dataframe thead th {\n",
              "        text-align: right;\n",
              "    }\n",
              "</style>\n",
              "<table border=\"1\" class=\"dataframe\">\n",
              "  <thead>\n",
              "    <tr style=\"text-align: right;\">\n",
              "      <th></th>\n",
              "      <th>id</th>\n",
              "      <th>customer_id</th>\n",
              "      <th>course_id</th>\n",
              "      <th>type</th>\n",
              "      <th>state</th>\n",
              "      <th>course_title</th>\n",
              "      <th>category_title</th>\n",
              "      <th>format</th>\n",
              "      <th>completed_at</th>\n",
              "      <th>transaction_amount</th>\n",
              "      <th>coupon_title</th>\n",
              "      <th>coupon_discount_amount</th>\n",
              "      <th>sale_price</th>\n",
              "      <th>pg</th>\n",
              "      <th>subcategory_title</th>\n",
              "      <th>marketing_start_at</th>\n",
              "    </tr>\n",
              "  </thead>\n",
              "  <tbody>\n",
              "  </tbody>\n",
              "</table>\n",
              "</div>\n",
              "      <button class=\"colab-df-convert\" onclick=\"convertToInteractive('df-b260caea-023d-4b4a-aa2f-150c1cb31e63')\"\n",
              "              title=\"Convert this dataframe to an interactive table.\"\n",
              "              style=\"display:none;\">\n",
              "        \n",
              "  <svg xmlns=\"http://www.w3.org/2000/svg\" height=\"24px\"viewBox=\"0 0 24 24\"\n",
              "       width=\"24px\">\n",
              "    <path d=\"M0 0h24v24H0V0z\" fill=\"none\"/>\n",
              "    <path d=\"M18.56 5.44l.94 2.06.94-2.06 2.06-.94-2.06-.94-.94-2.06-.94 2.06-2.06.94zm-11 1L8.5 8.5l.94-2.06 2.06-.94-2.06-.94L8.5 2.5l-.94 2.06-2.06.94zm10 10l.94 2.06.94-2.06 2.06-.94-2.06-.94-.94-2.06-.94 2.06-2.06.94z\"/><path d=\"M17.41 7.96l-1.37-1.37c-.4-.4-.92-.59-1.43-.59-.52 0-1.04.2-1.43.59L10.3 9.45l-7.72 7.72c-.78.78-.78 2.05 0 2.83L4 21.41c.39.39.9.59 1.41.59.51 0 1.02-.2 1.41-.59l7.78-7.78 2.81-2.81c.8-.78.8-2.07 0-2.86zM5.41 20L4 18.59l7.72-7.72 1.47 1.35L5.41 20z\"/>\n",
              "  </svg>\n",
              "      </button>\n",
              "      \n",
              "  <style>\n",
              "    .colab-df-container {\n",
              "      display:flex;\n",
              "      flex-wrap:wrap;\n",
              "      gap: 12px;\n",
              "    }\n",
              "\n",
              "    .colab-df-convert {\n",
              "      background-color: #E8F0FE;\n",
              "      border: none;\n",
              "      border-radius: 50%;\n",
              "      cursor: pointer;\n",
              "      display: none;\n",
              "      fill: #1967D2;\n",
              "      height: 32px;\n",
              "      padding: 0 0 0 0;\n",
              "      width: 32px;\n",
              "    }\n",
              "\n",
              "    .colab-df-convert:hover {\n",
              "      background-color: #E2EBFA;\n",
              "      box-shadow: 0px 1px 2px rgba(60, 64, 67, 0.3), 0px 1px 3px 1px rgba(60, 64, 67, 0.15);\n",
              "      fill: #174EA6;\n",
              "    }\n",
              "\n",
              "    [theme=dark] .colab-df-convert {\n",
              "      background-color: #3B4455;\n",
              "      fill: #D2E3FC;\n",
              "    }\n",
              "\n",
              "    [theme=dark] .colab-df-convert:hover {\n",
              "      background-color: #434B5C;\n",
              "      box-shadow: 0px 1px 3px 1px rgba(0, 0, 0, 0.15);\n",
              "      filter: drop-shadow(0px 1px 2px rgba(0, 0, 0, 0.3));\n",
              "      fill: #FFFFFF;\n",
              "    }\n",
              "  </style>\n",
              "\n",
              "      <script>\n",
              "        const buttonEl =\n",
              "          document.querySelector('#df-b260caea-023d-4b4a-aa2f-150c1cb31e63 button.colab-df-convert');\n",
              "        buttonEl.style.display =\n",
              "          google.colab.kernel.accessAllowed ? 'block' : 'none';\n",
              "\n",
              "        async function convertToInteractive(key) {\n",
              "          const element = document.querySelector('#df-b260caea-023d-4b4a-aa2f-150c1cb31e63');\n",
              "          const dataTable =\n",
              "            await google.colab.kernel.invokeFunction('convertToInteractive',\n",
              "                                                     [key], {});\n",
              "          if (!dataTable) return;\n",
              "\n",
              "          const docLinkHtml = 'Like what you see? Visit the ' +\n",
              "            '<a target=\"_blank\" href=https://colab.research.google.com/notebooks/data_table.ipynb>data table notebook</a>'\n",
              "            + ' to learn more about interactive tables.';\n",
              "          element.innerHTML = '';\n",
              "          dataTable['output_type'] = 'display_data';\n",
              "          await google.colab.output.renderOutput(dataTable, element);\n",
              "          const docLink = document.createElement('div');\n",
              "          docLink.innerHTML = docLinkHtml;\n",
              "          element.appendChild(docLink);\n",
              "        }\n",
              "      </script>\n",
              "    </div>\n",
              "  </div>\n",
              "  "
            ]
          },
          "metadata": {},
          "execution_count": 36
        }
      ]
    },
    {
      "cell_type": "code",
      "source": [
        "df[df['category_title'].isnull()].index"
      ],
      "metadata": {
        "colab": {
          "base_uri": "https://localhost:8080/"
        },
        "id": "DNRbEPrGorgL",
        "outputId": "d7fd2f9d-804e-4b5f-b93a-9784c565ec16"
      },
      "id": "DNRbEPrGorgL",
      "execution_count": 37,
      "outputs": [
        {
          "output_type": "execute_result",
          "data": {
            "text/plain": [
              "Int64Index([], dtype='int64')"
            ]
          },
          "metadata": {},
          "execution_count": 37
        }
      ]
    },
    {
      "cell_type": "markdown",
      "id": "1154b24e",
      "metadata": {
        "ExecuteTime": {
          "end_time": "2022-05-10T01:44:54.149817Z",
          "start_time": "2022-05-10T01:44:54.130821Z"
        },
        "id": "1154b24e"
      },
      "source": [
        "### 분석하고 싶은 내용"
      ]
    },
    {
      "cell_type": "markdown",
      "id": "3947ad7d",
      "metadata": {
        "id": "3947ad7d"
      },
      "source": [
        "**By category_title,**\n",
        "- payment rate\n",
        "- refund rate\n",
        "- trend\n",
        "- repurchase rate"
      ]
    },
    {
      "cell_type": "markdown",
      "source": [
        "> 논의 필요 : \n",
        "PAYMENT-COMPLETED 만 결제완료로 할것인지?(ORDER-COMPLETED 속 결제완료는 무시?)"
      ],
      "metadata": {
        "id": "-fTcm_zZyBpG"
      },
      "id": "-fTcm_zZyBpG"
    },
    {
      "cell_type": "markdown",
      "id": "65266a15",
      "metadata": {
        "id": "65266a15"
      },
      "source": [
        "> 추측\n",
        "<br>    - 고객이 수강신청 하면 type(ORDER) - state(COMPLETED)\n",
        "<br> <s> - 패캠에서 고객에게 결제요청 카톡 보내면 type(ORDER) - state(REQUESTED)</s>\n",
        "<br>      i)  결제 요청 후, 고객이 결제 하면 type(PAYMENT) - state(COMPLETED)\n",
        "<br>      ii)  또는 결제 요청 후, 고객이 결제 안하면 type(ORDER) - state(CANCELLED)  or   type(PAYMENT) - state(CANCELLED)\n",
        "<br>    - 고객에게 환불해줬으면 type(REFUND) - state(COMPLETED)\n",
        "<br>\n",
        "<br>\n",
        ">\n",
        ">type - state 관계로 알 수 있는 것<br>\n",
        "- <s> PAYMENT - REQUESTED  결제 요청</s>\n",
        "- PAYMENT - COMPLETED  결제 완료\n",
        "- ORDER - CANCELLED  주문 취소 (2021-07-21 14:02:10 마지막으로 ORDER 사용됨)\n",
        "- PAYMENT - CANCELLED  결제 취소 (2021-07-21 14:24:35 PAYMENT로 사용 시작됨)\n",
        "<br>(2021년 7월 21일 14시 24분 경부터 type 유형 중 ORDER → PAYMENT로 변경됨. 즉, '주문 취소=결제 취소' 같은 의미로 보임)\n",
        "- REFUND - COMPLETED  환불 완료\n",
        "\n"
      ]
    },
    {
      "cell_type": "markdown",
      "metadata": {
        "id": "bb6d20bd"
      },
      "source": [
        "### 실결제 완료자 : PAYMENT - COMPLETED 로 간주\n",
        "(type=PAYMENT, state = COMPLETED)"
      ],
      "id": "bb6d20bd"
    },
    {
      "cell_type": "code",
      "execution_count": 38,
      "metadata": {
        "ExecuteTime": {
          "end_time": "2022-05-09T05:57:59.821005Z",
          "start_time": "2022-05-09T05:57:59.760005Z"
        },
        "scrolled": false,
        "id": "7ea7ea6a",
        "colab": {
          "base_uri": "https://localhost:8080/",
          "height": 206
        },
        "outputId": "0f782097-6e8b-48ed-e8d5-9f87d0318f87"
      },
      "outputs": [
        {
          "output_type": "execute_result",
          "data": {
            "text/plain": [
              "          id  customer_id  course_id     type      state  \\\n",
              "631   972364     478743.0   204039.0  PAYMENT  COMPLETED   \n",
              "633   972365     478745.0   203352.0  PAYMENT  COMPLETED   \n",
              "1035  973331     479082.0   204387.0  PAYMENT  COMPLETED   \n",
              "1046  973363     474327.0   204387.0  PAYMENT  COMPLETED   \n",
              "1135  973592     479185.0   204387.0  PAYMENT  COMPLETED   \n",
              "\n",
              "                               course_title category_title   format  \\\n",
              "631         (B2B) 힐코코리아 온라인 구독 올 플랜 - 패파입주사             교육  B2B 온라인   \n",
              "633   (B2B) 주식회사 루나 온라인 구독 ALL PLAN - 패파입주사             교육  B2B 온라인   \n",
              "1035                (B2B) 현대백화점 온라인 구독 올 플랜             교육  B2B 온라인   \n",
              "1046                (B2B) 현대백화점 온라인 구독 올 플랜             교육  B2B 온라인   \n",
              "1135                (B2B) 현대백화점 온라인 구독 올 플랜             교육  B2B 온라인   \n",
              "\n",
              "             completed_at  transaction_amount coupon_title  \\\n",
              "631    2021-03-29 8:52:36              100000          NaN   \n",
              "633    2021-03-29 8:57:12              750000          NaN   \n",
              "1035  2021-03-29 13:01:32              600000          NaN   \n",
              "1046  2021-03-29 13:08:38              600000          NaN   \n",
              "1135  2021-03-29 14:13:27              600000          NaN   \n",
              "\n",
              "      coupon_discount_amount  sale_price   pg subcategory_title  \\\n",
              "631                      NaN         NaN  NaN               NaN   \n",
              "633                      NaN         NaN  NaN               NaN   \n",
              "1035                     NaN    600000.0  NaN               NaN   \n",
              "1046                     NaN    600000.0  NaN               NaN   \n",
              "1135                     NaN    600000.0  NaN               NaN   \n",
              "\n",
              "     marketing_start_at  \n",
              "631                 NaN  \n",
              "633                 NaN  \n",
              "1035                NaN  \n",
              "1046                NaN  \n",
              "1135                NaN  "
            ],
            "text/html": [
              "\n",
              "  <div id=\"df-082915e7-edc4-42b4-8d26-1ddd1b3188a1\">\n",
              "    <div class=\"colab-df-container\">\n",
              "      <div>\n",
              "<style scoped>\n",
              "    .dataframe tbody tr th:only-of-type {\n",
              "        vertical-align: middle;\n",
              "    }\n",
              "\n",
              "    .dataframe tbody tr th {\n",
              "        vertical-align: top;\n",
              "    }\n",
              "\n",
              "    .dataframe thead th {\n",
              "        text-align: right;\n",
              "    }\n",
              "</style>\n",
              "<table border=\"1\" class=\"dataframe\">\n",
              "  <thead>\n",
              "    <tr style=\"text-align: right;\">\n",
              "      <th></th>\n",
              "      <th>id</th>\n",
              "      <th>customer_id</th>\n",
              "      <th>course_id</th>\n",
              "      <th>type</th>\n",
              "      <th>state</th>\n",
              "      <th>course_title</th>\n",
              "      <th>category_title</th>\n",
              "      <th>format</th>\n",
              "      <th>completed_at</th>\n",
              "      <th>transaction_amount</th>\n",
              "      <th>coupon_title</th>\n",
              "      <th>coupon_discount_amount</th>\n",
              "      <th>sale_price</th>\n",
              "      <th>pg</th>\n",
              "      <th>subcategory_title</th>\n",
              "      <th>marketing_start_at</th>\n",
              "    </tr>\n",
              "  </thead>\n",
              "  <tbody>\n",
              "    <tr>\n",
              "      <th>631</th>\n",
              "      <td>972364</td>\n",
              "      <td>478743.0</td>\n",
              "      <td>204039.0</td>\n",
              "      <td>PAYMENT</td>\n",
              "      <td>COMPLETED</td>\n",
              "      <td>(B2B) 힐코코리아 온라인 구독 올 플랜 - 패파입주사</td>\n",
              "      <td>교육</td>\n",
              "      <td>B2B 온라인</td>\n",
              "      <td>2021-03-29 8:52:36</td>\n",
              "      <td>100000</td>\n",
              "      <td>NaN</td>\n",
              "      <td>NaN</td>\n",
              "      <td>NaN</td>\n",
              "      <td>NaN</td>\n",
              "      <td>NaN</td>\n",
              "      <td>NaN</td>\n",
              "    </tr>\n",
              "    <tr>\n",
              "      <th>633</th>\n",
              "      <td>972365</td>\n",
              "      <td>478745.0</td>\n",
              "      <td>203352.0</td>\n",
              "      <td>PAYMENT</td>\n",
              "      <td>COMPLETED</td>\n",
              "      <td>(B2B) 주식회사 루나 온라인 구독 ALL PLAN - 패파입주사</td>\n",
              "      <td>교육</td>\n",
              "      <td>B2B 온라인</td>\n",
              "      <td>2021-03-29 8:57:12</td>\n",
              "      <td>750000</td>\n",
              "      <td>NaN</td>\n",
              "      <td>NaN</td>\n",
              "      <td>NaN</td>\n",
              "      <td>NaN</td>\n",
              "      <td>NaN</td>\n",
              "      <td>NaN</td>\n",
              "    </tr>\n",
              "    <tr>\n",
              "      <th>1035</th>\n",
              "      <td>973331</td>\n",
              "      <td>479082.0</td>\n",
              "      <td>204387.0</td>\n",
              "      <td>PAYMENT</td>\n",
              "      <td>COMPLETED</td>\n",
              "      <td>(B2B) 현대백화점 온라인 구독 올 플랜</td>\n",
              "      <td>교육</td>\n",
              "      <td>B2B 온라인</td>\n",
              "      <td>2021-03-29 13:01:32</td>\n",
              "      <td>600000</td>\n",
              "      <td>NaN</td>\n",
              "      <td>NaN</td>\n",
              "      <td>600000.0</td>\n",
              "      <td>NaN</td>\n",
              "      <td>NaN</td>\n",
              "      <td>NaN</td>\n",
              "    </tr>\n",
              "    <tr>\n",
              "      <th>1046</th>\n",
              "      <td>973363</td>\n",
              "      <td>474327.0</td>\n",
              "      <td>204387.0</td>\n",
              "      <td>PAYMENT</td>\n",
              "      <td>COMPLETED</td>\n",
              "      <td>(B2B) 현대백화점 온라인 구독 올 플랜</td>\n",
              "      <td>교육</td>\n",
              "      <td>B2B 온라인</td>\n",
              "      <td>2021-03-29 13:08:38</td>\n",
              "      <td>600000</td>\n",
              "      <td>NaN</td>\n",
              "      <td>NaN</td>\n",
              "      <td>600000.0</td>\n",
              "      <td>NaN</td>\n",
              "      <td>NaN</td>\n",
              "      <td>NaN</td>\n",
              "    </tr>\n",
              "    <tr>\n",
              "      <th>1135</th>\n",
              "      <td>973592</td>\n",
              "      <td>479185.0</td>\n",
              "      <td>204387.0</td>\n",
              "      <td>PAYMENT</td>\n",
              "      <td>COMPLETED</td>\n",
              "      <td>(B2B) 현대백화점 온라인 구독 올 플랜</td>\n",
              "      <td>교육</td>\n",
              "      <td>B2B 온라인</td>\n",
              "      <td>2021-03-29 14:13:27</td>\n",
              "      <td>600000</td>\n",
              "      <td>NaN</td>\n",
              "      <td>NaN</td>\n",
              "      <td>600000.0</td>\n",
              "      <td>NaN</td>\n",
              "      <td>NaN</td>\n",
              "      <td>NaN</td>\n",
              "    </tr>\n",
              "  </tbody>\n",
              "</table>\n",
              "</div>\n",
              "      <button class=\"colab-df-convert\" onclick=\"convertToInteractive('df-082915e7-edc4-42b4-8d26-1ddd1b3188a1')\"\n",
              "              title=\"Convert this dataframe to an interactive table.\"\n",
              "              style=\"display:none;\">\n",
              "        \n",
              "  <svg xmlns=\"http://www.w3.org/2000/svg\" height=\"24px\"viewBox=\"0 0 24 24\"\n",
              "       width=\"24px\">\n",
              "    <path d=\"M0 0h24v24H0V0z\" fill=\"none\"/>\n",
              "    <path d=\"M18.56 5.44l.94 2.06.94-2.06 2.06-.94-2.06-.94-.94-2.06-.94 2.06-2.06.94zm-11 1L8.5 8.5l.94-2.06 2.06-.94-2.06-.94L8.5 2.5l-.94 2.06-2.06.94zm10 10l.94 2.06.94-2.06 2.06-.94-2.06-.94-.94-2.06-.94 2.06-2.06.94z\"/><path d=\"M17.41 7.96l-1.37-1.37c-.4-.4-.92-.59-1.43-.59-.52 0-1.04.2-1.43.59L10.3 9.45l-7.72 7.72c-.78.78-.78 2.05 0 2.83L4 21.41c.39.39.9.59 1.41.59.51 0 1.02-.2 1.41-.59l7.78-7.78 2.81-2.81c.8-.78.8-2.07 0-2.86zM5.41 20L4 18.59l7.72-7.72 1.47 1.35L5.41 20z\"/>\n",
              "  </svg>\n",
              "      </button>\n",
              "      \n",
              "  <style>\n",
              "    .colab-df-container {\n",
              "      display:flex;\n",
              "      flex-wrap:wrap;\n",
              "      gap: 12px;\n",
              "    }\n",
              "\n",
              "    .colab-df-convert {\n",
              "      background-color: #E8F0FE;\n",
              "      border: none;\n",
              "      border-radius: 50%;\n",
              "      cursor: pointer;\n",
              "      display: none;\n",
              "      fill: #1967D2;\n",
              "      height: 32px;\n",
              "      padding: 0 0 0 0;\n",
              "      width: 32px;\n",
              "    }\n",
              "\n",
              "    .colab-df-convert:hover {\n",
              "      background-color: #E2EBFA;\n",
              "      box-shadow: 0px 1px 2px rgba(60, 64, 67, 0.3), 0px 1px 3px 1px rgba(60, 64, 67, 0.15);\n",
              "      fill: #174EA6;\n",
              "    }\n",
              "\n",
              "    [theme=dark] .colab-df-convert {\n",
              "      background-color: #3B4455;\n",
              "      fill: #D2E3FC;\n",
              "    }\n",
              "\n",
              "    [theme=dark] .colab-df-convert:hover {\n",
              "      background-color: #434B5C;\n",
              "      box-shadow: 0px 1px 3px 1px rgba(0, 0, 0, 0.15);\n",
              "      filter: drop-shadow(0px 1px 2px rgba(0, 0, 0, 0.3));\n",
              "      fill: #FFFFFF;\n",
              "    }\n",
              "  </style>\n",
              "\n",
              "      <script>\n",
              "        const buttonEl =\n",
              "          document.querySelector('#df-082915e7-edc4-42b4-8d26-1ddd1b3188a1 button.colab-df-convert');\n",
              "        buttonEl.style.display =\n",
              "          google.colab.kernel.accessAllowed ? 'block' : 'none';\n",
              "\n",
              "        async function convertToInteractive(key) {\n",
              "          const element = document.querySelector('#df-082915e7-edc4-42b4-8d26-1ddd1b3188a1');\n",
              "          const dataTable =\n",
              "            await google.colab.kernel.invokeFunction('convertToInteractive',\n",
              "                                                     [key], {});\n",
              "          if (!dataTable) return;\n",
              "\n",
              "          const docLinkHtml = 'Like what you see? Visit the ' +\n",
              "            '<a target=\"_blank\" href=https://colab.research.google.com/notebooks/data_table.ipynb>data table notebook</a>'\n",
              "            + ' to learn more about interactive tables.';\n",
              "          element.innerHTML = '';\n",
              "          dataTable['output_type'] = 'display_data';\n",
              "          await google.colab.output.renderOutput(dataTable, element);\n",
              "          const docLink = document.createElement('div');\n",
              "          docLink.innerHTML = docLinkHtml;\n",
              "          element.appendChild(docLink);\n",
              "        }\n",
              "      </script>\n",
              "    </div>\n",
              "  </div>\n",
              "  "
            ]
          },
          "metadata": {},
          "execution_count": 38
        }
      ],
      "source": [
        "actual_cs = df[(df['type'] == 'PAYMENT') & (df['state'] == 'COMPLETED')]\n",
        "actual_cs = actual_cs.sort_values(by=['category_title', 'subcategory_title'], ascending=True)\n",
        "actual_cs.head()"
      ],
      "id": "7ea7ea6a"
    },
    {
      "cell_type": "code",
      "source": [
        "for col_nm in actual_cs.columns:\n",
        "    print(col_nm, actual_cs[col_nm].nunique())"
      ],
      "metadata": {
        "colab": {
          "base_uri": "https://localhost:8080/"
        },
        "id": "MJSNolV496ih",
        "outputId": "5b4241d2-8daa-4d40-86be-984ed2d955a5"
      },
      "id": "MJSNolV496ih",
      "execution_count": 39,
      "outputs": [
        {
          "output_type": "stream",
          "name": "stdout",
          "text": [
            "id 52898\n",
            "customer_id 39516\n",
            "course_id 1290\n",
            "type 1\n",
            "state 1\n",
            "course_title 1562\n",
            "category_title 10\n",
            "format 13\n",
            "completed_at 52093\n",
            "transaction_amount 1469\n",
            "coupon_title 477\n",
            "coupon_discount_amount 747\n",
            "sale_price 522\n",
            "pg 5\n",
            "subcategory_title 33\n",
            "marketing_start_at 172\n"
          ]
        }
      ]
    },
    {
      "cell_type": "code",
      "execution_count": 40,
      "id": "c061a809",
      "metadata": {
        "colab": {
          "base_uri": "https://localhost:8080/"
        },
        "id": "c061a809",
        "outputId": "651b33b9-8307-43d4-da31-4e36ce2c994e"
      },
      "outputs": [
        {
          "output_type": "execute_result",
          "data": {
            "text/plain": [
              "id                            0\n",
              "customer_id                   0\n",
              "course_id                  1977\n",
              "type                          0\n",
              "state                         0\n",
              "course_title                  0\n",
              "category_title                0\n",
              "format                        0\n",
              "completed_at                  0\n",
              "transaction_amount            0\n",
              "coupon_title              29137\n",
              "coupon_discount_amount    29137\n",
              "sale_price                 1068\n",
              "pg                         9871\n",
              "subcategory_title          9431\n",
              "marketing_start_at         9340\n",
              "dtype: int64"
            ]
          },
          "metadata": {},
          "execution_count": 40
        }
      ],
      "source": [
        "actual_cs.isnull().sum()"
      ]
    },
    {
      "cell_type": "markdown",
      "id": "cdd6eb92",
      "metadata": {
        "id": "cdd6eb92"
      },
      "source": [
        "### 한사람당 수강하는 평균 강의수 - actual_cs (실 수강생) 기준\n",
        "> 참고\n",
        "<br> unique customer_id : 39516　→　수강생 총 39,516명\n",
        "<br> unique course_title : 1562　→　총 1,562개 강의\n",
        "\n"
      ]
    },
    {
      "cell_type": "code",
      "execution_count": 41,
      "id": "c6388ff8",
      "metadata": {
        "colab": {
          "base_uri": "https://localhost:8080/"
        },
        "id": "c6388ff8",
        "outputId": "10c73576-7963-401a-e47e-1f9dc7bbd6c6"
      },
      "outputs": [
        {
          "output_type": "execute_result",
          "data": {
            "text/plain": [
              "98685.0     53\n",
              "427973.0    47\n",
              "158374.0    42\n",
              "50769.0     39\n",
              "3189.0      39\n",
              "            ..\n",
              "503153.0     1\n",
              "152206.0     1\n",
              "486940.0     1\n",
              "500889.0     1\n",
              "670842.0     1\n",
              "Name: customer_id, Length: 39516, dtype: int64"
            ]
          },
          "metadata": {},
          "execution_count": 41
        }
      ],
      "source": [
        "actual_cs.customer_id.value_counts()"
      ]
    },
    {
      "cell_type": "code",
      "execution_count": 42,
      "id": "aed3cf0b",
      "metadata": {
        "ExecuteTime": {
          "end_time": "2022-05-10T16:44:38.015324Z",
          "start_time": "2022-05-10T16:44:37.877427Z"
        },
        "colab": {
          "base_uri": "https://localhost:8080/"
        },
        "id": "aed3cf0b",
        "outputId": "c1454ef3-a241-4c85-bf60-e4ad995dabe8"
      },
      "outputs": [
        {
          "output_type": "execute_result",
          "data": {
            "text/plain": [
              "1.3386476364004454"
            ]
          },
          "metadata": {},
          "execution_count": 42
        }
      ],
      "source": [
        "actual_cs.customer_id.value_counts().mean()"
      ]
    },
    {
      "cell_type": "markdown",
      "source": [
        ">일인당 1.3개 강의 수강 (약 1개 강의 평균으로 보임) \n",
        "<br> 최대 53개 강의를 수강하는 사람도 있음"
      ],
      "metadata": {
        "id": "jIMmYBmYAQz2"
      },
      "id": "jIMmYBmYAQz2"
    },
    {
      "cell_type": "markdown",
      "source": [
        "#### 1인당 수강 강의수 분포"
      ],
      "metadata": {
        "id": "FaygOKXlWppn"
      },
      "id": "FaygOKXlWppn"
    },
    {
      "cell_type": "code",
      "source": [
        "fig_dims = (8, 8)\n",
        "fig, ax = plt.subplots(figsize=fig_dims)\n",
        "\n",
        "plt.title('1인당 수강 강의수', size=15)\n",
        "ratio = [80.19283328272093, 13.462901103350541, 3.5276849883591455, 1.2931470796639337, 0.8831865573438606]\n",
        "labels = ['1개', '2개', '3개', '4개', '5개 이상']\n",
        "colors = ['#ff9999', 'gold', '#8fd9b6', '#d395d0', 'lightgray']\n",
        "wedgeprops={'width': 0.7, 'edgecolor': 'w', 'linewidth': 5}\n",
        "\n",
        "plt.pie(ratio, labels=labels, autopct='%.1f%%', colors=colors, wedgeprops=wedgeprops, textprops={'size': 12})\n",
        "plt.show()"
      ],
      "metadata": {
        "colab": {
          "base_uri": "https://localhost:8080/",
          "height": 484
        },
        "id": "HsUM-dkGVjVN",
        "outputId": "8c9fe1b7-0a90-4d76-fa02-46e7068f5f9c"
      },
      "id": "HsUM-dkGVjVN",
      "execution_count": 43,
      "outputs": [
        {
          "output_type": "display_data",
          "data": {
            "text/plain": [
              "<Figure size 576x576 with 1 Axes>"
            ],
            "image/png": "[encoded data removed]"
          },
          "metadata": {}
        }
      ]
    },
    {
      "cell_type": "markdown",
      "source": [
        "##### 강의를 1개만 수강하는 수강생 비율"
      ],
      "metadata": {
        "id": "ec9msBdtBQaZ"
      },
      "id": "ec9msBdtBQaZ"
    },
    {
      "cell_type": "code",
      "execution_count": 44,
      "id": "4b1de246",
      "metadata": {
        "colab": {
          "base_uri": "https://localhost:8080/"
        },
        "id": "4b1de246",
        "outputId": "e9295c3f-aebf-4a50-eb6f-849f1fe106bf"
      },
      "outputs": [
        {
          "output_type": "execute_result",
          "data": {
            "text/plain": [
              "175308.0    1\n",
              "41039.0     1\n",
              "645359.0    1\n",
              "639881.0    1\n",
              "603209.0    1\n",
              "           ..\n",
              "503153.0    1\n",
              "152206.0    1\n",
              "486940.0    1\n",
              "500889.0    1\n",
              "670842.0    1\n",
              "Name: customer_id, Length: 31689, dtype: int64"
            ]
          },
          "metadata": {},
          "execution_count": 44
        }
      ],
      "source": [
        "actual_cs.customer_id.value_counts().loc[actual_cs.customer_id.value_counts() == 1]"
      ]
    },
    {
      "cell_type": "code",
      "source": [
        "print(31689/39516*100)"
      ],
      "metadata": {
        "colab": {
          "base_uri": "https://localhost:8080/"
        },
        "id": "hFi_G1StBIEQ",
        "outputId": "5f3e8d21-06de-42fb-f851-77baf5683cb5"
      },
      "id": "hFi_G1StBIEQ",
      "execution_count": 45,
      "outputs": [
        {
          "output_type": "stream",
          "name": "stdout",
          "text": [
            "80.19283328272093\n"
          ]
        }
      ]
    },
    {
      "cell_type": "markdown",
      "metadata": {
        "id": "tmxFZeQ_BVB6"
      },
      "source": [
        "> 1개 강의만 수강하는 수강생은 80.2%\n"
      ],
      "id": "tmxFZeQ_BVB6"
    },
    {
      "cell_type": "markdown",
      "source": [
        "##### 강의를 2개 이상 수강하는 수강생 비율"
      ],
      "metadata": {
        "id": "tMb9icYzAZbX"
      },
      "id": "tMb9icYzAZbX"
    },
    {
      "cell_type": "code",
      "execution_count": 46,
      "id": "af8fc0fc",
      "metadata": {
        "ExecuteTime": {
          "end_time": "2022-05-10T16:44:38.508302Z",
          "start_time": "2022-05-10T16:44:38.297720Z"
        },
        "colab": {
          "base_uri": "https://localhost:8080/"
        },
        "id": "af8fc0fc",
        "outputId": "f2473df3-1997-429c-965d-aeafe0b1acc7"
      },
      "outputs": [
        {
          "output_type": "execute_result",
          "data": {
            "text/plain": [
              "98685.0     53\n",
              "427973.0    47\n",
              "158374.0    42\n",
              "50769.0     39\n",
              "3189.0      39\n",
              "            ..\n",
              "57723.0      2\n",
              "632333.0     2\n",
              "507433.0     2\n",
              "433494.0     2\n",
              "578497.0     2\n",
              "Name: customer_id, Length: 7827, dtype: int64"
            ]
          },
          "metadata": {},
          "execution_count": 46
        }
      ],
      "source": [
        "actual_cs.customer_id.value_counts().loc[actual_cs.customer_id.value_counts() > 1]"
      ]
    },
    {
      "cell_type": "code",
      "execution_count": 47,
      "id": "76779d6f",
      "metadata": {
        "ExecuteTime": {
          "end_time": "2022-05-10T16:44:38.824947Z",
          "start_time": "2022-05-10T16:44:38.807949Z"
        },
        "colab": {
          "base_uri": "https://localhost:8080/"
        },
        "id": "76779d6f",
        "outputId": "b9f9dd57-6b98-4249-cfd7-282ca395b0ab"
      },
      "outputs": [
        {
          "output_type": "stream",
          "name": "stdout",
          "text": [
            "19.807166717279078\n"
          ]
        }
      ],
      "source": [
        "print(7827/39516*100)"
      ]
    },
    {
      "cell_type": "markdown",
      "id": "cde437e0",
      "metadata": {
        "id": "cde437e0"
      },
      "source": [
        "> 2개 강의 이상 수강하는 수강생은 결제한 수강생 중 약 19.8%\n"
      ]
    },
    {
      "cell_type": "code",
      "source": [
        "actual_cs.customer_id.value_counts().loc[actual_cs.customer_id.value_counts() > 5 ]\n",
        "print(349/39516*100)"
      ],
      "metadata": {
        "colab": {
          "base_uri": "https://localhost:8080/"
        },
        "id": "u94UCDlGW3Xp",
        "outputId": "43369b1e-8afa-4ac0-8566-d0ed6e04fec3"
      },
      "id": "u94UCDlGW3Xp",
      "execution_count": 48,
      "outputs": [
        {
          "output_type": "stream",
          "name": "stdout",
          "text": [
            "0.8831865573438606\n"
          ]
        }
      ]
    },
    {
      "cell_type": "markdown",
      "source": [
        "1개 수강: 31689명 (80.19283328272093 %)\n",
        "\n",
        "2개 수강: 5320명 (13.462901103350541 %)\n",
        "\n",
        "3개 수강: 1394명 (3.5276849883591455 %)\n",
        "\n",
        "4개 수강: 511명 (1.2931470796639337 %)\n",
        "\n",
        "5개 이상 수강: 349명 (0.8831865573438606 %)"
      ],
      "metadata": {
        "id": "aLkrKxJLXTaB"
      },
      "id": "aLkrKxJLXTaB"
    },
    {
      "cell_type": "markdown",
      "source": [
        "#### 수강 강의수에 다른 카테고리 분포 (1 개 vs. 2개 이상)"
      ],
      "metadata": {
        "id": "R03DgVcmUGUE"
      },
      "id": "R03DgVcmUGUE"
    },
    {
      "cell_type": "code",
      "source": [
        "customers1 = df.customer_id.value_counts().loc[df.customer_id.value_counts() == 1].index\n",
        "c1 = df.loc[df.customer_id.isin(customers1)]\n",
        "c1.head()"
      ],
      "metadata": {
        "colab": {
          "base_uri": "https://localhost:8080/",
          "height": 206
        },
        "id": "-3tI3_vfTpoQ",
        "outputId": "cf630a4e-73b9-4715-99bd-51412a8bca75"
      },
      "id": "-3tI3_vfTpoQ",
      "execution_count": 49,
      "outputs": [
        {
          "output_type": "execute_result",
          "data": {
            "text/plain": [
              "        id  customer_id  course_id   type      state  \\\n",
              "0   970634     504760.0   201435.0  ORDER  CANCELLED   \n",
              "1   970650     432862.0   203178.0  ORDER  CANCELLED   \n",
              "6   970614     477910.0        NaN  ORDER  CANCELLED   \n",
              "7   970664     460730.0   200622.0  ORDER  CANCELLED   \n",
              "17  970675     478036.0   204037.0  ORDER  CANCELLED   \n",
              "\n",
              "                                       course_title category_title   format  \\\n",
              "0                         올인원 패키지 : 알고리즘 기술면접 완전 정복          프로그래밍      올인원   \n",
              "1                       초격차 패키지 : 한번에 끝내는 영상 촬영과 편집          영상/3D      올인원   \n",
              "6   프로모션 : 2021 내 커리어 지켜 줄 UX/UI 디자인 한끝세트 (3월 프리패스)         크리에이티브      올인원   \n",
              "7                      올인원 패키지 : 기업가치 평가와 M&A 전략 실무         부동산/금융      올인원   \n",
              "17                       매주)서비스 기획서 완성 온라인 완주반 2101         크리에이티브  온라인 완주반   \n",
              "\n",
              "           completed_at  transaction_amount coupon_title  \\\n",
              "0   2021-03-28 15:00:11               90500          NaN   \n",
              "1   2021-03-28 15:16:53               96000          NaN   \n",
              "6   2021-03-28 15:22:36              299000          NaN   \n",
              "7   2021-03-28 15:25:42              112500          NaN   \n",
              "17  2021-03-28 15:32:47              367000          NaN   \n",
              "\n",
              "    coupon_discount_amount  sale_price   pg subcategory_title  \\\n",
              "0                      NaN    110500.0  NaN           개발자 커리어   \n",
              "1                      NaN    116000.0  NaN             영상 편집   \n",
              "6                      NaN    299000.0  NaN               NaN   \n",
              "7                      NaN    122500.0  NaN          금융/투자 실무   \n",
              "17                     NaN    417000.0  NaN               NaN   \n",
              "\n",
              "    marketing_start_at  \n",
              "0                  NaN  \n",
              "1   2020-12-02 0:00:00  \n",
              "6                  NaN  \n",
              "7   2019-05-02 0:00:00  \n",
              "17  2021-01-14 0:00:00  "
            ],
            "text/html": [
              "\n",
              "  <div id=\"df-94d9ad27-06b4-47c5-a72d-a8daea381625\">\n",
              "    <div class=\"colab-df-container\">\n",
              "      <div>\n",
              "<style scoped>\n",
              "    .dataframe tbody tr th:only-of-type {\n",
              "        vertical-align: middle;\n",
              "    }\n",
              "\n",
              "    .dataframe tbody tr th {\n",
              "        vertical-align: top;\n",
              "    }\n",
              "\n",
              "    .dataframe thead th {\n",
              "        text-align: right;\n",
              "    }\n",
              "</style>\n",
              "<table border=\"1\" class=\"dataframe\">\n",
              "  <thead>\n",
              "    <tr style=\"text-align: right;\">\n",
              "      <th></th>\n",
              "      <th>id</th>\n",
              "      <th>customer_id</th>\n",
              "      <th>course_id</th>\n",
              "      <th>type</th>\n",
              "      <th>state</th>\n",
              "      <th>course_title</th>\n",
              "      <th>category_title</th>\n",
              "      <th>format</th>\n",
              "      <th>completed_at</th>\n",
              "      <th>transaction_amount</th>\n",
              "      <th>coupon_title</th>\n",
              "      <th>coupon_discount_amount</th>\n",
              "      <th>sale_price</th>\n",
              "      <th>pg</th>\n",
              "      <th>subcategory_title</th>\n",
              "      <th>marketing_start_at</th>\n",
              "    </tr>\n",
              "  </thead>\n",
              "  <tbody>\n",
              "    <tr>\n",
              "      <th>0</th>\n",
              "      <td>970634</td>\n",
              "      <td>504760.0</td>\n",
              "      <td>201435.0</td>\n",
              "      <td>ORDER</td>\n",
              "      <td>CANCELLED</td>\n",
              "      <td>올인원 패키지 : 알고리즘 기술면접 완전 정복</td>\n",
              "      <td>프로그래밍</td>\n",
              "      <td>올인원</td>\n",
              "      <td>2021-03-28 15:00:11</td>\n",
              "      <td>90500</td>\n",
              "      <td>NaN</td>\n",
              "      <td>NaN</td>\n",
              "      <td>110500.0</td>\n",
              "      <td>NaN</td>\n",
              "      <td>개발자 커리어</td>\n",
              "      <td>NaN</td>\n",
              "    </tr>\n",
              "    <tr>\n",
              "      <th>1</th>\n",
              "      <td>970650</td>\n",
              "      <td>432862.0</td>\n",
              "      <td>203178.0</td>\n",
              "      <td>ORDER</td>\n",
              "      <td>CANCELLED</td>\n",
              "      <td>초격차 패키지 : 한번에 끝내는 영상 촬영과 편집</td>\n",
              "      <td>영상/3D</td>\n",
              "      <td>올인원</td>\n",
              "      <td>2021-03-28 15:16:53</td>\n",
              "      <td>96000</td>\n",
              "      <td>NaN</td>\n",
              "      <td>NaN</td>\n",
              "      <td>116000.0</td>\n",
              "      <td>NaN</td>\n",
              "      <td>영상 편집</td>\n",
              "      <td>2020-12-02 0:00:00</td>\n",
              "    </tr>\n",
              "    <tr>\n",
              "      <th>6</th>\n",
              "      <td>970614</td>\n",
              "      <td>477910.0</td>\n",
              "      <td>NaN</td>\n",
              "      <td>ORDER</td>\n",
              "      <td>CANCELLED</td>\n",
              "      <td>프로모션 : 2021 내 커리어 지켜 줄 UX/UI 디자인 한끝세트 (3월 프리패스)</td>\n",
              "      <td>크리에이티브</td>\n",
              "      <td>올인원</td>\n",
              "      <td>2021-03-28 15:22:36</td>\n",
              "      <td>299000</td>\n",
              "      <td>NaN</td>\n",
              "      <td>NaN</td>\n",
              "      <td>299000.0</td>\n",
              "      <td>NaN</td>\n",
              "      <td>NaN</td>\n",
              "      <td>NaN</td>\n",
              "    </tr>\n",
              "    <tr>\n",
              "      <th>7</th>\n",
              "      <td>970664</td>\n",
              "      <td>460730.0</td>\n",
              "      <td>200622.0</td>\n",
              "      <td>ORDER</td>\n",
              "      <td>CANCELLED</td>\n",
              "      <td>올인원 패키지 : 기업가치 평가와 M&amp;A 전략 실무</td>\n",
              "      <td>부동산/금융</td>\n",
              "      <td>올인원</td>\n",
              "      <td>2021-03-28 15:25:42</td>\n",
              "      <td>112500</td>\n",
              "      <td>NaN</td>\n",
              "      <td>NaN</td>\n",
              "      <td>122500.0</td>\n",
              "      <td>NaN</td>\n",
              "      <td>금융/투자 실무</td>\n",
              "      <td>2019-05-02 0:00:00</td>\n",
              "    </tr>\n",
              "    <tr>\n",
              "      <th>17</th>\n",
              "      <td>970675</td>\n",
              "      <td>478036.0</td>\n",
              "      <td>204037.0</td>\n",
              "      <td>ORDER</td>\n",
              "      <td>CANCELLED</td>\n",
              "      <td>매주)서비스 기획서 완성 온라인 완주반 2101</td>\n",
              "      <td>크리에이티브</td>\n",
              "      <td>온라인 완주반</td>\n",
              "      <td>2021-03-28 15:32:47</td>\n",
              "      <td>367000</td>\n",
              "      <td>NaN</td>\n",
              "      <td>NaN</td>\n",
              "      <td>417000.0</td>\n",
              "      <td>NaN</td>\n",
              "      <td>NaN</td>\n",
              "      <td>2021-01-14 0:00:00</td>\n",
              "    </tr>\n",
              "  </tbody>\n",
              "</table>\n",
              "</div>\n",
              "      <button class=\"colab-df-convert\" onclick=\"convertToInteractive('df-94d9ad27-06b4-47c5-a72d-a8daea381625')\"\n",
              "              title=\"Convert this dataframe to an interactive table.\"\n",
              "              style=\"display:none;\">\n",
              "        \n",
              "  <svg xmlns=\"http://www.w3.org/2000/svg\" height=\"24px\"viewBox=\"0 0 24 24\"\n",
              "       width=\"24px\">\n",
              "    <path d=\"M0 0h24v24H0V0z\" fill=\"none\"/>\n",
              "    <path d=\"M18.56 5.44l.94 2.06.94-2.06 2.06-.94-2.06-.94-.94-2.06-.94 2.06-2.06.94zm-11 1L8.5 8.5l.94-2.06 2.06-.94-2.06-.94L8.5 2.5l-.94 2.06-2.06.94zm10 10l.94 2.06.94-2.06 2.06-.94-2.06-.94-.94-2.06-.94 2.06-2.06.94z\"/><path d=\"M17.41 7.96l-1.37-1.37c-.4-.4-.92-.59-1.43-.59-.52 0-1.04.2-1.43.59L10.3 9.45l-7.72 7.72c-.78.78-.78 2.05 0 2.83L4 21.41c.39.39.9.59 1.41.59.51 0 1.02-.2 1.41-.59l7.78-7.78 2.81-2.81c.8-.78.8-2.07 0-2.86zM5.41 20L4 18.59l7.72-7.72 1.47 1.35L5.41 20z\"/>\n",
              "  </svg>\n",
              "      </button>\n",
              "      \n",
              "  <style>\n",
              "    .colab-df-container {\n",
              "      display:flex;\n",
              "      flex-wrap:wrap;\n",
              "      gap: 12px;\n",
              "    }\n",
              "\n",
              "    .colab-df-convert {\n",
              "      background-color: #E8F0FE;\n",
              "      border: none;\n",
              "      border-radius: 50%;\n",
              "      cursor: pointer;\n",
              "      display: none;\n",
              "      fill: #1967D2;\n",
              "      height: 32px;\n",
              "      padding: 0 0 0 0;\n",
              "      width: 32px;\n",
              "    }\n",
              "\n",
              "    .colab-df-convert:hover {\n",
              "      background-color: #E2EBFA;\n",
              "      box-shadow: 0px 1px 2px rgba(60, 64, 67, 0.3), 0px 1px 3px 1px rgba(60, 64, 67, 0.15);\n",
              "      fill: #174EA6;\n",
              "    }\n",
              "\n",
              "    [theme=dark] .colab-df-convert {\n",
              "      background-color: #3B4455;\n",
              "      fill: #D2E3FC;\n",
              "    }\n",
              "\n",
              "    [theme=dark] .colab-df-convert:hover {\n",
              "      background-color: #434B5C;\n",
              "      box-shadow: 0px 1px 3px 1px rgba(0, 0, 0, 0.15);\n",
              "      filter: drop-shadow(0px 1px 2px rgba(0, 0, 0, 0.3));\n",
              "      fill: #FFFFFF;\n",
              "    }\n",
              "  </style>\n",
              "\n",
              "      <script>\n",
              "        const buttonEl =\n",
              "          document.querySelector('#df-94d9ad27-06b4-47c5-a72d-a8daea381625 button.colab-df-convert');\n",
              "        buttonEl.style.display =\n",
              "          google.colab.kernel.accessAllowed ? 'block' : 'none';\n",
              "\n",
              "        async function convertToInteractive(key) {\n",
              "          const element = document.querySelector('#df-94d9ad27-06b4-47c5-a72d-a8daea381625');\n",
              "          const dataTable =\n",
              "            await google.colab.kernel.invokeFunction('convertToInteractive',\n",
              "                                                     [key], {});\n",
              "          if (!dataTable) return;\n",
              "\n",
              "          const docLinkHtml = 'Like what you see? Visit the ' +\n",
              "            '<a target=\"_blank\" href=https://colab.research.google.com/notebooks/data_table.ipynb>data table notebook</a>'\n",
              "            + ' to learn more about interactive tables.';\n",
              "          element.innerHTML = '';\n",
              "          dataTable['output_type'] = 'display_data';\n",
              "          await google.colab.output.renderOutput(dataTable, element);\n",
              "          const docLink = document.createElement('div');\n",
              "          docLink.innerHTML = docLinkHtml;\n",
              "          element.appendChild(docLink);\n",
              "        }\n",
              "      </script>\n",
              "    </div>\n",
              "  </div>\n",
              "  "
            ]
          },
          "metadata": {},
          "execution_count": 49
        }
      ]
    },
    {
      "cell_type": "code",
      "source": [
        "fig_dims = (12, 6)\n",
        "fig, ax = plt.subplots(figsize=fig_dims)\n",
        "sns.countplot(data=c1, x=\"category_title\", palette='Paired', order = c1['category_title'].value_counts().index)\n",
        "plt.title('강의를 1개만 수강하는 수강생의 카테고리 분포')"
      ],
      "metadata": {
        "colab": {
          "base_uri": "https://localhost:8080/",
          "height": 421
        },
        "id": "uTNRvU-mTpWg",
        "outputId": "7ac152fe-0877-4de8-eed3-98773449bd74"
      },
      "id": "uTNRvU-mTpWg",
      "execution_count": 50,
      "outputs": [
        {
          "output_type": "execute_result",
          "data": {
            "text/plain": [
              "Text(0.5, 1.0, '강의를 1개만 수강하는 수강생의 카테고리 분포')"
            ]
          },
          "metadata": {},
          "execution_count": 50
        },
        {
          "output_type": "display_data",
          "data": {
            "text/plain": [
              "<Figure size 864x432 with 1 Axes>"
            ],
            "image/png": "[encoded data removed]"
          },
          "metadata": {
            "needs_background": "light"
          }
        }
      ]
    },
    {
      "cell_type": "code",
      "execution_count": 51,
      "id": "0a3a58ae",
      "metadata": {
        "ExecuteTime": {
          "end_time": "2022-05-10T16:44:40.090271Z",
          "start_time": "2022-05-10T16:44:40.066005Z"
        },
        "scrolled": true,
        "id": "0a3a58ae",
        "colab": {
          "base_uri": "https://localhost:8080/",
          "height": 250
        },
        "outputId": "7d992f44-5ca9-4f06-8a62-e89420ad5d04"
      },
      "outputs": [
        {
          "output_type": "execute_result",
          "data": {
            "text/plain": [
              "       id  customer_id  course_id     type      state  \\\n",
              "2  970657      72297.0   204246.0  PAYMENT  COMPLETED   \n",
              "3  970656      72297.0   204246.0    ORDER  CANCELLED   \n",
              "4  970658     478028.0   201797.0  PAYMENT  COMPLETED   \n",
              "5  970655     478028.0   201797.0    ORDER  CANCELLED   \n",
              "8  970669     478033.0   203178.0  PAYMENT  COMPLETED   \n",
              "\n",
              "                    course_title category_title  format         completed_at  \\\n",
              "2           시크릿코드 : 프론트엔드 실무 완성편          프로그래밍  스쿨 온라인  2021-03-28 15:21:43   \n",
              "3           시크릿코드 : 프론트엔드 실무 완성편          프로그래밍  스쿨 온라인  2021-03-28 15:21:43   \n",
              "4  올인원 패키지 : 직장인 필수 스킬 3종 세트 MAX         업무 생산성     올인원  2021-03-28 15:21:54   \n",
              "5  올인원 패키지 : 직장인 필수 스킬 3종 세트 MAX         업무 생산성     올인원  2021-03-28 15:21:56   \n",
              "8    초격차 패키지 : 한번에 끝내는 영상 촬영과 편집          영상/3D     올인원  2021-03-28 15:26:47   \n",
              "\n",
              "   transaction_amount              coupon_title  coupon_discount_amount  \\\n",
              "2              171810     [10% 할인] 시크릿코드 실무 완성편                 19090.0   \n",
              "3              171810                       NaN                     NaN   \n",
              "4               97500  [웰컴쿠폰] 올인원 패키지 2만원 할인 쿠폰                 20000.0   \n",
              "5               97500                       NaN                     NaN   \n",
              "8               96000  [웰컴쿠폰] 올인원 패키지 2만원 할인 쿠폰                 20000.0   \n",
              "\n",
              "   sale_price   pg subcategory_title  marketing_start_at  \n",
              "2    190900.0  NaN               NaN  2021-03-04 0:00:00  \n",
              "3    190900.0  NaN               NaN  2021-03-04 0:00:00  \n",
              "4    117500.0  NaN           PPT/보고서  2019-11-14 0:00:00  \n",
              "5    117500.0  NaN           PPT/보고서  2019-11-14 0:00:00  \n",
              "8    116000.0  NaN             영상 편집  2020-12-02 0:00:00  "
            ],
            "text/html": [
              "\n",
              "  <div id=\"df-f39824a6-87f6-4d3b-ab65-4080960cfabf\">\n",
              "    <div class=\"colab-df-container\">\n",
              "      <div>\n",
              "<style scoped>\n",
              "    .dataframe tbody tr th:only-of-type {\n",
              "        vertical-align: middle;\n",
              "    }\n",
              "\n",
              "    .dataframe tbody tr th {\n",
              "        vertical-align: top;\n",
              "    }\n",
              "\n",
              "    .dataframe thead th {\n",
              "        text-align: right;\n",
              "    }\n",
              "</style>\n",
              "<table border=\"1\" class=\"dataframe\">\n",
              "  <thead>\n",
              "    <tr style=\"text-align: right;\">\n",
              "      <th></th>\n",
              "      <th>id</th>\n",
              "      <th>customer_id</th>\n",
              "      <th>course_id</th>\n",
              "      <th>type</th>\n",
              "      <th>state</th>\n",
              "      <th>course_title</th>\n",
              "      <th>category_title</th>\n",
              "      <th>format</th>\n",
              "      <th>completed_at</th>\n",
              "      <th>transaction_amount</th>\n",
              "      <th>coupon_title</th>\n",
              "      <th>coupon_discount_amount</th>\n",
              "      <th>sale_price</th>\n",
              "      <th>pg</th>\n",
              "      <th>subcategory_title</th>\n",
              "      <th>marketing_start_at</th>\n",
              "    </tr>\n",
              "  </thead>\n",
              "  <tbody>\n",
              "    <tr>\n",
              "      <th>2</th>\n",
              "      <td>970657</td>\n",
              "      <td>72297.0</td>\n",
              "      <td>204246.0</td>\n",
              "      <td>PAYMENT</td>\n",
              "      <td>COMPLETED</td>\n",
              "      <td>시크릿코드 : 프론트엔드 실무 완성편</td>\n",
              "      <td>프로그래밍</td>\n",
              "      <td>스쿨 온라인</td>\n",
              "      <td>2021-03-28 15:21:43</td>\n",
              "      <td>171810</td>\n",
              "      <td>[10% 할인] 시크릿코드 실무 완성편</td>\n",
              "      <td>19090.0</td>\n",
              "      <td>190900.0</td>\n",
              "      <td>NaN</td>\n",
              "      <td>NaN</td>\n",
              "      <td>2021-03-04 0:00:00</td>\n",
              "    </tr>\n",
              "    <tr>\n",
              "      <th>3</th>\n",
              "      <td>970656</td>\n",
              "      <td>72297.0</td>\n",
              "      <td>204246.0</td>\n",
              "      <td>ORDER</td>\n",
              "      <td>CANCELLED</td>\n",
              "      <td>시크릿코드 : 프론트엔드 실무 완성편</td>\n",
              "      <td>프로그래밍</td>\n",
              "      <td>스쿨 온라인</td>\n",
              "      <td>2021-03-28 15:21:43</td>\n",
              "      <td>171810</td>\n",
              "      <td>NaN</td>\n",
              "      <td>NaN</td>\n",
              "      <td>190900.0</td>\n",
              "      <td>NaN</td>\n",
              "      <td>NaN</td>\n",
              "      <td>2021-03-04 0:00:00</td>\n",
              "    </tr>\n",
              "    <tr>\n",
              "      <th>4</th>\n",
              "      <td>970658</td>\n",
              "      <td>478028.0</td>\n",
              "      <td>201797.0</td>\n",
              "      <td>PAYMENT</td>\n",
              "      <td>COMPLETED</td>\n",
              "      <td>올인원 패키지 : 직장인 필수 스킬 3종 세트 MAX</td>\n",
              "      <td>업무 생산성</td>\n",
              "      <td>올인원</td>\n",
              "      <td>2021-03-28 15:21:54</td>\n",
              "      <td>97500</td>\n",
              "      <td>[웰컴쿠폰] 올인원 패키지 2만원 할인 쿠폰</td>\n",
              "      <td>20000.0</td>\n",
              "      <td>117500.0</td>\n",
              "      <td>NaN</td>\n",
              "      <td>PPT/보고서</td>\n",
              "      <td>2019-11-14 0:00:00</td>\n",
              "    </tr>\n",
              "    <tr>\n",
              "      <th>5</th>\n",
              "      <td>970655</td>\n",
              "      <td>478028.0</td>\n",
              "      <td>201797.0</td>\n",
              "      <td>ORDER</td>\n",
              "      <td>CANCELLED</td>\n",
              "      <td>올인원 패키지 : 직장인 필수 스킬 3종 세트 MAX</td>\n",
              "      <td>업무 생산성</td>\n",
              "      <td>올인원</td>\n",
              "      <td>2021-03-28 15:21:56</td>\n",
              "      <td>97500</td>\n",
              "      <td>NaN</td>\n",
              "      <td>NaN</td>\n",
              "      <td>117500.0</td>\n",
              "      <td>NaN</td>\n",
              "      <td>PPT/보고서</td>\n",
              "      <td>2019-11-14 0:00:00</td>\n",
              "    </tr>\n",
              "    <tr>\n",
              "      <th>8</th>\n",
              "      <td>970669</td>\n",
              "      <td>478033.0</td>\n",
              "      <td>203178.0</td>\n",
              "      <td>PAYMENT</td>\n",
              "      <td>COMPLETED</td>\n",
              "      <td>초격차 패키지 : 한번에 끝내는 영상 촬영과 편집</td>\n",
              "      <td>영상/3D</td>\n",
              "      <td>올인원</td>\n",
              "      <td>2021-03-28 15:26:47</td>\n",
              "      <td>96000</td>\n",
              "      <td>[웰컴쿠폰] 올인원 패키지 2만원 할인 쿠폰</td>\n",
              "      <td>20000.0</td>\n",
              "      <td>116000.0</td>\n",
              "      <td>NaN</td>\n",
              "      <td>영상 편집</td>\n",
              "      <td>2020-12-02 0:00:00</td>\n",
              "    </tr>\n",
              "  </tbody>\n",
              "</table>\n",
              "</div>\n",
              "      <button class=\"colab-df-convert\" onclick=\"convertToInteractive('df-f39824a6-87f6-4d3b-ab65-4080960cfabf')\"\n",
              "              title=\"Convert this dataframe to an interactive table.\"\n",
              "              style=\"display:none;\">\n",
              "        \n",
              "  <svg xmlns=\"http://www.w3.org/2000/svg\" height=\"24px\"viewBox=\"0 0 24 24\"\n",
              "       width=\"24px\">\n",
              "    <path d=\"M0 0h24v24H0V0z\" fill=\"none\"/>\n",
              "    <path d=\"M18.56 5.44l.94 2.06.94-2.06 2.06-.94-2.06-.94-.94-2.06-.94 2.06-2.06.94zm-11 1L8.5 8.5l.94-2.06 2.06-.94-2.06-.94L8.5 2.5l-.94 2.06-2.06.94zm10 10l.94 2.06.94-2.06 2.06-.94-2.06-.94-.94-2.06-.94 2.06-2.06.94z\"/><path d=\"M17.41 7.96l-1.37-1.37c-.4-.4-.92-.59-1.43-.59-.52 0-1.04.2-1.43.59L10.3 9.45l-7.72 7.72c-.78.78-.78 2.05 0 2.83L4 21.41c.39.39.9.59 1.41.59.51 0 1.02-.2 1.41-.59l7.78-7.78 2.81-2.81c.8-.78.8-2.07 0-2.86zM5.41 20L4 18.59l7.72-7.72 1.47 1.35L5.41 20z\"/>\n",
              "  </svg>\n",
              "      </button>\n",
              "      \n",
              "  <style>\n",
              "    .colab-df-container {\n",
              "      display:flex;\n",
              "      flex-wrap:wrap;\n",
              "      gap: 12px;\n",
              "    }\n",
              "\n",
              "    .colab-df-convert {\n",
              "      background-color: #E8F0FE;\n",
              "      border: none;\n",
              "      border-radius: 50%;\n",
              "      cursor: pointer;\n",
              "      display: none;\n",
              "      fill: #1967D2;\n",
              "      height: 32px;\n",
              "      padding: 0 0 0 0;\n",
              "      width: 32px;\n",
              "    }\n",
              "\n",
              "    .colab-df-convert:hover {\n",
              "      background-color: #E2EBFA;\n",
              "      box-shadow: 0px 1px 2px rgba(60, 64, 67, 0.3), 0px 1px 3px 1px rgba(60, 64, 67, 0.15);\n",
              "      fill: #174EA6;\n",
              "    }\n",
              "\n",
              "    [theme=dark] .colab-df-convert {\n",
              "      background-color: #3B4455;\n",
              "      fill: #D2E3FC;\n",
              "    }\n",
              "\n",
              "    [theme=dark] .colab-df-convert:hover {\n",
              "      background-color: #434B5C;\n",
              "      box-shadow: 0px 1px 3px 1px rgba(0, 0, 0, 0.15);\n",
              "      filter: drop-shadow(0px 1px 2px rgba(0, 0, 0, 0.3));\n",
              "      fill: #FFFFFF;\n",
              "    }\n",
              "  </style>\n",
              "\n",
              "      <script>\n",
              "        const buttonEl =\n",
              "          document.querySelector('#df-f39824a6-87f6-4d3b-ab65-4080960cfabf button.colab-df-convert');\n",
              "        buttonEl.style.display =\n",
              "          google.colab.kernel.accessAllowed ? 'block' : 'none';\n",
              "\n",
              "        async function convertToInteractive(key) {\n",
              "          const element = document.querySelector('#df-f39824a6-87f6-4d3b-ab65-4080960cfabf');\n",
              "          const dataTable =\n",
              "            await google.colab.kernel.invokeFunction('convertToInteractive',\n",
              "                                                     [key], {});\n",
              "          if (!dataTable) return;\n",
              "\n",
              "          const docLinkHtml = 'Like what you see? Visit the ' +\n",
              "            '<a target=\"_blank\" href=https://colab.research.google.com/notebooks/data_table.ipynb>data table notebook</a>'\n",
              "            + ' to learn more about interactive tables.';\n",
              "          element.innerHTML = '';\n",
              "          dataTable['output_type'] = 'display_data';\n",
              "          await google.colab.output.renderOutput(dataTable, element);\n",
              "          const docLink = document.createElement('div');\n",
              "          docLink.innerHTML = docLinkHtml;\n",
              "          element.appendChild(docLink);\n",
              "        }\n",
              "      </script>\n",
              "    </div>\n",
              "  </div>\n",
              "  "
            ]
          },
          "metadata": {},
          "execution_count": 51
        }
      ],
      "source": [
        "customers = df.customer_id.value_counts().loc[df.customer_id.value_counts() > 1].index\n",
        "c = df.loc[df.customer_id.isin(customers)]\n",
        "c.head()"
      ]
    },
    {
      "cell_type": "code",
      "source": [
        "fig_dims = (12, 6)\n",
        "fig, ax = plt.subplots(figsize=fig_dims)\n",
        "sns.countplot(data=c, x=\"category_title\", palette='Paired', order = c['category_title'].value_counts().index)\n",
        "plt.title('강의를 2개 이상 수강하는 수강생의 카테고리 분포')"
      ],
      "metadata": {
        "colab": {
          "base_uri": "https://localhost:8080/",
          "height": 421
        },
        "id": "NbDiPg9TSTq-",
        "outputId": "c98115aa-f47d-46b7-c0df-63996cc7343a"
      },
      "id": "NbDiPg9TSTq-",
      "execution_count": 52,
      "outputs": [
        {
          "output_type": "execute_result",
          "data": {
            "text/plain": [
              "Text(0.5, 1.0, '강의를 2개 이상 수강하는 수강생의 카테고리 분포')"
            ]
          },
          "metadata": {},
          "execution_count": 52
        },
        {
          "output_type": "display_data",
          "data": {
            "text/plain": [
              "<Figure size 864x432 with 1 Axes>"
            ],
            "image/png": "[encoded data removed]"
          },
          "metadata": {
            "needs_background": "light"
          }
        }
      ]
    },
    {
      "cell_type": "code",
      "source": [
        "# 두개 그래프를 한 그래프에 표현하도록,,, hue 값이 강의수(단수/다수)?"
      ],
      "metadata": {
        "id": "1Se7_OajsxRB"
      },
      "id": "1Se7_OajsxRB",
      "execution_count": 53,
      "outputs": []
    },
    {
      "cell_type": "code",
      "source": [
        "#actual_cs.customer_id.value_counts().loc[actual_cs.customer_id.value_counts() == 2 ]\n",
        "#actual_cs.customer_id.value_counts().loc[actual_cs.customer_id.value_counts() == 3 ]\n",
        "#actual_cs.customer_id.value_counts().loc[actual_cs.customer_id.value_counts() == 4 ]\n",
        "#actual_cs.customer_id.value_counts().loc[actual_cs.customer_id.value_counts() > 5 ]"
      ],
      "metadata": {
        "colab": {
          "base_uri": "https://localhost:8080/",
          "height": 337
        },
        "id": "6ukX64VG9Ql0",
        "outputId": "69113cd7-9fa0-4f95-aed2-d5073ae29e0b"
      },
      "id": "6ukX64VG9Ql0",
      "execution_count": 103,
      "outputs": [
        {
          "output_type": "execute_result",
          "data": {
            "text/plain": [
              "        id  customer_id  course_id     type      state  \\\n",
              "4   970658     478028.0   201797.0  PAYMENT  COMPLETED   \n",
              "5   970655     478028.0   201797.0    ORDER  CANCELLED   \n",
              "8   970669     478033.0   203178.0  PAYMENT  COMPLETED   \n",
              "9   970667     478033.0   203178.0    ORDER  CANCELLED   \n",
              "10  970671     469860.0   203644.0  PAYMENT  COMPLETED   \n",
              "\n",
              "                                      course_title category_title format  \\\n",
              "4                    올인원 패키지 : 직장인 필수 스킬 3종 세트 MAX         업무 생산성    올인원   \n",
              "5                    올인원 패키지 : 직장인 필수 스킬 3종 세트 MAX         업무 생산성    올인원   \n",
              "8                      초격차 패키지 : 한번에 끝내는 영상 촬영과 편집          영상/3D    올인원   \n",
              "9                      초격차 패키지 : 한번에 끝내는 영상 촬영과 편집          영상/3D    올인원   \n",
              "10  올인원 패키지 : 권오상의 금융 아카데미 - 권오상의 재무제표 분석 기초(평생소장)         부동산/금융    올인원   \n",
              "\n",
              "           completed_at  transaction_amount              coupon_title  \\\n",
              "4   2021-03-28 15:21:54               97500  [웰컴쿠폰] 올인원 패키지 2만원 할인 쿠폰   \n",
              "5   2021-03-28 15:21:56               97500                       NaN   \n",
              "8   2021-03-28 15:26:47               96000  [웰컴쿠폰] 올인원 패키지 2만원 할인 쿠폰   \n",
              "9   2021-03-28 15:26:48               96000                       NaN   \n",
              "10  2021-03-28 15:27:17              263000                       NaN   \n",
              "\n",
              "    coupon_discount_amount  sale_price   pg subcategory_title  \\\n",
              "4                  20000.0    117500.0  NaN           PPT/보고서   \n",
              "5                      NaN    117500.0  NaN           PPT/보고서   \n",
              "8                  20000.0    116000.0  NaN             영상 편집   \n",
              "9                      NaN    116000.0  NaN             영상 편집   \n",
              "10                     NaN    263000.0  NaN               NaN   \n",
              "\n",
              "    marketing_start_at  \n",
              "4   2019-11-14 0:00:00  \n",
              "5   2019-11-14 0:00:00  \n",
              "8   2020-12-02 0:00:00  \n",
              "9   2020-12-02 0:00:00  \n",
              "10  2020-11-27 0:00:00  "
            ],
            "text/html": [
              "\n",
              "  <div id=\"df-68ecf0ed-bd18-4e07-961a-5a0775f58f69\">\n",
              "    <div class=\"colab-df-container\">\n",
              "      <div>\n",
              "<style scoped>\n",
              "    .dataframe tbody tr th:only-of-type {\n",
              "        vertical-align: middle;\n",
              "    }\n",
              "\n",
              "    .dataframe tbody tr th {\n",
              "        vertical-align: top;\n",
              "    }\n",
              "\n",
              "    .dataframe thead th {\n",
              "        text-align: right;\n",
              "    }\n",
              "</style>\n",
              "<table border=\"1\" class=\"dataframe\">\n",
              "  <thead>\n",
              "    <tr style=\"text-align: right;\">\n",
              "      <th></th>\n",
              "      <th>id</th>\n",
              "      <th>customer_id</th>\n",
              "      <th>course_id</th>\n",
              "      <th>type</th>\n",
              "      <th>state</th>\n",
              "      <th>course_title</th>\n",
              "      <th>category_title</th>\n",
              "      <th>format</th>\n",
              "      <th>completed_at</th>\n",
              "      <th>transaction_amount</th>\n",
              "      <th>coupon_title</th>\n",
              "      <th>coupon_discount_amount</th>\n",
              "      <th>sale_price</th>\n",
              "      <th>pg</th>\n",
              "      <th>subcategory_title</th>\n",
              "      <th>marketing_start_at</th>\n",
              "    </tr>\n",
              "  </thead>\n",
              "  <tbody>\n",
              "    <tr>\n",
              "      <th>4</th>\n",
              "      <td>970658</td>\n",
              "      <td>478028.0</td>\n",
              "      <td>201797.0</td>\n",
              "      <td>PAYMENT</td>\n",
              "      <td>COMPLETED</td>\n",
              "      <td>올인원 패키지 : 직장인 필수 스킬 3종 세트 MAX</td>\n",
              "      <td>업무 생산성</td>\n",
              "      <td>올인원</td>\n",
              "      <td>2021-03-28 15:21:54</td>\n",
              "      <td>97500</td>\n",
              "      <td>[웰컴쿠폰] 올인원 패키지 2만원 할인 쿠폰</td>\n",
              "      <td>20000.0</td>\n",
              "      <td>117500.0</td>\n",
              "      <td>NaN</td>\n",
              "      <td>PPT/보고서</td>\n",
              "      <td>2019-11-14 0:00:00</td>\n",
              "    </tr>\n",
              "    <tr>\n",
              "      <th>5</th>\n",
              "      <td>970655</td>\n",
              "      <td>478028.0</td>\n",
              "      <td>201797.0</td>\n",
              "      <td>ORDER</td>\n",
              "      <td>CANCELLED</td>\n",
              "      <td>올인원 패키지 : 직장인 필수 스킬 3종 세트 MAX</td>\n",
              "      <td>업무 생산성</td>\n",
              "      <td>올인원</td>\n",
              "      <td>2021-03-28 15:21:56</td>\n",
              "      <td>97500</td>\n",
              "      <td>NaN</td>\n",
              "      <td>NaN</td>\n",
              "      <td>117500.0</td>\n",
              "      <td>NaN</td>\n",
              "      <td>PPT/보고서</td>\n",
              "      <td>2019-11-14 0:00:00</td>\n",
              "    </tr>\n",
              "    <tr>\n",
              "      <th>8</th>\n",
              "      <td>970669</td>\n",
              "      <td>478033.0</td>\n",
              "      <td>203178.0</td>\n",
              "      <td>PAYMENT</td>\n",
              "      <td>COMPLETED</td>\n",
              "      <td>초격차 패키지 : 한번에 끝내는 영상 촬영과 편집</td>\n",
              "      <td>영상/3D</td>\n",
              "      <td>올인원</td>\n",
              "      <td>2021-03-28 15:26:47</td>\n",
              "      <td>96000</td>\n",
              "      <td>[웰컴쿠폰] 올인원 패키지 2만원 할인 쿠폰</td>\n",
              "      <td>20000.0</td>\n",
              "      <td>116000.0</td>\n",
              "      <td>NaN</td>\n",
              "      <td>영상 편집</td>\n",
              "      <td>2020-12-02 0:00:00</td>\n",
              "    </tr>\n",
              "    <tr>\n",
              "      <th>9</th>\n",
              "      <td>970667</td>\n",
              "      <td>478033.0</td>\n",
              "      <td>203178.0</td>\n",
              "      <td>ORDER</td>\n",
              "      <td>CANCELLED</td>\n",
              "      <td>초격차 패키지 : 한번에 끝내는 영상 촬영과 편집</td>\n",
              "      <td>영상/3D</td>\n",
              "      <td>올인원</td>\n",
              "      <td>2021-03-28 15:26:48</td>\n",
              "      <td>96000</td>\n",
              "      <td>NaN</td>\n",
              "      <td>NaN</td>\n",
              "      <td>116000.0</td>\n",
              "      <td>NaN</td>\n",
              "      <td>영상 편집</td>\n",
              "      <td>2020-12-02 0:00:00</td>\n",
              "    </tr>\n",
              "    <tr>\n",
              "      <th>10</th>\n",
              "      <td>970671</td>\n",
              "      <td>469860.0</td>\n",
              "      <td>203644.0</td>\n",
              "      <td>PAYMENT</td>\n",
              "      <td>COMPLETED</td>\n",
              "      <td>올인원 패키지 : 권오상의 금융 아카데미 - 권오상의 재무제표 분석 기초(평생소장)</td>\n",
              "      <td>부동산/금융</td>\n",
              "      <td>올인원</td>\n",
              "      <td>2021-03-28 15:27:17</td>\n",
              "      <td>263000</td>\n",
              "      <td>NaN</td>\n",
              "      <td>NaN</td>\n",
              "      <td>263000.0</td>\n",
              "      <td>NaN</td>\n",
              "      <td>NaN</td>\n",
              "      <td>2020-11-27 0:00:00</td>\n",
              "    </tr>\n",
              "  </tbody>\n",
              "</table>\n",
              "</div>\n",
              "      <button class=\"colab-df-convert\" onclick=\"convertToInteractive('df-68ecf0ed-bd18-4e07-961a-5a0775f58f69')\"\n",
              "              title=\"Convert this dataframe to an interactive table.\"\n",
              "              style=\"display:none;\">\n",
              "        \n",
              "  <svg xmlns=\"http://www.w3.org/2000/svg\" height=\"24px\"viewBox=\"0 0 24 24\"\n",
              "       width=\"24px\">\n",
              "    <path d=\"M0 0h24v24H0V0z\" fill=\"none\"/>\n",
              "    <path d=\"M18.56 5.44l.94 2.06.94-2.06 2.06-.94-2.06-.94-.94-2.06-.94 2.06-2.06.94zm-11 1L8.5 8.5l.94-2.06 2.06-.94-2.06-.94L8.5 2.5l-.94 2.06-2.06.94zm10 10l.94 2.06.94-2.06 2.06-.94-2.06-.94-.94-2.06-.94 2.06-2.06.94z\"/><path d=\"M17.41 7.96l-1.37-1.37c-.4-.4-.92-.59-1.43-.59-.52 0-1.04.2-1.43.59L10.3 9.45l-7.72 7.72c-.78.78-.78 2.05 0 2.83L4 21.41c.39.39.9.59 1.41.59.51 0 1.02-.2 1.41-.59l7.78-7.78 2.81-2.81c.8-.78.8-2.07 0-2.86zM5.41 20L4 18.59l7.72-7.72 1.47 1.35L5.41 20z\"/>\n",
              "  </svg>\n",
              "      </button>\n",
              "      \n",
              "  <style>\n",
              "    .colab-df-container {\n",
              "      display:flex;\n",
              "      flex-wrap:wrap;\n",
              "      gap: 12px;\n",
              "    }\n",
              "\n",
              "    .colab-df-convert {\n",
              "      background-color: #E8F0FE;\n",
              "      border: none;\n",
              "      border-radius: 50%;\n",
              "      cursor: pointer;\n",
              "      display: none;\n",
              "      fill: #1967D2;\n",
              "      height: 32px;\n",
              "      padding: 0 0 0 0;\n",
              "      width: 32px;\n",
              "    }\n",
              "\n",
              "    .colab-df-convert:hover {\n",
              "      background-color: #E2EBFA;\n",
              "      box-shadow: 0px 1px 2px rgba(60, 64, 67, 0.3), 0px 1px 3px 1px rgba(60, 64, 67, 0.15);\n",
              "      fill: #174EA6;\n",
              "    }\n",
              "\n",
              "    [theme=dark] .colab-df-convert {\n",
              "      background-color: #3B4455;\n",
              "      fill: #D2E3FC;\n",
              "    }\n",
              "\n",
              "    [theme=dark] .colab-df-convert:hover {\n",
              "      background-color: #434B5C;\n",
              "      box-shadow: 0px 1px 3px 1px rgba(0, 0, 0, 0.15);\n",
              "      filter: drop-shadow(0px 1px 2px rgba(0, 0, 0, 0.3));\n",
              "      fill: #FFFFFF;\n",
              "    }\n",
              "  </style>\n",
              "\n",
              "      <script>\n",
              "        const buttonEl =\n",
              "          document.querySelector('#df-68ecf0ed-bd18-4e07-961a-5a0775f58f69 button.colab-df-convert');\n",
              "        buttonEl.style.display =\n",
              "          google.colab.kernel.accessAllowed ? 'block' : 'none';\n",
              "\n",
              "        async function convertToInteractive(key) {\n",
              "          const element = document.querySelector('#df-68ecf0ed-bd18-4e07-961a-5a0775f58f69');\n",
              "          const dataTable =\n",
              "            await google.colab.kernel.invokeFunction('convertToInteractive',\n",
              "                                                     [key], {});\n",
              "          if (!dataTable) return;\n",
              "\n",
              "          const docLinkHtml = 'Like what you see? Visit the ' +\n",
              "            '<a target=\"_blank\" href=https://colab.research.google.com/notebooks/data_table.ipynb>data table notebook</a>'\n",
              "            + ' to learn more about interactive tables.';\n",
              "          element.innerHTML = '';\n",
              "          dataTable['output_type'] = 'display_data';\n",
              "          await google.colab.output.renderOutput(dataTable, element);\n",
              "          const docLink = document.createElement('div');\n",
              "          docLink.innerHTML = docLinkHtml;\n",
              "          element.appendChild(docLink);\n",
              "        }\n",
              "      </script>\n",
              "    </div>\n",
              "  </div>\n",
              "  "
            ]
          },
          "metadata": {},
          "execution_count": 103
        }
      ]
    },
    {
      "cell_type": "markdown",
      "id": "e752638c",
      "metadata": {
        "id": "e752638c"
      },
      "source": [
        "### Category 별 수강생 분포 확인\n",
        "제일 핫한 카테고리 ?\n",
        "제일 많이 팔린 강의 ?"
      ]
    },
    {
      "cell_type": "code",
      "execution_count": 54,
      "id": "70245f23",
      "metadata": {
        "ExecuteTime": {
          "end_time": "2022-05-10T16:44:44.438792Z",
          "start_time": "2022-05-10T16:44:44.373794Z"
        },
        "colab": {
          "base_uri": "https://localhost:8080/"
        },
        "id": "70245f23",
        "outputId": "063ef114-6cfd-419f-a215-9e6f11270fab"
      },
      "outputs": [
        {
          "output_type": "execute_result",
          "data": {
            "text/plain": [
              "프로그래밍      17608\n",
              "데이터사이언스     6904\n",
              "업무 생산성      6668\n",
              "디자인         5715\n",
              "영상/3D       5153\n",
              "마케팅         4712\n",
              "부동산/금융      2881\n",
              "투자/재테크      1490\n",
              "교육           927\n",
              "크리에이티브       840\n",
              "Name: category_title, dtype: int64"
            ]
          },
          "metadata": {},
          "execution_count": 54
        }
      ],
      "source": [
        "actual_cs.category_title.value_counts()"
      ]
    },
    {
      "cell_type": "code",
      "source": [
        "fig_dims = (15, 8)\n",
        "fig, ax = plt.subplots(figsize=fig_dims)\n",
        "sns.countplot(data=actual_cs, x=\"category_title\", palette='Paired', order =actual_cs['category_title'].value_counts().index) \n",
        "plt.title('카테고리별 수강생 수')"
      ],
      "metadata": {
        "colab": {
          "base_uri": "https://localhost:8080/",
          "height": 530
        },
        "id": "9zOWj01l6J9i",
        "outputId": "7814ed98-cf4e-4200-e572-1cc2c99cbb94"
      },
      "id": "9zOWj01l6J9i",
      "execution_count": 55,
      "outputs": [
        {
          "output_type": "execute_result",
          "data": {
            "text/plain": [
              "Text(0.5, 1.0, '카테고리별 수강생 수')"
            ]
          },
          "metadata": {},
          "execution_count": 55
        },
        {
          "output_type": "display_data",
          "data": {
            "text/plain": [
              "<Figure size 1080x576 with 1 Axes>"
            ],
            "image/png": "[encoded data removed]"
          },
          "metadata": {
            "needs_background": "light"
          }
        }
      ]
    },
    {
      "cell_type": "markdown",
      "source": [
        "#### Subcategory 별 분포"
      ],
      "metadata": {
        "id": "s0v3lHkJG2yV"
      },
      "id": "s0v3lHkJG2yV"
    },
    {
      "cell_type": "code",
      "source": [
        "fig_dims = (30, 11)\n",
        "fig, ax = plt.subplots(figsize=fig_dims)\n",
        "sns.countplot(data=actual_cs, x=\"category_title\", palette='Accent', hue=\"subcategory_title\") \n",
        "plt.title('카테고리별 수강생 수')\n",
        "plt.legend(loc='upper left')"
      ],
      "metadata": {
        "id": "eLXYMchDQxaB",
        "colab": {
          "base_uri": "https://localhost:8080/",
          "height": 693
        },
        "outputId": "eedd1113-a4a6-4d88-dd2e-9aff7141296a"
      },
      "id": "eLXYMchDQxaB",
      "execution_count": 58,
      "outputs": [
        {
          "output_type": "execute_result",
          "data": {
            "text/plain": [
              "<matplotlib.legend.Legend at 0x7f7e5bdd27d0>"
            ]
          },
          "metadata": {},
          "execution_count": 58
        },
        {
          "output_type": "display_data",
          "data": {
            "text/plain": [
              "<Figure size 2160x792 with 1 Axes>"
            ],
            "image/png": "[encoded data removed]"
          },
          "metadata": {
            "needs_background": "light"
          }
        }
      ]
    },
    {
      "cell_type": "markdown",
      "source": [
        "> 하위 카테고리로 구분해서 보니 의외로 [프로그래밍]이 아닌 **[영상/3D]의 *'영상 편집'*** 관련 강의 수강생이 3625명으로 모든 subcategory 중 가장 많았다.\n",
        ">\n",
        "> 그 다음으로는 [프로그래밍]의 '백엔드 개발(3,386명)', '개발자 커리어(3,104명)' 순이었다.\n",
        ">\n",
        ">(교육, 크리에이티브는 subcategory 값이 NaN이라 그래프에서 나타나지 않음. 아래에서 category 기준으로 별도로 그림)"
      ],
      "metadata": {
        "id": "seES41yvZxx0"
      },
      "id": "seES41yvZxx0"
    },
    {
      "cell_type": "markdown",
      "source": [
        "각 카테고리에서 하위 카테고리별 수강생 분포를 확인한다."
      ],
      "metadata": {
        "id": "x4k7VsUXYTbG"
      },
      "id": "x4k7VsUXYTbG"
    },
    {
      "cell_type": "code",
      "source": [
        "actual_cs['category_title'].unique()\n",
        "for sub in actual_cs['category_title'].unique():\n",
        "    a = actual_cs[actual_cs['category_title']   == sub]\n",
        "    b = a.subcategory_title.value_counts()\n",
        "    print(f'------------카테고리 : {sub}------------')\n",
        "    print(b)"
      ],
      "metadata": {
        "colab": {
          "base_uri": "https://localhost:8080/"
        },
        "id": "EjZQPES8bv3y",
        "outputId": "8ce492d5-ce3f-4a42-d5f4-7d80b54287e8"
      },
      "id": "EjZQPES8bv3y",
      "execution_count": 59,
      "outputs": [
        {
          "output_type": "stream",
          "name": "stdout",
          "text": [
            "------------카테고리 : 교육------------\n",
            "Series([], Name: subcategory_title, dtype: int64)\n",
            "------------카테고리 : 데이터사이언스------------\n",
            "딥러닝/인공지능    2314\n",
            "데이터분석       2098\n",
            "머신러닝        1060\n",
            "데이터엔지니어링     178\n",
            "Name: subcategory_title, dtype: int64\n",
            "------------카테고리 : 디자인------------\n",
            "디자인툴     1902\n",
            "일러스트     1548\n",
            "UX/UI    1309\n",
            "시각디자인     950\n",
            "Name: subcategory_title, dtype: int64\n",
            "------------카테고리 : 마케팅------------\n",
            "글쓰기/카피라이팅    1703\n",
            "데이터마케팅       1090\n",
            "디지털마케팅        850\n",
            "SNS마케팅        654\n",
            "Name: subcategory_title, dtype: int64\n",
            "------------카테고리 : 부동산/금융------------\n",
            "금융/투자 실무    1134\n",
            "회계/재무/세무    1000\n",
            "부동산 개발       591\n",
            "Name: subcategory_title, dtype: int64\n",
            "------------카테고리 : 업무 생산성------------\n",
            "PPT/보고서    2061\n",
            "엑셀/VBA     1978\n",
            "업무자동화       487\n",
            "리더십         284\n",
            "커뮤니케이션      117\n",
            "Name: subcategory_title, dtype: int64\n",
            "------------카테고리 : 영상/3D------------\n",
            "영상 편집     3625\n",
            "모션그래픽      953\n",
            "VFX        351\n",
            "게임 그래픽     222\n",
            "Name: subcategory_title, dtype: int64\n",
            "------------카테고리 : 크리에이티브------------\n",
            "Series([], Name: subcategory_title, dtype: int64)\n",
            "------------카테고리 : 투자/재테크------------\n",
            "주식 투자     1106\n",
            "부동산 투자     384\n",
            "Name: subcategory_title, dtype: int64\n",
            "------------카테고리 : 프로그래밍------------\n",
            "백엔드 개발      3386\n",
            "개발자 커리어     3104\n",
            "프론트엔드 개발    2740\n",
            "모바일앱        1803\n",
            "DevOps      1211\n",
            "게임           856\n",
            "코딩 입문        418\n",
            "Name: subcategory_title, dtype: int64\n"
          ]
        }
      ]
    },
    {
      "cell_type": "markdown",
      "source": [
        "##### **프로그래밍**"
      ],
      "metadata": {
        "id": "WWLHv3IWOEJ8"
      },
      "id": "WWLHv3IWOEJ8"
    },
    {
      "cell_type": "code",
      "source": [
        " # 프로그래밍 \n",
        " programing = actual_cs[actual_cs['category_title']   == '프로그래밍']\n",
        " programing.subcategory_title.value_counts()"
      ],
      "metadata": {
        "colab": {
          "base_uri": "https://localhost:8080/"
        },
        "id": "ouejian5HF85",
        "outputId": "f4eeaeb6-d768-41d1-a48f-cff0c7d53743"
      },
      "id": "ouejian5HF85",
      "execution_count": 60,
      "outputs": [
        {
          "output_type": "execute_result",
          "data": {
            "text/plain": [
              "백엔드 개발      3386\n",
              "개발자 커리어     3104\n",
              "프론트엔드 개발    2740\n",
              "모바일앱        1803\n",
              "DevOps      1211\n",
              "게임           856\n",
              "코딩 입문        418\n",
              "Name: subcategory_title, dtype: int64"
            ]
          },
          "metadata": {},
          "execution_count": 60
        }
      ]
    },
    {
      "cell_type": "code",
      "source": [
        "fig_dims = (9, 4)\n",
        "fig, ax = plt.subplots(figsize=fig_dims)\n",
        "sns.countplot(data=programing, x=\"subcategory_title\", palette='Accent', order =programing['subcategory_title'].value_counts().index) \n",
        "plt.title('프로그래밍 - 하위 카테고리별 수강생 수')\n",
        "plt.ylim([0, 3700])"
      ],
      "metadata": {
        "colab": {
          "base_uri": "https://localhost:8080/",
          "height": 312
        },
        "id": "QiIrn2PIMtp1",
        "outputId": "c1529a3c-05a2-41e2-a2b5-940951d82047"
      },
      "id": "QiIrn2PIMtp1",
      "execution_count": 61,
      "outputs": [
        {
          "output_type": "execute_result",
          "data": {
            "text/plain": [
              "(0.0, 3700.0)"
            ]
          },
          "metadata": {},
          "execution_count": 61
        },
        {
          "output_type": "display_data",
          "data": {
            "text/plain": [
              "<Figure size 648x288 with 1 Axes>"
            ],
            "image/png": "[encoded data removed]"
          },
          "metadata": {
            "needs_background": "light"
          }
        }
      ]
    },
    {
      "cell_type": "markdown",
      "source": [
        "###### ☞ 의견\n",
        "프로그래밍 중에서도 '백엔드 개발(3,386명)'에 관심이 많은 것으로 나타났다. (네카라쿠배 대기업 준비...일까?)\n",
        "\n",
        "또한 '개발자 커리어(3,104명)'에 대한 관심도 많은 것으로 보여지며, '프론트엔드 개발(2,740명)'도 수강생이 적은 수는 아니지만 상대적으로 프론트엔드 보다는 백엔드에 *대한* 수요가 더 많은 것으로 보여진다.\n"
      ],
      "metadata": {
        "id": "LyfUIb2yVznv"
      },
      "id": "LyfUIb2yVznv"
    },
    {
      "cell_type": "markdown",
      "source": [
        "##### **데이터사이언스**"
      ],
      "metadata": {
        "id": "3y67LeNIOaXD"
      },
      "id": "3y67LeNIOaXD"
    },
    {
      "cell_type": "code",
      "source": [
        "# 데이터사이언스 \n",
        "DS = actual_cs[actual_cs['category_title']   == '데이터사이언스']\n",
        "DS.subcategory_title.value_counts()"
      ],
      "metadata": {
        "colab": {
          "base_uri": "https://localhost:8080/"
        },
        "id": "N8RGnvMbO5KT",
        "outputId": "d63d8673-af7f-47e1-ae20-7fb178a41bfa"
      },
      "id": "N8RGnvMbO5KT",
      "execution_count": 62,
      "outputs": [
        {
          "output_type": "execute_result",
          "data": {
            "text/plain": [
              "딥러닝/인공지능    2314\n",
              "데이터분석       2098\n",
              "머신러닝        1060\n",
              "데이터엔지니어링     178\n",
              "Name: subcategory_title, dtype: int64"
            ]
          },
          "metadata": {},
          "execution_count": 62
        }
      ]
    },
    {
      "cell_type": "code",
      "source": [
        "fig_dims = (5, 4)\n",
        "fig, ax = plt.subplots(figsize=fig_dims)\n",
        "sns.countplot(data=DS, x=\"subcategory_title\", palette='Accent', order =DS['subcategory_title'].value_counts().index) \n",
        "plt.title('데이터사이언스 - 하위 카테고리별 수강생 수')\n",
        "plt.ylim([0, 3700])"
      ],
      "metadata": {
        "colab": {
          "base_uri": "https://localhost:8080/",
          "height": 312
        },
        "outputId": "3300ce4b-6ef2-45f6-b5d1-d03210392f94",
        "id": "2uutbvYGOaXH"
      },
      "execution_count": 63,
      "outputs": [
        {
          "output_type": "execute_result",
          "data": {
            "text/plain": [
              "(0.0, 3700.0)"
            ]
          },
          "metadata": {},
          "execution_count": 63
        },
        {
          "output_type": "display_data",
          "data": {
            "text/plain": [
              "<Figure size 360x288 with 1 Axes>"
            ],
            "image/png": "[encoded data removed]"
          },
          "metadata": {
            "needs_background": "light"
          }
        }
      ],
      "id": "2uutbvYGOaXH"
    },
    {
      "cell_type": "markdown",
      "source": [
        "###### ☞ 의견\n",
        "데이터사이언스 관련, '딥러닝/인공지능(2,314명) '과 '데이터분석(2,098명)' 강의를 수강하는 사람이 많았고, 프로그래밍의 '프론트엔드 개발 (2,740명)'과 가깝게 사람들이 관심을 꽤나 가지고 있는 것으로 보여진다."
      ],
      "metadata": {
        "id": "ZFuJbCupWkIb"
      },
      "id": "ZFuJbCupWkIb"
    },
    {
      "cell_type": "markdown",
      "source": [
        "##### **업무 생산성**"
      ],
      "metadata": {
        "id": "9C2QHbfuPT7P"
      },
      "id": "9C2QHbfuPT7P"
    },
    {
      "cell_type": "code",
      "source": [
        "# 업무 생산성 \n",
        "wp = actual_cs[actual_cs['category_title']   == '업무 생산성']\n",
        "wp.subcategory_title.value_counts()"
      ],
      "metadata": {
        "colab": {
          "base_uri": "https://localhost:8080/"
        },
        "outputId": "ea40c4ec-f6fc-4264-f423-c897aedfd2cf",
        "id": "IKX8BEQmPT7Q"
      },
      "execution_count": 64,
      "outputs": [
        {
          "output_type": "execute_result",
          "data": {
            "text/plain": [
              "PPT/보고서    2061\n",
              "엑셀/VBA     1978\n",
              "업무자동화       487\n",
              "리더십         284\n",
              "커뮤니케이션      117\n",
              "Name: subcategory_title, dtype: int64"
            ]
          },
          "metadata": {},
          "execution_count": 64
        }
      ],
      "id": "IKX8BEQmPT7Q"
    },
    {
      "cell_type": "code",
      "source": [
        "fig_dims = (6, 4)\n",
        "fig, ax = plt.subplots(figsize=fig_dims)\n",
        "sns.countplot(data=wp, x=\"subcategory_title\", palette='Accent', order =wp['subcategory_title'].value_counts().index) \n",
        "plt.title('업무 생산성 - 하위 카테고리별 수강생 수')\n",
        "plt.ylim([0, 3700])"
      ],
      "metadata": {
        "colab": {
          "base_uri": "https://localhost:8080/",
          "height": 312
        },
        "outputId": "5d609391-20fb-4e34-8b13-e1c905315472",
        "id": "12RCQVPkPT7R"
      },
      "execution_count": 65,
      "outputs": [
        {
          "output_type": "execute_result",
          "data": {
            "text/plain": [
              "(0.0, 3700.0)"
            ]
          },
          "metadata": {},
          "execution_count": 65
        },
        {
          "output_type": "display_data",
          "data": {
            "text/plain": [
              "<Figure size 432x288 with 1 Axes>"
            ],
            "image/png": "[encoded data removed]"
          },
          "metadata": {
            "needs_background": "light"
          }
        }
      ],
      "id": "12RCQVPkPT7R"
    },
    {
      "cell_type": "markdown",
      "source": [
        "###### ☞ 의견\n",
        "업무 생산성 관련 강의도 'PPT/보고서(2,061명)', '엑셀/VBA(1,978명)'가 약 2천명이 수강했으며 사람들이 발표자료나 보고서 작성에 투자하는 것을 알 수 있었다."
      ],
      "metadata": {
        "id": "MsfmvBJqXlhT"
      },
      "id": "MsfmvBJqXlhT"
    },
    {
      "cell_type": "markdown",
      "source": [
        "##### **디자인**"
      ],
      "metadata": {
        "id": "0yjAbT7dPpCR"
      },
      "id": "0yjAbT7dPpCR"
    },
    {
      "cell_type": "code",
      "source": [
        "# 디자인 \n",
        "design = actual_cs[actual_cs['category_title']   == '디자인']\n",
        "design.subcategory_title.value_counts()"
      ],
      "metadata": {
        "colab": {
          "base_uri": "https://localhost:8080/"
        },
        "outputId": "5d4ba278-6b28-40ad-a1e0-5bdc439b97a8",
        "id": "57eCM0tJPpCS"
      },
      "execution_count": 66,
      "outputs": [
        {
          "output_type": "execute_result",
          "data": {
            "text/plain": [
              "디자인툴     1902\n",
              "일러스트     1548\n",
              "UX/UI    1309\n",
              "시각디자인     950\n",
              "Name: subcategory_title, dtype: int64"
            ]
          },
          "metadata": {},
          "execution_count": 66
        }
      ],
      "id": "57eCM0tJPpCS"
    },
    {
      "cell_type": "code",
      "source": [
        "fig_dims = (5, 4)\n",
        "fig, ax = plt.subplots(figsize=fig_dims)\n",
        "sns.countplot(data=design, x=\"subcategory_title\", palette='Accent', order =design['subcategory_title'].value_counts().index) \n",
        "plt.title('디자인 - 하위 카테고리별 수강생 수')\n",
        "plt.ylim([0, 3700])"
      ],
      "metadata": {
        "colab": {
          "base_uri": "https://localhost:8080/",
          "height": 312
        },
        "outputId": "82a7f516-7f97-48ee-8902-69b06bde8383",
        "id": "ym_u5kXvPpCT"
      },
      "execution_count": 67,
      "outputs": [
        {
          "output_type": "execute_result",
          "data": {
            "text/plain": [
              "(0.0, 3700.0)"
            ]
          },
          "metadata": {},
          "execution_count": 67
        },
        {
          "output_type": "display_data",
          "data": {
            "text/plain": [
              "<Figure size 360x288 with 1 Axes>"
            ],
            "image/png": "[encoded data removed]"
          },
          "metadata": {
            "needs_background": "light"
          }
        }
      ],
      "id": "ym_u5kXvPpCT"
    },
    {
      "cell_type": "markdown",
      "source": [
        "##### **영상/3D**"
      ],
      "metadata": {
        "id": "1CBZt05XQDb-"
      },
      "id": "1CBZt05XQDb-"
    },
    {
      "cell_type": "code",
      "source": [
        "# 영상/3D \n",
        "dv = actual_cs[actual_cs['category_title']   == '영상/3D']\n",
        "dv.subcategory_title.value_counts()"
      ],
      "metadata": {
        "colab": {
          "base_uri": "https://localhost:8080/"
        },
        "outputId": "2de4317a-5e28-4bbd-d90c-9884ec975e35",
        "id": "qRmfFG6rQDb_"
      },
      "execution_count": 68,
      "outputs": [
        {
          "output_type": "execute_result",
          "data": {
            "text/plain": [
              "영상 편집     3625\n",
              "모션그래픽      953\n",
              "VFX        351\n",
              "게임 그래픽     222\n",
              "Name: subcategory_title, dtype: int64"
            ]
          },
          "metadata": {},
          "execution_count": 68
        }
      ],
      "id": "qRmfFG6rQDb_"
    },
    {
      "cell_type": "code",
      "source": [
        "fig_dims = (5, 4)\n",
        "fig, ax = plt.subplots(figsize=fig_dims)\n",
        "sns.countplot(data=dv, x=\"subcategory_title\", palette='Accent', order =dv['subcategory_title'].value_counts().index) \n",
        "plt.title('영상/3D - 하위 카테고리별 수강생 수')\n",
        "plt.ylim([0, 3700])"
      ],
      "metadata": {
        "colab": {
          "base_uri": "https://localhost:8080/",
          "height": 312
        },
        "outputId": "8ccb7451-4d45-40a5-b727-06e68214628c",
        "id": "0G_k3v__QDb_"
      },
      "execution_count": 69,
      "outputs": [
        {
          "output_type": "execute_result",
          "data": {
            "text/plain": [
              "(0.0, 3700.0)"
            ]
          },
          "metadata": {},
          "execution_count": 69
        },
        {
          "output_type": "display_data",
          "data": {
            "text/plain": [
              "<Figure size 360x288 with 1 Axes>"
            ],
            "image/png": "[encoded data removed]"
          },
          "metadata": {
            "needs_background": "light"
          }
        }
      ],
      "id": "0G_k3v__QDb_"
    },
    {
      "cell_type": "markdown",
      "source": [
        "###### ☞ 의견\n",
        "영상/3D 카테고리에서 특히 '영상 편집(3,625명)' 관련 강의의 수요가 많은 것을 알 수 있었다. YouTube 등 여러 소셜 미디어를 통해 개인의 컨텐츠 게재, 특히 영상 컨텐츠가 활발히 업로드되는 시대를 반영하고 있는 것으로 생각해 볼 수 있다."
      ],
      "metadata": {
        "id": "MbjdJZ79Yhwp"
      },
      "id": "MbjdJZ79Yhwp"
    },
    {
      "cell_type": "markdown",
      "source": [
        "##### **마케팅**"
      ],
      "metadata": {
        "id": "4jfiqx8hQfKb"
      },
      "id": "4jfiqx8hQfKb"
    },
    {
      "cell_type": "code",
      "source": [
        "# 마케팅\n",
        "mkt = actual_cs[actual_cs['category_title']   == '마케팅']\n",
        "mkt.subcategory_title.value_counts()"
      ],
      "metadata": {
        "colab": {
          "base_uri": "https://localhost:8080/"
        },
        "outputId": "ce2c4920-ddde-4b59-fe7f-83463bbc10f7",
        "id": "ExCSjsXaQfKf"
      },
      "execution_count": 70,
      "outputs": [
        {
          "output_type": "execute_result",
          "data": {
            "text/plain": [
              "글쓰기/카피라이팅    1703\n",
              "데이터마케팅       1090\n",
              "디지털마케팅        850\n",
              "SNS마케팅        654\n",
              "Name: subcategory_title, dtype: int64"
            ]
          },
          "metadata": {},
          "execution_count": 70
        }
      ],
      "id": "ExCSjsXaQfKf"
    },
    {
      "cell_type": "code",
      "source": [
        "fig_dims = (5, 4)\n",
        "fig, ax = plt.subplots(figsize=fig_dims)\n",
        "sns.countplot(data=mkt, x=\"subcategory_title\", palette='Accent', order =mkt['subcategory_title'].value_counts().index) \n",
        "plt.title('마케팅 - 하위 카테고리별 수강생 수')\n",
        "plt.ylim([0, 3700])"
      ],
      "metadata": {
        "colab": {
          "base_uri": "https://localhost:8080/",
          "height": 312
        },
        "outputId": "5df02a3d-18b5-4e71-b5b3-322cb9a036cb",
        "id": "qFLaR3EVQfKm"
      },
      "execution_count": 71,
      "outputs": [
        {
          "output_type": "execute_result",
          "data": {
            "text/plain": [
              "(0.0, 3700.0)"
            ]
          },
          "metadata": {},
          "execution_count": 71
        },
        {
          "output_type": "display_data",
          "data": {
            "text/plain": [
              "<Figure size 360x288 with 1 Axes>"
            ],
            "image/png": "[encoded data removed]"
          },
          "metadata": {
            "needs_background": "light"
          }
        }
      ],
      "id": "qFLaR3EVQfKm"
    },
    {
      "cell_type": "markdown",
      "source": [
        "###### ☞ 의견\n",
        "마케팅 카테고리에서는 디지털 마케팅, SNS 마케팅에 대한 수요가 제일 많을 것으로 예상했으나, 실제 데이터를 보니 예상외로 '글쓰기/카피라이팅(1,703명)' 강의가 가장 많이 판매된 것을 알 수 있었다.\n",
        "\n",
        "글쓰기의 중요성을 더 많은 사람들이 인지하는 것일 수도 있고, 또는 요즘 문해력이 많이 떨어지고 있다고 하는데 글쓰기에 어려움을 느끼는 사람이 많아진 것일 수도 있다고 생각해본다.\n"
      ],
      "metadata": {
        "id": "NVuWM68aZHx5"
      },
      "id": "NVuWM68aZHx5"
    },
    {
      "cell_type": "markdown",
      "source": [
        "##### **부동산/금융**"
      ],
      "metadata": {
        "id": "ayRpoAFJQry7"
      },
      "id": "ayRpoAFJQry7"
    },
    {
      "cell_type": "code",
      "source": [
        "# 부동산/금융\n",
        "finance = actual_cs[actual_cs['category_title']   == '부동산/금융']\n",
        "finance.subcategory_title.value_counts()"
      ],
      "metadata": {
        "colab": {
          "base_uri": "https://localhost:8080/"
        },
        "outputId": "81f0ea90-c5b0-4189-efb1-6dd73cd10fd5",
        "id": "Cg8PJGUyQry8"
      },
      "execution_count": 72,
      "outputs": [
        {
          "output_type": "execute_result",
          "data": {
            "text/plain": [
              "금융/투자 실무    1134\n",
              "회계/재무/세무    1000\n",
              "부동산 개발       591\n",
              "Name: subcategory_title, dtype: int64"
            ]
          },
          "metadata": {},
          "execution_count": 72
        }
      ],
      "id": "Cg8PJGUyQry8"
    },
    {
      "cell_type": "code",
      "source": [
        "fig_dims = (3.5, 4)\n",
        "fig, ax = plt.subplots(figsize=fig_dims)\n",
        "sns.countplot(data=finance, x=\"subcategory_title\", palette='Accent', order =finance['subcategory_title'].value_counts().index) \n",
        "plt.title('부동산/금융 - 하위 카테고리별 수강생 수')\n",
        "plt.ylim([0, 3700])"
      ],
      "metadata": {
        "colab": {
          "base_uri": "https://localhost:8080/",
          "height": 312
        },
        "outputId": "15989094-cdce-4797-b435-9271721ce8f8",
        "id": "zdy5RZYGQry9"
      },
      "execution_count": 73,
      "outputs": [
        {
          "output_type": "execute_result",
          "data": {
            "text/plain": [
              "(0.0, 3700.0)"
            ]
          },
          "metadata": {},
          "execution_count": 73
        },
        {
          "output_type": "display_data",
          "data": {
            "text/plain": [
              "<Figure size 252x288 with 1 Axes>"
            ],
            "image/png": "[encoded data removed]"
          },
          "metadata": {
            "needs_background": "light"
          }
        }
      ],
      "id": "zdy5RZYGQry9"
    },
    {
      "cell_type": "markdown",
      "source": [
        "##### **투자/재테크**"
      ],
      "metadata": {
        "id": "yckvOzxKT1gW"
      },
      "id": "yckvOzxKT1gW"
    },
    {
      "cell_type": "code",
      "source": [
        "# 투자/재테크\n",
        "invest = actual_cs[actual_cs['category_title']   == '투자/재테크']\n",
        "invest.subcategory_title.value_counts()"
      ],
      "metadata": {
        "colab": {
          "base_uri": "https://localhost:8080/"
        },
        "outputId": "347be3fa-6d17-4af4-e8c5-defc4cedc9b0",
        "id": "BNOUFFTXT1gY"
      },
      "execution_count": 74,
      "outputs": [
        {
          "output_type": "execute_result",
          "data": {
            "text/plain": [
              "주식 투자     1106\n",
              "부동산 투자     384\n",
              "Name: subcategory_title, dtype: int64"
            ]
          },
          "metadata": {},
          "execution_count": 74
        }
      ],
      "id": "BNOUFFTXT1gY"
    },
    {
      "cell_type": "code",
      "source": [
        "fig_dims = (2, 4)\n",
        "fig, ax = plt.subplots(figsize=fig_dims)\n",
        "sns.countplot(data=invest, x=\"subcategory_title\", palette='Accent', order =invest['subcategory_title'].value_counts().index) \n",
        "plt.title('투자/재테크 - 하위 카테고리별 수강생 수')\n",
        "plt.ylim([0, 3700])"
      ],
      "metadata": {
        "colab": {
          "base_uri": "https://localhost:8080/",
          "height": 312
        },
        "outputId": "fb38abee-9779-4baa-ad70-bc09c25a9aff",
        "id": "W-sFDvFET1gc"
      },
      "execution_count": 75,
      "outputs": [
        {
          "output_type": "execute_result",
          "data": {
            "text/plain": [
              "(0.0, 3700.0)"
            ]
          },
          "metadata": {},
          "execution_count": 75
        },
        {
          "output_type": "display_data",
          "data": {
            "text/plain": [
              "<Figure size 144x288 with 1 Axes>"
            ],
            "image/png": "[encoded data removed]"
          },
          "metadata": {
            "needs_background": "light"
          }
        }
      ],
      "id": "W-sFDvFET1gc"
    },
    {
      "cell_type": "markdown",
      "source": [
        "###### ☞ 의견\n",
        "위의 부동산/금융 카테고리의 '금융/투자 실무(1,134명)'만큼 투자/재테크 카테고리에서 '주식 투자(1,106명)'의 강의가 비슷하게 판매된 것을 알 수 있다.\n",
        "또한 사람들이 '부동산 투자(384명)' 보다는 주식 투자에 훨씬 많은 관심이 있는것으로 보인다. (진입장벽의 차이일 수도 있을 듯)"
      ],
      "metadata": {
        "id": "Xm6-rL_jZ2DC"
      },
      "id": "Xm6-rL_jZ2DC"
    },
    {
      "cell_type": "markdown",
      "source": [
        "##### **교육**"
      ],
      "metadata": {
        "id": "C-TjS_AaT2vP"
      },
      "id": "C-TjS_AaT2vP"
    },
    {
      "cell_type": "markdown",
      "source": [
        "> 하위 카테고리가 모두 NaN이기 때문에 교육 자체 값으로 대체"
      ],
      "metadata": {
        "id": "dDSiR5rLXXMJ"
      },
      "id": "dDSiR5rLXXMJ"
    },
    {
      "cell_type": "code",
      "source": [
        "# 교육\n",
        "edu = actual_cs[actual_cs['category_title']   == '교육']\n",
        "edu.category_title.value_counts()"
      ],
      "metadata": {
        "colab": {
          "base_uri": "https://localhost:8080/"
        },
        "outputId": "bd2dc17d-6865-4cf4-d2a4-9e9b4897b1aa",
        "id": "Hg4y2c3zT2vQ"
      },
      "execution_count": 76,
      "outputs": [
        {
          "output_type": "execute_result",
          "data": {
            "text/plain": [
              "교육    927\n",
              "Name: category_title, dtype: int64"
            ]
          },
          "metadata": {},
          "execution_count": 76
        }
      ],
      "id": "Hg4y2c3zT2vQ"
    },
    {
      "cell_type": "code",
      "source": [
        "edu['subcategory_title'].unique()"
      ],
      "metadata": {
        "colab": {
          "base_uri": "https://localhost:8080/"
        },
        "id": "meZ9KS8NWqEA",
        "outputId": "adca7274-ef77-4ffa-dbf8-ae0657ff0cdd"
      },
      "id": "meZ9KS8NWqEA",
      "execution_count": 77,
      "outputs": [
        {
          "output_type": "execute_result",
          "data": {
            "text/plain": [
              "array([nan], dtype=object)"
            ]
          },
          "metadata": {},
          "execution_count": 77
        }
      ]
    },
    {
      "cell_type": "code",
      "source": [
        "fig_dims = (1, 4)\n",
        "fig, ax = plt.subplots(figsize=fig_dims)\n",
        "sns.countplot(data=edu, x=\"category_title\", palette='Accent') \n",
        "plt.title('교육')\n",
        "plt.ylim([0, 3700])"
      ],
      "metadata": {
        "colab": {
          "base_uri": "https://localhost:8080/",
          "height": 312
        },
        "outputId": "a18cce7a-316f-4afe-e68c-321f01104b8c",
        "id": "DqgdTaUKT2vR"
      },
      "execution_count": 78,
      "outputs": [
        {
          "output_type": "execute_result",
          "data": {
            "text/plain": [
              "(0.0, 3700.0)"
            ]
          },
          "metadata": {},
          "execution_count": 78
        },
        {
          "output_type": "display_data",
          "data": {
            "text/plain": [
              "<Figure size 72x288 with 1 Axes>"
            ],
            "image/png": "[encoded data removed]"
          },
          "metadata": {
            "needs_background": "light"
          }
        }
      ],
      "id": "DqgdTaUKT2vR"
    },
    {
      "cell_type": "markdown",
      "source": [
        "##### **크리에이티브**"
      ],
      "metadata": {
        "id": "uvLOxY5DT39a"
      },
      "id": "uvLOxY5DT39a"
    },
    {
      "cell_type": "markdown",
      "source": [
        "> 하위 카테고리가 모두 NaN이기 때문에 크리에이티브 자체 값으로 대체"
      ],
      "metadata": {
        "id": "MowRs-U3XdAy"
      },
      "id": "MowRs-U3XdAy"
    },
    {
      "cell_type": "code",
      "source": [
        "# 크리에이티브\n",
        "creative = actual_cs[actual_cs['category_title']   == '크리에이티브']\n",
        "creative.head(3)"
      ],
      "metadata": {
        "colab": {
          "base_uri": "https://localhost:8080/",
          "height": 143
        },
        "outputId": "2628e306-da91-423b-c995-e5a0443dae91",
        "id": "dIZDBadhT39e"
      },
      "execution_count": 79,
      "outputs": [
        {
          "output_type": "execute_result",
          "data": {
            "text/plain": [
              "         id  customer_id  course_id     type      state  \\\n",
              "118  971012     428657.0        NaN  PAYMENT  COMPLETED   \n",
              "213  971295      52710.0        NaN  PAYMENT  COMPLETED   \n",
              "230  971346     401831.0        NaN  PAYMENT  COMPLETED   \n",
              "\n",
              "                                        course_title category_title format  \\\n",
              "118  프로모션 : 2021 내 커리어 지켜 줄 UX/UI 디자인 한끝세트 (3월 프리패스)         크리에이티브    올인원   \n",
              "213      프로모션 : 영상 퀄리티를 바꿔 줄 영상 제작 스킬 한끝세트 (3월 프리패스)         크리에이티브    올인원   \n",
              "230      프로모션 : 영상 퀄리티를 바꿔 줄 영상 제작 스킬 한끝세트 (3월 프리패스)         크리에이티브    올인원   \n",
              "\n",
              "            completed_at  transaction_amount coupon_title  \\\n",
              "118  2021-03-28 18:44:19              299000          NaN   \n",
              "213  2021-03-28 20:47:30              299000          NaN   \n",
              "230  2021-03-28 21:05:36              299000          NaN   \n",
              "\n",
              "     coupon_discount_amount  sale_price   pg subcategory_title  \\\n",
              "118                     NaN    299000.0  NaN               NaN   \n",
              "213                     NaN    299000.0  NaN               NaN   \n",
              "230                     NaN    299000.0  NaN               NaN   \n",
              "\n",
              "    marketing_start_at  \n",
              "118                NaN  \n",
              "213                NaN  \n",
              "230                NaN  "
            ],
            "text/html": [
              "\n",
              "  <div id=\"df-848598d0-3854-4057-a632-cfa256dcaf3c\">\n",
              "    <div class=\"colab-df-container\">\n",
              "      <div>\n",
              "<style scoped>\n",
              "    .dataframe tbody tr th:only-of-type {\n",
              "        vertical-align: middle;\n",
              "    }\n",
              "\n",
              "    .dataframe tbody tr th {\n",
              "        vertical-align: top;\n",
              "    }\n",
              "\n",
              "    .dataframe thead th {\n",
              "        text-align: right;\n",
              "    }\n",
              "</style>\n",
              "<table border=\"1\" class=\"dataframe\">\n",
              "  <thead>\n",
              "    <tr style=\"text-align: right;\">\n",
              "      <th></th>\n",
              "      <th>id</th>\n",
              "      <th>customer_id</th>\n",
              "      <th>course_id</th>\n",
              "      <th>type</th>\n",
              "      <th>state</th>\n",
              "      <th>course_title</th>\n",
              "      <th>category_title</th>\n",
              "      <th>format</th>\n",
              "      <th>completed_at</th>\n",
              "      <th>transaction_amount</th>\n",
              "      <th>coupon_title</th>\n",
              "      <th>coupon_discount_amount</th>\n",
              "      <th>sale_price</th>\n",
              "      <th>pg</th>\n",
              "      <th>subcategory_title</th>\n",
              "      <th>marketing_start_at</th>\n",
              "    </tr>\n",
              "  </thead>\n",
              "  <tbody>\n",
              "    <tr>\n",
              "      <th>118</th>\n",
              "      <td>971012</td>\n",
              "      <td>428657.0</td>\n",
              "      <td>NaN</td>\n",
              "      <td>PAYMENT</td>\n",
              "      <td>COMPLETED</td>\n",
              "      <td>프로모션 : 2021 내 커리어 지켜 줄 UX/UI 디자인 한끝세트 (3월 프리패스)</td>\n",
              "      <td>크리에이티브</td>\n",
              "      <td>올인원</td>\n",
              "      <td>2021-03-28 18:44:19</td>\n",
              "      <td>299000</td>\n",
              "      <td>NaN</td>\n",
              "      <td>NaN</td>\n",
              "      <td>299000.0</td>\n",
              "      <td>NaN</td>\n",
              "      <td>NaN</td>\n",
              "      <td>NaN</td>\n",
              "    </tr>\n",
              "    <tr>\n",
              "      <th>213</th>\n",
              "      <td>971295</td>\n",
              "      <td>52710.0</td>\n",
              "      <td>NaN</td>\n",
              "      <td>PAYMENT</td>\n",
              "      <td>COMPLETED</td>\n",
              "      <td>프로모션 : 영상 퀄리티를 바꿔 줄 영상 제작 스킬 한끝세트 (3월 프리패스)</td>\n",
              "      <td>크리에이티브</td>\n",
              "      <td>올인원</td>\n",
              "      <td>2021-03-28 20:47:30</td>\n",
              "      <td>299000</td>\n",
              "      <td>NaN</td>\n",
              "      <td>NaN</td>\n",
              "      <td>299000.0</td>\n",
              "      <td>NaN</td>\n",
              "      <td>NaN</td>\n",
              "      <td>NaN</td>\n",
              "    </tr>\n",
              "    <tr>\n",
              "      <th>230</th>\n",
              "      <td>971346</td>\n",
              "      <td>401831.0</td>\n",
              "      <td>NaN</td>\n",
              "      <td>PAYMENT</td>\n",
              "      <td>COMPLETED</td>\n",
              "      <td>프로모션 : 영상 퀄리티를 바꿔 줄 영상 제작 스킬 한끝세트 (3월 프리패스)</td>\n",
              "      <td>크리에이티브</td>\n",
              "      <td>올인원</td>\n",
              "      <td>2021-03-28 21:05:36</td>\n",
              "      <td>299000</td>\n",
              "      <td>NaN</td>\n",
              "      <td>NaN</td>\n",
              "      <td>299000.0</td>\n",
              "      <td>NaN</td>\n",
              "      <td>NaN</td>\n",
              "      <td>NaN</td>\n",
              "    </tr>\n",
              "  </tbody>\n",
              "</table>\n",
              "</div>\n",
              "      <button class=\"colab-df-convert\" onclick=\"convertToInteractive('df-848598d0-3854-4057-a632-cfa256dcaf3c')\"\n",
              "              title=\"Convert this dataframe to an interactive table.\"\n",
              "              style=\"display:none;\">\n",
              "        \n",
              "  <svg xmlns=\"http://www.w3.org/2000/svg\" height=\"24px\"viewBox=\"0 0 24 24\"\n",
              "       width=\"24px\">\n",
              "    <path d=\"M0 0h24v24H0V0z\" fill=\"none\"/>\n",
              "    <path d=\"M18.56 5.44l.94 2.06.94-2.06 2.06-.94-2.06-.94-.94-2.06-.94 2.06-2.06.94zm-11 1L8.5 8.5l.94-2.06 2.06-.94-2.06-.94L8.5 2.5l-.94 2.06-2.06.94zm10 10l.94 2.06.94-2.06 2.06-.94-2.06-.94-.94-2.06-.94 2.06-2.06.94z\"/><path d=\"M17.41 7.96l-1.37-1.37c-.4-.4-.92-.59-1.43-.59-.52 0-1.04.2-1.43.59L10.3 9.45l-7.72 7.72c-.78.78-.78 2.05 0 2.83L4 21.41c.39.39.9.59 1.41.59.51 0 1.02-.2 1.41-.59l7.78-7.78 2.81-2.81c.8-.78.8-2.07 0-2.86zM5.41 20L4 18.59l7.72-7.72 1.47 1.35L5.41 20z\"/>\n",
              "  </svg>\n",
              "      </button>\n",
              "      \n",
              "  <style>\n",
              "    .colab-df-container {\n",
              "      display:flex;\n",
              "      flex-wrap:wrap;\n",
              "      gap: 12px;\n",
              "    }\n",
              "\n",
              "    .colab-df-convert {\n",
              "      background-color: #E8F0FE;\n",
              "      border: none;\n",
              "      border-radius: 50%;\n",
              "      cursor: pointer;\n",
              "      display: none;\n",
              "      fill: #1967D2;\n",
              "      height: 32px;\n",
              "      padding: 0 0 0 0;\n",
              "      width: 32px;\n",
              "    }\n",
              "\n",
              "    .colab-df-convert:hover {\n",
              "      background-color: #E2EBFA;\n",
              "      box-shadow: 0px 1px 2px rgba(60, 64, 67, 0.3), 0px 1px 3px 1px rgba(60, 64, 67, 0.15);\n",
              "      fill: #174EA6;\n",
              "    }\n",
              "\n",
              "    [theme=dark] .colab-df-convert {\n",
              "      background-color: #3B4455;\n",
              "      fill: #D2E3FC;\n",
              "    }\n",
              "\n",
              "    [theme=dark] .colab-df-convert:hover {\n",
              "      background-color: #434B5C;\n",
              "      box-shadow: 0px 1px 3px 1px rgba(0, 0, 0, 0.15);\n",
              "      filter: drop-shadow(0px 1px 2px rgba(0, 0, 0, 0.3));\n",
              "      fill: #FFFFFF;\n",
              "    }\n",
              "  </style>\n",
              "\n",
              "      <script>\n",
              "        const buttonEl =\n",
              "          document.querySelector('#df-848598d0-3854-4057-a632-cfa256dcaf3c button.colab-df-convert');\n",
              "        buttonEl.style.display =\n",
              "          google.colab.kernel.accessAllowed ? 'block' : 'none';\n",
              "\n",
              "        async function convertToInteractive(key) {\n",
              "          const element = document.querySelector('#df-848598d0-3854-4057-a632-cfa256dcaf3c');\n",
              "          const dataTable =\n",
              "            await google.colab.kernel.invokeFunction('convertToInteractive',\n",
              "                                                     [key], {});\n",
              "          if (!dataTable) return;\n",
              "\n",
              "          const docLinkHtml = 'Like what you see? Visit the ' +\n",
              "            '<a target=\"_blank\" href=https://colab.research.google.com/notebooks/data_table.ipynb>data table notebook</a>'\n",
              "            + ' to learn more about interactive tables.';\n",
              "          element.innerHTML = '';\n",
              "          dataTable['output_type'] = 'display_data';\n",
              "          await google.colab.output.renderOutput(dataTable, element);\n",
              "          const docLink = document.createElement('div');\n",
              "          docLink.innerHTML = docLinkHtml;\n",
              "          element.appendChild(docLink);\n",
              "        }\n",
              "      </script>\n",
              "    </div>\n",
              "  </div>\n",
              "  "
            ]
          },
          "metadata": {},
          "execution_count": 79
        }
      ],
      "id": "dIZDBadhT39e"
    },
    {
      "cell_type": "code",
      "source": [
        "creative['subcategory_title'].unique()"
      ],
      "metadata": {
        "colab": {
          "base_uri": "https://localhost:8080/"
        },
        "id": "ojWXvhLaXTK5",
        "outputId": "37e53fe7-3cab-472b-81e6-cd5aba15bb73"
      },
      "id": "ojWXvhLaXTK5",
      "execution_count": 80,
      "outputs": [
        {
          "output_type": "execute_result",
          "data": {
            "text/plain": [
              "array([nan], dtype=object)"
            ]
          },
          "metadata": {},
          "execution_count": 80
        }
      ]
    },
    {
      "cell_type": "code",
      "source": [
        "creative.category_title.value_counts()"
      ],
      "metadata": {
        "colab": {
          "base_uri": "https://localhost:8080/"
        },
        "id": "uaJMR7t8bnck",
        "outputId": "d8f7811f-2fe8-4478-95e3-26e10c514b7a"
      },
      "id": "uaJMR7t8bnck",
      "execution_count": 81,
      "outputs": [
        {
          "output_type": "execute_result",
          "data": {
            "text/plain": [
              "크리에이티브    840\n",
              "Name: category_title, dtype: int64"
            ]
          },
          "metadata": {},
          "execution_count": 81
        }
      ]
    },
    {
      "cell_type": "code",
      "source": [
        "fig_dims = (1, 4)\n",
        "fig, ax = plt.subplots(figsize=fig_dims)\n",
        "sns.countplot(data=creative, x=\"category_title\", palette='Accent') \n",
        "plt.title('크리에이티브')\n",
        "plt.ylim([0, 3700])"
      ],
      "metadata": {
        "colab": {
          "base_uri": "https://localhost:8080/",
          "height": 312
        },
        "outputId": "846d0d3c-d7a5-4453-8ed1-063af96c95f0",
        "id": "BnBitvm-T39k"
      },
      "execution_count": 82,
      "outputs": [
        {
          "output_type": "execute_result",
          "data": {
            "text/plain": [
              "(0.0, 3700.0)"
            ]
          },
          "metadata": {},
          "execution_count": 82
        },
        {
          "output_type": "display_data",
          "data": {
            "text/plain": [
              "<Figure size 72x288 with 1 Axes>"
            ],
            "image/png": "[encoded data removed]"
          },
          "metadata": {
            "needs_background": "light"
          }
        }
      ],
      "id": "BnBitvm-T39k"
    },
    {
      "cell_type": "markdown",
      "source": [
        "#### Format / Course_title 분포"
      ],
      "metadata": {
        "id": "MBoNXHz3G6d6"
      },
      "id": "MBoNXHz3G6d6"
    },
    {
      "cell_type": "markdown",
      "source": [
        "##### 영상 편집　| 영상/3D"
      ],
      "metadata": {
        "id": "00_yfgoMMxVx"
      },
      "id": "00_yfgoMMxVx"
    },
    {
      "cell_type": "markdown",
      "source": [
        "'영상 편집' subcategory에 어떤 강의들이 있는지와 강의별 수강생 분포를 알아본다."
      ],
      "metadata": {
        "id": "e5xYgZ80Ds0d"
      },
      "id": "e5xYgZ80Ds0d"
    },
    {
      "cell_type": "code",
      "source": [
        "dv_edit = dv[dv['subcategory_title'] == '영상 편집']\n",
        "dv_edit"
      ],
      "metadata": {
        "colab": {
          "base_uri": "https://localhost:8080/",
          "height": 641
        },
        "id": "GLkWel42C9Hz",
        "outputId": "0187f7e0-66a7-4ac8-c047-829913e6fc07"
      },
      "id": "GLkWel42C9Hz",
      "execution_count": 161,
      "outputs": [
        {
          "output_type": "execute_result",
          "data": {
            "text/plain": [
              "             id  customer_id  course_id     type      state  \\\n",
              "8        970669     478033.0   203178.0  PAYMENT  COMPLETED   \n",
              "142      971072     478044.0   204150.0  PAYMENT  COMPLETED   \n",
              "150      971105     478233.0   203178.0  PAYMENT  COMPLETED   \n",
              "157      971143     478246.0   203178.0  PAYMENT  COMPLETED   \n",
              "210      971288     469748.0   204172.0  PAYMENT  COMPLETED   \n",
              "...         ...          ...        ...      ...        ...   \n",
              "105387  1364842     638903.0   206720.0  PAYMENT  COMPLETED   \n",
              "105393  1364869     638903.0   203178.0  PAYMENT  COMPLETED   \n",
              "105412  1364976     384003.0   203178.0  PAYMENT  COMPLETED   \n",
              "105416  1364996     640697.0   205365.0  PAYMENT  COMPLETED   \n",
              "105418  1365007     610626.0   206720.0  PAYMENT  COMPLETED   \n",
              "\n",
              "                           course_title category_title format  \\\n",
              "8           초격차 패키지 : 한번에 끝내는 영상 촬영과 편집          영상/3D    올인원   \n",
              "142                   올인원 패키지 : 십다 프리미어          영상/3D    올인원   \n",
              "150         초격차 패키지 : 한번에 끝내는 영상 촬영과 편집          영상/3D    올인원   \n",
              "157         초격차 패키지 : 한번에 끝내는 영상 촬영과 편집          영상/3D    올인원   \n",
              "210       올인원 패키지 : 바다가 알려주는 감성가득 영상 제작          영상/3D    올인원   \n",
              "...                                 ...            ...    ...   \n",
              "105387               용호수의 돈 버는 실전 영상 제작          영상/3D    올인원   \n",
              "105393      초격차 패키지 : 한번에 끝내는 영상 촬영과 편집          영상/3D    올인원   \n",
              "105412      초격차 패키지 : 한번에 끝내는 영상 촬영과 편집          영상/3D    올인원   \n",
              "105416  초격차 패키지 : 한 번에 끝내는 유튜브 크리에이터 되기          영상/3D    올인원   \n",
              "105418               용호수의 돈 버는 실전 영상 제작          영상/3D    올인원   \n",
              "\n",
              "               completed_at  transaction_amount               coupon_title  \\\n",
              "8       2021-03-28 15:26:47               96000   [웰컴쿠폰] 올인원 패키지 2만원 할인 쿠폰   \n",
              "142     2021-03-28 19:17:58               69000   [웰컴쿠폰] 올인원 패키지 1만원 할인 쿠폰   \n",
              "150     2021-03-28 19:39:24               96000   [웰컴쿠폰] 올인원 패키지 2만원 할인 쿠폰   \n",
              "157     2021-03-28 19:51:41              116000                        NaN   \n",
              "210     2021-03-28 20:45:19               89000   [웰컴쿠폰] 올인원 패키지 2만원 할인 쿠폰   \n",
              "...                     ...                 ...                        ...   \n",
              "105387  2021-09-25 10:56:03              159000  [WELCOME] 온라인 강의 1만원 할인쿠폰   \n",
              "105393  2021-09-25 11:22:07              139000  [WELCOME] 온라인 강의 1만원 할인쿠폰   \n",
              "105412  2021-09-25 13:46:29              149000                        NaN   \n",
              "105416  2021-09-25 14:17:41               96000  [WELCOME] 온라인 강의 2만원 할인쿠폰   \n",
              "105418  2021-09-25 14:25:47              139000  [WELCOME] 온라인 강의 3만원 할인쿠폰   \n",
              "\n",
              "        coupon_discount_amount  sale_price      pg subcategory_title  \\\n",
              "8                      20000.0    116000.0     NaN             영상 편집   \n",
              "142                    10000.0     79000.0     NaN             영상 편집   \n",
              "150                    20000.0    116000.0     NaN             영상 편집   \n",
              "157                        NaN    116000.0     NaN             영상 편집   \n",
              "210                    20000.0    109000.0     NaN             영상 편집   \n",
              "...                        ...         ...     ...               ...   \n",
              "105387                 10000.0    169000.0   KAKAO             영상 편집   \n",
              "105393                 10000.0    149000.0   KAKAO             영상 편집   \n",
              "105412                     NaN    149000.0   KAKAO             영상 편집   \n",
              "105416                 20000.0    116000.0  INICIS             영상 편집   \n",
              "105418                 30000.0    169000.0   NAVER             영상 편집   \n",
              "\n",
              "        marketing_start_at  \n",
              "8       2020-12-02 0:00:00  \n",
              "142     2021-02-26 0:00:00  \n",
              "150     2020-12-02 0:00:00  \n",
              "157     2020-12-02 0:00:00  \n",
              "210     2021-03-19 0:00:00  \n",
              "...                    ...  \n",
              "105387  2021-08-17 0:00:00  \n",
              "105393  2020-12-02 0:00:00  \n",
              "105412  2020-12-02 0:00:00  \n",
              "105416  2021-06-15 0:00:00  \n",
              "105418  2021-08-17 0:00:00  \n",
              "\n",
              "[3625 rows x 16 columns]"
            ],
            "text/html": [
              "\n",
              "  <div id=\"df-27bf6740-8fe6-44d7-85df-12a96644ce88\">\n",
              "    <div class=\"colab-df-container\">\n",
              "      <div>\n",
              "<style scoped>\n",
              "    .dataframe tbody tr th:only-of-type {\n",
              "        vertical-align: middle;\n",
              "    }\n",
              "\n",
              "    .dataframe tbody tr th {\n",
              "        vertical-align: top;\n",
              "    }\n",
              "\n",
              "    .dataframe thead th {\n",
              "        text-align: right;\n",
              "    }\n",
              "</style>\n",
              "<table border=\"1\" class=\"dataframe\">\n",
              "  <thead>\n",
              "    <tr style=\"text-align: right;\">\n",
              "      <th></th>\n",
              "      <th>id</th>\n",
              "      <th>customer_id</th>\n",
              "      <th>course_id</th>\n",
              "      <th>type</th>\n",
              "      <th>state</th>\n",
              "      <th>course_title</th>\n",
              "      <th>category_title</th>\n",
              "      <th>format</th>\n",
              "      <th>completed_at</th>\n",
              "      <th>transaction_amount</th>\n",
              "      <th>coupon_title</th>\n",
              "      <th>coupon_discount_amount</th>\n",
              "      <th>sale_price</th>\n",
              "      <th>pg</th>\n",
              "      <th>subcategory_title</th>\n",
              "      <th>marketing_start_at</th>\n",
              "    </tr>\n",
              "  </thead>\n",
              "  <tbody>\n",
              "    <tr>\n",
              "      <th>8</th>\n",
              "      <td>970669</td>\n",
              "      <td>478033.0</td>\n",
              "      <td>203178.0</td>\n",
              "      <td>PAYMENT</td>\n",
              "      <td>COMPLETED</td>\n",
              "      <td>초격차 패키지 : 한번에 끝내는 영상 촬영과 편집</td>\n",
              "      <td>영상/3D</td>\n",
              "      <td>올인원</td>\n",
              "      <td>2021-03-28 15:26:47</td>\n",
              "      <td>96000</td>\n",
              "      <td>[웰컴쿠폰] 올인원 패키지 2만원 할인 쿠폰</td>\n",
              "      <td>20000.0</td>\n",
              "      <td>116000.0</td>\n",
              "      <td>NaN</td>\n",
              "      <td>영상 편집</td>\n",
              "      <td>2020-12-02 0:00:00</td>\n",
              "    </tr>\n",
              "    <tr>\n",
              "      <th>142</th>\n",
              "      <td>971072</td>\n",
              "      <td>478044.0</td>\n",
              "      <td>204150.0</td>\n",
              "      <td>PAYMENT</td>\n",
              "      <td>COMPLETED</td>\n",
              "      <td>올인원 패키지 : 십다 프리미어</td>\n",
              "      <td>영상/3D</td>\n",
              "      <td>올인원</td>\n",
              "      <td>2021-03-28 19:17:58</td>\n",
              "      <td>69000</td>\n",
              "      <td>[웰컴쿠폰] 올인원 패키지 1만원 할인 쿠폰</td>\n",
              "      <td>10000.0</td>\n",
              "      <td>79000.0</td>\n",
              "      <td>NaN</td>\n",
              "      <td>영상 편집</td>\n",
              "      <td>2021-02-26 0:00:00</td>\n",
              "    </tr>\n",
              "    <tr>\n",
              "      <th>150</th>\n",
              "      <td>971105</td>\n",
              "      <td>478233.0</td>\n",
              "      <td>203178.0</td>\n",
              "      <td>PAYMENT</td>\n",
              "      <td>COMPLETED</td>\n",
              "      <td>초격차 패키지 : 한번에 끝내는 영상 촬영과 편집</td>\n",
              "      <td>영상/3D</td>\n",
              "      <td>올인원</td>\n",
              "      <td>2021-03-28 19:39:24</td>\n",
              "      <td>96000</td>\n",
              "      <td>[웰컴쿠폰] 올인원 패키지 2만원 할인 쿠폰</td>\n",
              "      <td>20000.0</td>\n",
              "      <td>116000.0</td>\n",
              "      <td>NaN</td>\n",
              "      <td>영상 편집</td>\n",
              "      <td>2020-12-02 0:00:00</td>\n",
              "    </tr>\n",
              "    <tr>\n",
              "      <th>157</th>\n",
              "      <td>971143</td>\n",
              "      <td>478246.0</td>\n",
              "      <td>203178.0</td>\n",
              "      <td>PAYMENT</td>\n",
              "      <td>COMPLETED</td>\n",
              "      <td>초격차 패키지 : 한번에 끝내는 영상 촬영과 편집</td>\n",
              "      <td>영상/3D</td>\n",
              "      <td>올인원</td>\n",
              "      <td>2021-03-28 19:51:41</td>\n",
              "      <td>116000</td>\n",
              "      <td>NaN</td>\n",
              "      <td>NaN</td>\n",
              "      <td>116000.0</td>\n",
              "      <td>NaN</td>\n",
              "      <td>영상 편집</td>\n",
              "      <td>2020-12-02 0:00:00</td>\n",
              "    </tr>\n",
              "    <tr>\n",
              "      <th>210</th>\n",
              "      <td>971288</td>\n",
              "      <td>469748.0</td>\n",
              "      <td>204172.0</td>\n",
              "      <td>PAYMENT</td>\n",
              "      <td>COMPLETED</td>\n",
              "      <td>올인원 패키지 : 바다가 알려주는 감성가득 영상 제작</td>\n",
              "      <td>영상/3D</td>\n",
              "      <td>올인원</td>\n",
              "      <td>2021-03-28 20:45:19</td>\n",
              "      <td>89000</td>\n",
              "      <td>[웰컴쿠폰] 올인원 패키지 2만원 할인 쿠폰</td>\n",
              "      <td>20000.0</td>\n",
              "      <td>109000.0</td>\n",
              "      <td>NaN</td>\n",
              "      <td>영상 편집</td>\n",
              "      <td>2021-03-19 0:00:00</td>\n",
              "    </tr>\n",
              "    <tr>\n",
              "      <th>...</th>\n",
              "      <td>...</td>\n",
              "      <td>...</td>\n",
              "      <td>...</td>\n",
              "      <td>...</td>\n",
              "      <td>...</td>\n",
              "      <td>...</td>\n",
              "      <td>...</td>\n",
              "      <td>...</td>\n",
              "      <td>...</td>\n",
              "      <td>...</td>\n",
              "      <td>...</td>\n",
              "      <td>...</td>\n",
              "      <td>...</td>\n",
              "      <td>...</td>\n",
              "      <td>...</td>\n",
              "      <td>...</td>\n",
              "    </tr>\n",
              "    <tr>\n",
              "      <th>105387</th>\n",
              "      <td>1364842</td>\n",
              "      <td>638903.0</td>\n",
              "      <td>206720.0</td>\n",
              "      <td>PAYMENT</td>\n",
              "      <td>COMPLETED</td>\n",
              "      <td>용호수의 돈 버는 실전 영상 제작</td>\n",
              "      <td>영상/3D</td>\n",
              "      <td>올인원</td>\n",
              "      <td>2021-09-25 10:56:03</td>\n",
              "      <td>159000</td>\n",
              "      <td>[WELCOME] 온라인 강의 1만원 할인쿠폰</td>\n",
              "      <td>10000.0</td>\n",
              "      <td>169000.0</td>\n",
              "      <td>KAKAO</td>\n",
              "      <td>영상 편집</td>\n",
              "      <td>2021-08-17 0:00:00</td>\n",
              "    </tr>\n",
              "    <tr>\n",
              "      <th>105393</th>\n",
              "      <td>1364869</td>\n",
              "      <td>638903.0</td>\n",
              "      <td>203178.0</td>\n",
              "      <td>PAYMENT</td>\n",
              "      <td>COMPLETED</td>\n",
              "      <td>초격차 패키지 : 한번에 끝내는 영상 촬영과 편집</td>\n",
              "      <td>영상/3D</td>\n",
              "      <td>올인원</td>\n",
              "      <td>2021-09-25 11:22:07</td>\n",
              "      <td>139000</td>\n",
              "      <td>[WELCOME] 온라인 강의 1만원 할인쿠폰</td>\n",
              "      <td>10000.0</td>\n",
              "      <td>149000.0</td>\n",
              "      <td>KAKAO</td>\n",
              "      <td>영상 편집</td>\n",
              "      <td>2020-12-02 0:00:00</td>\n",
              "    </tr>\n",
              "    <tr>\n",
              "      <th>105412</th>\n",
              "      <td>1364976</td>\n",
              "      <td>384003.0</td>\n",
              "      <td>203178.0</td>\n",
              "      <td>PAYMENT</td>\n",
              "      <td>COMPLETED</td>\n",
              "      <td>초격차 패키지 : 한번에 끝내는 영상 촬영과 편집</td>\n",
              "      <td>영상/3D</td>\n",
              "      <td>올인원</td>\n",
              "      <td>2021-09-25 13:46:29</td>\n",
              "      <td>149000</td>\n",
              "      <td>NaN</td>\n",
              "      <td>NaN</td>\n",
              "      <td>149000.0</td>\n",
              "      <td>KAKAO</td>\n",
              "      <td>영상 편집</td>\n",
              "      <td>2020-12-02 0:00:00</td>\n",
              "    </tr>\n",
              "    <tr>\n",
              "      <th>105416</th>\n",
              "      <td>1364996</td>\n",
              "      <td>640697.0</td>\n",
              "      <td>205365.0</td>\n",
              "      <td>PAYMENT</td>\n",
              "      <td>COMPLETED</td>\n",
              "      <td>초격차 패키지 : 한 번에 끝내는 유튜브 크리에이터 되기</td>\n",
              "      <td>영상/3D</td>\n",
              "      <td>올인원</td>\n",
              "      <td>2021-09-25 14:17:41</td>\n",
              "      <td>96000</td>\n",
              "      <td>[WELCOME] 온라인 강의 2만원 할인쿠폰</td>\n",
              "      <td>20000.0</td>\n",
              "      <td>116000.0</td>\n",
              "      <td>INICIS</td>\n",
              "      <td>영상 편집</td>\n",
              "      <td>2021-06-15 0:00:00</td>\n",
              "    </tr>\n",
              "    <tr>\n",
              "      <th>105418</th>\n",
              "      <td>1365007</td>\n",
              "      <td>610626.0</td>\n",
              "      <td>206720.0</td>\n",
              "      <td>PAYMENT</td>\n",
              "      <td>COMPLETED</td>\n",
              "      <td>용호수의 돈 버는 실전 영상 제작</td>\n",
              "      <td>영상/3D</td>\n",
              "      <td>올인원</td>\n",
              "      <td>2021-09-25 14:25:47</td>\n",
              "      <td>139000</td>\n",
              "      <td>[WELCOME] 온라인 강의 3만원 할인쿠폰</td>\n",
              "      <td>30000.0</td>\n",
              "      <td>169000.0</td>\n",
              "      <td>NAVER</td>\n",
              "      <td>영상 편집</td>\n",
              "      <td>2021-08-17 0:00:00</td>\n",
              "    </tr>\n",
              "  </tbody>\n",
              "</table>\n",
              "<p>3625 rows × 16 columns</p>\n",
              "</div>\n",
              "      <button class=\"colab-df-convert\" onclick=\"convertToInteractive('df-27bf6740-8fe6-44d7-85df-12a96644ce88')\"\n",
              "              title=\"Convert this dataframe to an interactive table.\"\n",
              "              style=\"display:none;\">\n",
              "        \n",
              "  <svg xmlns=\"http://www.w3.org/2000/svg\" height=\"24px\"viewBox=\"0 0 24 24\"\n",
              "       width=\"24px\">\n",
              "    <path d=\"M0 0h24v24H0V0z\" fill=\"none\"/>\n",
              "    <path d=\"M18.56 5.44l.94 2.06.94-2.06 2.06-.94-2.06-.94-.94-2.06-.94 2.06-2.06.94zm-11 1L8.5 8.5l.94-2.06 2.06-.94-2.06-.94L8.5 2.5l-.94 2.06-2.06.94zm10 10l.94 2.06.94-2.06 2.06-.94-2.06-.94-.94-2.06-.94 2.06-2.06.94z\"/><path d=\"M17.41 7.96l-1.37-1.37c-.4-.4-.92-.59-1.43-.59-.52 0-1.04.2-1.43.59L10.3 9.45l-7.72 7.72c-.78.78-.78 2.05 0 2.83L4 21.41c.39.39.9.59 1.41.59.51 0 1.02-.2 1.41-.59l7.78-7.78 2.81-2.81c.8-.78.8-2.07 0-2.86zM5.41 20L4 18.59l7.72-7.72 1.47 1.35L5.41 20z\"/>\n",
              "  </svg>\n",
              "      </button>\n",
              "      \n",
              "  <style>\n",
              "    .colab-df-container {\n",
              "      display:flex;\n",
              "      flex-wrap:wrap;\n",
              "      gap: 12px;\n",
              "    }\n",
              "\n",
              "    .colab-df-convert {\n",
              "      background-color: #E8F0FE;\n",
              "      border: none;\n",
              "      border-radius: 50%;\n",
              "      cursor: pointer;\n",
              "      display: none;\n",
              "      fill: #1967D2;\n",
              "      height: 32px;\n",
              "      padding: 0 0 0 0;\n",
              "      width: 32px;\n",
              "    }\n",
              "\n",
              "    .colab-df-convert:hover {\n",
              "      background-color: #E2EBFA;\n",
              "      box-shadow: 0px 1px 2px rgba(60, 64, 67, 0.3), 0px 1px 3px 1px rgba(60, 64, 67, 0.15);\n",
              "      fill: #174EA6;\n",
              "    }\n",
              "\n",
              "    [theme=dark] .colab-df-convert {\n",
              "      background-color: #3B4455;\n",
              "      fill: #D2E3FC;\n",
              "    }\n",
              "\n",
              "    [theme=dark] .colab-df-convert:hover {\n",
              "      background-color: #434B5C;\n",
              "      box-shadow: 0px 1px 3px 1px rgba(0, 0, 0, 0.15);\n",
              "      filter: drop-shadow(0px 1px 2px rgba(0, 0, 0, 0.3));\n",
              "      fill: #FFFFFF;\n",
              "    }\n",
              "  </style>\n",
              "\n",
              "      <script>\n",
              "        const buttonEl =\n",
              "          document.querySelector('#df-27bf6740-8fe6-44d7-85df-12a96644ce88 button.colab-df-convert');\n",
              "        buttonEl.style.display =\n",
              "          google.colab.kernel.accessAllowed ? 'block' : 'none';\n",
              "\n",
              "        async function convertToInteractive(key) {\n",
              "          const element = document.querySelector('#df-27bf6740-8fe6-44d7-85df-12a96644ce88');\n",
              "          const dataTable =\n",
              "            await google.colab.kernel.invokeFunction('convertToInteractive',\n",
              "                                                     [key], {});\n",
              "          if (!dataTable) return;\n",
              "\n",
              "          const docLinkHtml = 'Like what you see? Visit the ' +\n",
              "            '<a target=\"_blank\" href=https://colab.research.google.com/notebooks/data_table.ipynb>data table notebook</a>'\n",
              "            + ' to learn more about interactive tables.';\n",
              "          element.innerHTML = '';\n",
              "          dataTable['output_type'] = 'display_data';\n",
              "          await google.colab.output.renderOutput(dataTable, element);\n",
              "          const docLink = document.createElement('div');\n",
              "          docLink.innerHTML = docLinkHtml;\n",
              "          element.appendChild(docLink);\n",
              "        }\n",
              "      </script>\n",
              "    </div>\n",
              "  </div>\n",
              "  "
            ]
          },
          "metadata": {},
          "execution_count": 161
        }
      ]
    },
    {
      "cell_type": "code",
      "source": [
        "i = dv_edit['course_title'].nunique()\n",
        "ii = dv_edit ['course_title'].unique()\n",
        "iii = dv_edit ['course_title'].value_counts()\n",
        "\n",
        "print(i)\n",
        "print()\n",
        "print(iii)"
      ],
      "metadata": {
        "colab": {
          "base_uri": "https://localhost:8080/"
        },
        "id": "EMw_jTIP-gdl",
        "outputId": "eba40860-e2a3-4c6d-cdde-9a3d48e07a3e"
      },
      "id": "EMw_jTIP-gdl",
      "execution_count": 160,
      "outputs": [
        {
          "output_type": "stream",
          "name": "stdout",
          "text": [
            "12\n",
            "\n",
            "초격차 패키지 : 한번에 끝내는 영상 촬영과 편집                               1217\n",
            "올인원 패키지 : 아카데미 : 편집하는여자의 영상편집 마스터클래스 - 제 1강 프리미어프로 베이직     518\n",
            "용호수의 돈 버는 실전 영상 제작                                         409\n",
            "올인원 패키지 : 십다 프리미어                                          275\n",
            "올인원 패키지 : 바다가 알려주는 감성가득 영상 제작                              256\n",
            "올인원 패키지 : 영상 제작/편집(2020)                                   193\n",
            "초격차 패키지 : 한 번에 끝내는 유튜브 크리에이터 되기                            186\n",
            "올인원 패키지 : 누적 조회수 12억! 우감독의 재미있는 영상 편집                      184\n",
            "The RED : 탑 아티스트가 선택한 디렉터 : 권오준이 알려주는 영상 연출의 모든 것          150\n",
            "편집하는여자의 영상편집 마스터클래스 - 제 2강 10가지 편집기법으로 프리미어 레벨업하기!         124\n",
            "올인원 패키지 : 다빈치리졸브로 배우는 영상 색 보정 A to Z                       110\n",
            "[묶음] 용호수의 입문+실전 강의를 한 번에!                                    3\n",
            "Name: course_title, dtype: int64\n"
          ]
        }
      ]
    },
    {
      "cell_type": "code",
      "source": [
        "fig_dims = (12, 6)\n",
        "fig, ax = plt.subplots(figsize=fig_dims)\n",
        "sns.countplot(data=dv_edit, x=\"course_title\", palette='mako', order =dv_edit['course_title'].value_counts().index) \n",
        "plt.title('[영상/3D] - [영상 편집] 강의별 수강생 분포')\n",
        "plt.xticks(rotation =  90)"
      ],
      "metadata": {
        "colab": {
          "base_uri": "https://localhost:8080/",
          "height": 812
        },
        "id": "-mBqFKNO-gQF",
        "outputId": "9d7cefbf-11b8-4e3d-eb62-9dc46b774374"
      },
      "id": "-mBqFKNO-gQF",
      "execution_count": 227,
      "outputs": [
        {
          "output_type": "execute_result",
          "data": {
            "text/plain": [
              "(array([ 0,  1,  2,  3,  4,  5,  6,  7,  8,  9, 10, 11]),\n",
              " <a list of 12 Text major ticklabel objects>)"
            ]
          },
          "metadata": {},
          "execution_count": 227
        },
        {
          "output_type": "display_data",
          "data": {
            "text/plain": [
              "<Figure size 864x432 with 1 Axes>"
            ],
            "image/png": "[encoded data removed]"
          },
          "metadata": {
            "needs_background": "light"
          }
        }
      ]
    },
    {
      "cell_type": "markdown",
      "source": [
        "###### ☞ 의견\n",
        "영상 편집 카테고리에서 판매가 가장 많이된 강의를 보니, 영상 편집 뿐만 아니라 촬영에도 관심이 많은 것으로 보인다. "
      ],
      "metadata": {
        "id": "llAYtRNWcCna"
      },
      "id": "llAYtRNWcCna"
    },
    {
      "cell_type": "markdown",
      "source": [
        "##### 백엔드 개발　| 프로그래밍"
      ],
      "metadata": {
        "id": "yZBE3xj1M4We"
      },
      "id": "yZBE3xj1M4We"
    },
    {
      "cell_type": "code",
      "source": [
        "# 프로그래밍\n",
        "programing['subcategory_title'].unique()\n",
        "\n",
        "back = programing[programing['subcategory_title']   == '백엔드 개발']\n",
        "back\n",
        "back1 = back['course_title'].nunique()\n",
        "back2 = back['course_title'].unique()\n",
        "back3 = back['course_title'].value_counts()\n",
        "\n",
        "print(back1)\n",
        "print(back3)"
      ],
      "metadata": {
        "colab": {
          "base_uri": "https://localhost:8080/"
        },
        "id": "Dy-83FMv-gG-",
        "outputId": "93f63bfd-96bd-4d9a-e6d9-315893f60665"
      },
      "id": "Dy-83FMv-gG-",
      "execution_count": 175,
      "outputs": [
        {
          "output_type": "stream",
          "name": "stdout",
          "text": [
            "8\n",
            "초격차 패키지 : 한번에 끝내는 Java/Spring 웹 개발 마스터                     1416\n",
            "초격차 패키지 : 한 번에 끝내는 node.js 웹 프로그래밍                          827\n",
            "초격차 패키지 : 한 번에 끝내는 파이썬 웹 개발                                 491\n",
            "(프로모션 7/16-7/29) 초격차 패키지 : 한 번에 끝내는 Spring 완.전.판            139\n",
            "초격차 패키지 : 한 번에 끝내는 Spring 완.전.판                             138\n",
            "The RED : 백엔드 에센셜 : 대용량 서비스를 위한 아키텍처 with Redis by 강대명      131\n",
            "올인원 패키지 : 스프링러너의 스프링 아카데미 : Spring을 활용한 유연한 백엔드 개발 트레이닝     122\n",
            "올인원 패키지 : 스프링의 정석 : 남궁성과 끝까지 간다                             122\n",
            "Name: course_title, dtype: int64\n"
          ]
        }
      ]
    },
    {
      "cell_type": "code",
      "source": [
        "fig_dims = (8, 6)\n",
        "fig, ax = plt.subplots(figsize=fig_dims)\n",
        "sns.countplot(data=back, x=\"course_title\", palette='mako', order =back['course_title'].value_counts().index) \n",
        "plt.title('[프로그래밍] - [백엔드 개발] 강의별 수강생 분포')\n",
        "plt.xticks(rotation =  90 )"
      ],
      "metadata": {
        "colab": {
          "base_uri": "https://localhost:8080/",
          "height": 785
        },
        "id": "SmC7tf49Ngg3",
        "outputId": "bbdbdf29-25fc-4252-d2f3-f3195e3f8d65"
      },
      "id": "SmC7tf49Ngg3",
      "execution_count": 177,
      "outputs": [
        {
          "output_type": "execute_result",
          "data": {
            "text/plain": [
              "(array([0, 1, 2, 3, 4, 5, 6, 7]), <a list of 8 Text major ticklabel objects>)"
            ]
          },
          "metadata": {},
          "execution_count": 177
        },
        {
          "output_type": "display_data",
          "data": {
            "text/plain": [
              "<Figure size 576x432 with 1 Axes>"
            ],
            "image/png": "[encoded data removed]"
          },
          "metadata": {
            "needs_background": "light"
          }
        }
      ]
    },
    {
      "cell_type": "markdown",
      "source": [
        "###### ☞ 의견\n",
        "Java와 Spring 웹 개발에 대한 강의가 가장 많이 판매된 것을 볼 수 있다."
      ],
      "metadata": {
        "id": "bnuUH_Xidx4Q"
      },
      "id": "bnuUH_Xidx4Q"
    },
    {
      "cell_type": "markdown",
      "source": [
        "##### 개발자 커리어　| 프로그래밍"
      ],
      "metadata": {
        "id": "1OFG-LguNFTo"
      },
      "id": "1OFG-LguNFTo"
    },
    {
      "cell_type": "code",
      "source": [
        "# 프로그래밍\n",
        "devcareer = programing[programing['subcategory_title']   == '개발자 커리어']\n",
        "devcareer\n",
        "devcareer1 = devcareer['course_title'].nunique()\n",
        "devcareer2 = devcareer['course_title'].unique()\n",
        "devcareer3 = devcareer['course_title'].value_counts()\n",
        "\n",
        "print(devcareer1)\n",
        "print(devcareer3)"
      ],
      "metadata": {
        "colab": {
          "base_uri": "https://localhost:8080/"
        },
        "id": "trI_ymP_OaNr",
        "outputId": "d4fd2afb-ab36-4164-a235-c56df8951486"
      },
      "id": "trI_ymP_OaNr",
      "execution_count": 178,
      "outputs": [
        {
          "output_type": "stream",
          "name": "stdout",
          "text": [
            "9\n",
            "올인원 패키지 : 알고리즘 기술면접 완전 정복                              534\n",
            "초격차 패키지 : 한 번에 끝내는 코딩테스트 369 Java편                     514\n",
            "올인원 패키지 : 컴퓨터 공학 전공 필수                                 506\n",
            "합격 패스 : 정보처리기사 필기&실기                                   503\n",
            "합격 패스 : 데이터베이스와 SQLD                                   367\n",
            "초격차 패키지 : 한 번에 끝내는 컴퓨터 공학 전공필수 & 인공지능 심화               299\n",
            "The RED : 개발자로 살아남기 : 30년을 주도하는 9가지 필수 기술 by 박종천       141\n",
            "올인원 패키지 : 네트워크와 보안 핵심 요약                               120\n",
            "The RED : 백발의 개발자를 꿈꾸며 : 코드리뷰, 레거시와 TDD by 백명석, 최범균    120\n",
            "Name: course_title, dtype: int64\n"
          ]
        }
      ]
    },
    {
      "cell_type": "code",
      "source": [
        "fig_dims = (8, 3)\n",
        "fig, ax = plt.subplots(figsize=fig_dims)\n",
        "sns.countplot(data=devcareer, x=\"course_title\", palette='mako', order =devcareer['course_title'].value_counts().index) \n",
        "plt.title('[프로그래밍] - [개발자 커리어] 강의별 수강생 분포')\n",
        "plt.xticks(rotation =  90 )"
      ],
      "metadata": {
        "colab": {
          "base_uri": "https://localhost:8080/",
          "height": 588
        },
        "id": "Apclj9mbOaFk",
        "outputId": "4cf34cfb-f5cc-4e92-fc80-ba279876b25c"
      },
      "id": "Apclj9mbOaFk",
      "execution_count": 186,
      "outputs": [
        {
          "output_type": "execute_result",
          "data": {
            "text/plain": [
              "(array([0, 1, 2, 3, 4, 5, 6, 7, 8]),\n",
              " <a list of 9 Text major ticklabel objects>)"
            ]
          },
          "metadata": {},
          "execution_count": 186
        },
        {
          "output_type": "display_data",
          "data": {
            "text/plain": [
              "<Figure size 576x216 with 1 Axes>"
            ],
            "image/png": "[encoded data removed]"
          },
          "metadata": {
            "needs_background": "light"
          }
        }
      ]
    },
    {
      "cell_type": "markdown",
      "source": [
        "##### 프론트엔드 개발　| 프로그래밍\n"
      ],
      "metadata": {
        "id": "nYFKpNP2NFe8"
      },
      "id": "nYFKpNP2NFe8"
    },
    {
      "cell_type": "code",
      "source": [
        "# 프로그래밍\n",
        "front = programing[programing['subcategory_title']   == '프론트엔드 개발']\n",
        "front\n",
        "front1 = front['course_title'].nunique()\n",
        "front2 = front['course_title'].unique()\n",
        "front3 = front['course_title'].value_counts()\n",
        "\n",
        "print(front1)\n",
        "print(front3)"
      ],
      "metadata": {
        "colab": {
          "base_uri": "https://localhost:8080/"
        },
        "id": "nPALxOmV-f-8",
        "outputId": "02d30553-3b5a-4410-e8cd-c3d0acc2687b"
      },
      "id": "nPALxOmV-f-8",
      "execution_count": 192,
      "outputs": [
        {
          "output_type": "stream",
          "name": "stdout",
          "text": [
            "10\n",
            "초격차 패키지 : 한 번에 끝내는 프론트엔드 개발                                           1423\n",
            "올인원 패키지 : 김민태의 프론트엔드 아카데미 : 제 1강 JavaScript & TypeScript Essential     656\n",
            "초격차 패키지 : 한 번에 끝내는 React의 모든 것                                         224\n",
            "올인원 패키지 : Vue.js 압축 완성                                                 111\n",
            "The RED : 견고한 UI 설계를 위한 마크업 가이드 by 정찬명                                  88\n",
            "The RED : 조은의 프론트엔드 실무 가이드 : 요구사항 분석과 적정 기술                             83\n",
            "The RED : 김민태                                                           65\n",
            "The RED : 프론트엔드 개발자 김태곤                                                 47\n",
            "올인원 패키지 : TypeScript & Angular 실전                                       42\n",
            "(B2B) K-Digital Training 핀테크 서비스 프론트엔드 개발 과정 1기                          1\n",
            "Name: course_title, dtype: int64\n"
          ]
        }
      ]
    },
    {
      "cell_type": "code",
      "source": [
        "fig_dims = (9, 6)\n",
        "fig, ax = plt.subplots(figsize=fig_dims)\n",
        "sns.countplot(data=front, x=\"course_title\", palette='mako', order =front['course_title'].value_counts().index) \n",
        "plt.title('[프로그래밍] - [프론트엔드 개발] 강의별 수강생 분포')\n",
        "plt.xticks(rotation =  90 )"
      ],
      "metadata": {
        "colab": {
          "base_uri": "https://localhost:8080/",
          "height": 802
        },
        "id": "tksLqCaq-fZX",
        "outputId": "eaeaa480-40ca-4939-ace5-9ab39cdfd33d"
      },
      "id": "tksLqCaq-fZX",
      "execution_count": 193,
      "outputs": [
        {
          "output_type": "execute_result",
          "data": {
            "text/plain": [
              "(array([0, 1, 2, 3, 4, 5, 6, 7, 8, 9]),\n",
              " <a list of 10 Text major ticklabel objects>)"
            ]
          },
          "metadata": {},
          "execution_count": 193
        },
        {
          "output_type": "display_data",
          "data": {
            "text/plain": [
              "<Figure size 648x432 with 1 Axes>"
            ],
            "image/png": "[encoded data removed]"
          },
          "metadata": {
            "needs_background": "light"
          }
        }
      ]
    },
    {
      "cell_type": "markdown",
      "source": [
        "##### 딥러닝/인공지능　| 데이터사이언스"
      ],
      "metadata": {
        "id": "_TMEYfFFQwTp"
      },
      "id": "_TMEYfFFQwTp"
    },
    {
      "cell_type": "code",
      "source": [
        "DeepAI = DS[DS['subcategory_title']   == '딥러닝/인공지능']\n",
        "DeepAI\n",
        "DeepAI1 = DeepAI['course_title'].nunique()\n",
        "DeepAI2 = DeepAI['course_title'].unique()\n",
        "DeepAI3 = DeepAI['course_title'].value_counts()\n",
        "\n",
        "print(DeepAI1)\n",
        "print(DeepAI3)"
      ],
      "metadata": {
        "colab": {
          "base_uri": "https://localhost:8080/"
        },
        "id": "-o4JaCHmSQ8F",
        "outputId": "1622f1ef-1b0c-4563-ddcc-6f8ea36836f3"
      },
      "id": "-o4JaCHmSQ8F",
      "execution_count": 195,
      "outputs": [
        {
          "output_type": "stream",
          "name": "stdout",
          "text": [
            "15\n",
            "바이블 : 파이썬 기초부터 시작하는 딥러닝 영상인식                  373\n",
            "연습문제 패키지 : 퀴즈처럼 풀면서 배우는 파이썬 딥러닝 300제+         356\n",
            "올인원 패키지 : 딥러닝/인공지능                            274\n",
            "초격차 패키지 : 한 번에 끝내는 딥러닝/인공지능                   212\n",
            "올인원 패키지 : 김기현의 BERT, GPT-3를 활용한 자연어처리         184\n",
            "올인원 패키지 : 컴퓨터비전과 딥러닝                          168\n",
            "올인원 패키지 : 딥러닝을 활용한 추천시스템 구현                   166\n",
            "올인원 패키지 : 처음부터 시작하는 딥러닝 유치원                   141\n",
            "The RED : 칼만필터를 활용한 자율주행 센서퓨전 기술 구현 by 조형기    139\n",
            "올인원 패키지 : 김기현의 딥러닝을 활용한 자연어처리 입문               78\n",
            "올인원 패키지 : 수학적으로 접근하는 딥러닝                       75\n",
            "글로벌 엑스퍼트 : GAN 딥러닝 완벽 가이드 with 글로벌 엔지니어        59\n",
            "올인원 패키지 : 김기현의 딥러닝을 활용한 자연어생성                  55\n",
            "REC.ON : Autonomous Vehicle                    20\n",
            "REC.ON : AI                                    14\n",
            "Name: course_title, dtype: int64\n"
          ]
        }
      ]
    },
    {
      "cell_type": "code",
      "source": [
        "fig_dims = (12, 3)\n",
        "fig, ax = plt.subplots(figsize=fig_dims)\n",
        "sns.countplot(data=DeepAI, x=\"course_title\", palette='mako', order =DeepAI['course_title'].value_counts().index) \n",
        "plt.title('[데이터사이언스] - [딥러닝/인공지능] 강의별 수강생 분포')\n",
        "plt.xticks(rotation =  90 )"
      ],
      "metadata": {
        "colab": {
          "base_uri": "https://localhost:8080/",
          "height": 545
        },
        "id": "8C8NBa-7SQyE",
        "outputId": "c710dcc5-8f16-4df8-8ca1-dc4f57b9a186"
      },
      "id": "8C8NBa-7SQyE",
      "execution_count": 220,
      "outputs": [
        {
          "output_type": "execute_result",
          "data": {
            "text/plain": [
              "(array([ 0,  1,  2,  3,  4,  5,  6,  7,  8,  9, 10, 11, 12, 13, 14]),\n",
              " <a list of 15 Text major ticklabel objects>)"
            ]
          },
          "metadata": {},
          "execution_count": 220
        },
        {
          "output_type": "display_data",
          "data": {
            "text/plain": [
              "<Figure size 864x216 with 1 Axes>"
            ],
            "image/png": "[encoded data removed]"
          },
          "metadata": {
            "needs_background": "light"
          }
        }
      ]
    },
    {
      "cell_type": "markdown",
      "source": [
        "##### 데이터분석　| 데이터사이언스"
      ],
      "metadata": {
        "id": "_3fZVe2lQwCW"
      },
      "id": "_3fZVe2lQwCW"
    },
    {
      "cell_type": "code",
      "source": [
        "dataAnalysis = DS[DS['subcategory_title']   == '데이터분석']\n",
        "dataAnalysis\n",
        "dataAnalysis1 = dataAnalysis['course_title'].nunique()\n",
        "dataAnalysis2 = dataAnalysis['course_title'].unique()\n",
        "dataAnalysis3 = dataAnalysis['course_title'].value_counts()\n",
        "\n",
        "print(dataAnalysis1)\n",
        "print(dataAnalysis3)"
      ],
      "metadata": {
        "colab": {
          "base_uri": "https://localhost:8080/"
        },
        "outputId": "d11e6862-8d36-4913-8fc0-0cc1c83b6bf8",
        "id": "w5H_iS05TMvN"
      },
      "execution_count": 202,
      "outputs": [
        {
          "output_type": "stream",
          "name": "stdout",
          "text": [
            "10\n",
            "초격차 패키지 : 한 번에 끝내는 데이터 분석 툴               616\n",
            "올인원 패키지 : 직장인을 위한 파이썬 데이터분석               433\n",
            "초격차 패키지 : 한 번에 끝내는 데이터 분석                 388\n",
            "올인원 패키지 : 파이썬을 활용한 시계열 데이터 분석 A-Z         189\n",
            "올인원 패키지 : 프로젝트와 함께 배우는 R 데이터 분석           140\n",
            "올인원 패키지 : 파이썬을 활용한 데이터 전처리 Level UP       111\n",
            "올인원 패키지 : 파이썬을 활용한 이커머스 데이터 분석            111\n",
            "The RED : 데이터 사이언티스트 하용호                   64\n",
            "글로벌 엑스퍼트 : 바이오 데이터사이언스(Bioinformatics)     31\n",
            "Apache Spark을 이용한 빅데이터 분석 입문 15기           15\n",
            "Name: course_title, dtype: int64\n"
          ]
        }
      ],
      "id": "w5H_iS05TMvN"
    },
    {
      "cell_type": "code",
      "source": [
        "fig_dims = (9, 4)\n",
        "fig, ax = plt.subplots(figsize=fig_dims)\n",
        "sns.countplot(data=dataAnalysis, x=\"course_title\", palette='mako', order =dataAnalysis['course_title'].value_counts().index) \n",
        "plt.title('[데이터사이언스] - [데이터분석] 강의별 수강생 분포')\n",
        "plt.xticks(rotation =  90 )"
      ],
      "metadata": {
        "colab": {
          "base_uri": "https://localhost:8080/",
          "height": 560
        },
        "outputId": "e948f667-35fc-424a-e68e-2cdaff2e075e",
        "id": "fGXvukzTTMvP"
      },
      "execution_count": 218,
      "outputs": [
        {
          "output_type": "execute_result",
          "data": {
            "text/plain": [
              "(array([0, 1, 2, 3, 4, 5, 6, 7, 8, 9]),\n",
              " <a list of 10 Text major ticklabel objects>)"
            ]
          },
          "metadata": {},
          "execution_count": 218
        },
        {
          "output_type": "display_data",
          "data": {
            "text/plain": [
              "<Figure size 648x288 with 1 Axes>"
            ],
            "image/png": "[encoded data removed]"
          },
          "metadata": {
            "needs_background": "light"
          }
        }
      ],
      "id": "fGXvukzTTMvP"
    },
    {
      "cell_type": "markdown",
      "source": [
        "##### PPT/보고서　| 업무 생산성"
      ],
      "metadata": {
        "id": "GSyMW9k0Qv6p"
      },
      "id": "GSyMW9k0Qv6p"
    },
    {
      "cell_type": "code",
      "source": [
        "ppt = wp[wp['subcategory_title']   == 'PPT/보고서']\n",
        "ppt\n",
        "ppt1 = ppt['course_title'].nunique()\n",
        "ppt2 = ppt['course_title'].unique()\n",
        "ppt3 = ppt['course_title'].value_counts()\n",
        "\n",
        "print(ppt1)\n",
        "print(ppt3)"
      ],
      "metadata": {
        "colab": {
          "base_uri": "https://localhost:8080/"
        },
        "outputId": "662bd3ee-9983-46bb-995a-c8b464ae9136",
        "id": "tLlkPIl6T7Ef"
      },
      "execution_count": 204,
      "outputs": [
        {
          "output_type": "stream",
          "name": "stdout",
          "text": [
            "6\n",
            "초격차 패키지 : 일잘러 필수 스킬 모음.zip                            621\n",
            "초격차 패키지 : 한번에 끝내는 PPT 제작/디자인                          574\n",
            "올인원 패키지 : 100억을 움직이는 단 10장의 PPT                       388\n",
            "올인원 패키지 : 직장인 필수 스킬 3종 세트 MAX                         227\n",
            "올인원 패키지 : 13만 구독자 피피티프로젝트의 누구나 쉽게 배우는 시선강탈 피피티 디자인    145\n",
            "올인원 패키지 : 자유자재로 쓰는 태블로 대시보드 마스터                       106\n",
            "Name: course_title, dtype: int64\n"
          ]
        }
      ],
      "id": "tLlkPIl6T7Ef"
    },
    {
      "cell_type": "code",
      "source": [
        "fig_dims = (6, 4)\n",
        "fig, ax = plt.subplots(figsize=fig_dims)\n",
        "sns.countplot(data=ppt, x=\"course_title\", palette='mako', order =ppt['course_title'].value_counts().index) \n",
        "plt.title('[업무 생산성] - [PPT/보고서] 강의별 수강생 분포')\n",
        "plt.xticks(rotation =  90 )"
      ],
      "metadata": {
        "colab": {
          "base_uri": "https://localhost:8080/",
          "height": 661
        },
        "outputId": "77b59728-5aeb-49f1-ecaa-76825b378cb0",
        "id": "bFZvKikRT7Eg"
      },
      "execution_count": 209,
      "outputs": [
        {
          "output_type": "execute_result",
          "data": {
            "text/plain": [
              "(array([0, 1, 2, 3, 4, 5]), <a list of 6 Text major ticklabel objects>)"
            ]
          },
          "metadata": {},
          "execution_count": 209
        },
        {
          "output_type": "display_data",
          "data": {
            "text/plain": [
              "<Figure size 432x288 with 1 Axes>"
            ],
            "image/png": "[encoded data removed]"
          },
          "metadata": {
            "needs_background": "light"
          }
        }
      ],
      "id": "bFZvKikRT7Eg"
    },
    {
      "cell_type": "markdown",
      "source": [
        "##### 엑셀/VBA　| 업무 생산성"
      ],
      "metadata": {
        "id": "FmOsm6uQRHVl"
      },
      "id": "FmOsm6uQRHVl"
    },
    {
      "cell_type": "code",
      "source": [
        "vba = wp[wp['subcategory_title']   == '엑셀/VBA']\n",
        "vba\n",
        "vba1 = vba['course_title'].nunique()\n",
        "vba2 = vba['course_title'].unique()\n",
        "vba3 = vba['course_title'].value_counts()\n",
        "\n",
        "print(vba1)\n",
        "print(vba3)"
      ],
      "metadata": {
        "colab": {
          "base_uri": "https://localhost:8080/"
        },
        "outputId": "02e59c0c-120c-45e0-9234-072e9516787a",
        "id": "uAXHgq_rUZsZ"
      },
      "execution_count": 210,
      "outputs": [
        {
          "output_type": "stream",
          "name": "stdout",
          "text": [
            "6\n",
            "나의 칼퇴치트키 엑셀유치원                   793\n",
            "초격차 패키지 : 한 번에 끝내는 엑셀 실무         658\n",
            "올인원 패키지 : 엑셀언니의 사무실용 엑셀뿌수기       171\n",
            "올인원 패키지 : 엑셀 실무 마스터              145\n",
            "올인원 패키지 : 공여사와 무작정 풀어보는 엑셀 실무    136\n",
            "올인원 패키지 : 통계와 엑셀을 활용한 데이터 분석      75\n",
            "Name: course_title, dtype: int64\n"
          ]
        }
      ],
      "id": "uAXHgq_rUZsZ"
    },
    {
      "cell_type": "code",
      "source": [
        "fig_dims = (6, 4.5)\n",
        "fig, ax = plt.subplots(figsize=fig_dims)\n",
        "sns.countplot(data=vba, x=\"course_title\", palette='mako', order =vba['course_title'].value_counts().index) \n",
        "plt.title('[업무 생산성] - [엑셀/VBA] 강의별 수강생 분포')\n",
        "plt.xticks(rotation =  90 )"
      ],
      "metadata": {
        "colab": {
          "base_uri": "https://localhost:8080/",
          "height": 535
        },
        "outputId": "25d0fb7e-1ccd-4bfb-948f-f368020be4f3",
        "id": "c8nWl7neUZsa"
      },
      "execution_count": 224,
      "outputs": [
        {
          "output_type": "execute_result",
          "data": {
            "text/plain": [
              "(array([0, 1, 2, 3, 4, 5]), <a list of 6 Text major ticklabel objects>)"
            ]
          },
          "metadata": {},
          "execution_count": 224
        },
        {
          "output_type": "display_data",
          "data": {
            "text/plain": [
              "<Figure size 432x324 with 1 Axes>"
            ],
            "image/png": "[encoded data removed]"
          },
          "metadata": {
            "needs_background": "light"
          }
        }
      ],
      "id": "c8nWl7neUZsa"
    },
    {
      "cell_type": "markdown",
      "source": [
        "##### 글쓰기/카피라이팅　| 마케팅"
      ],
      "metadata": {
        "id": "I3qYU4TnRHIv"
      },
      "id": "I3qYU4TnRHIv"
    },
    {
      "cell_type": "code",
      "source": [
        "writing = mkt[mkt['subcategory_title']   == '글쓰기/카피라이팅']\n",
        "writing\n",
        "writing1 = writing['course_title'].nunique()\n",
        "writing2 = writing['course_title'].unique()\n",
        "writing3 = writing['course_title'].value_counts()\n",
        "\n",
        "print(writing1)\n",
        "print(writing3)"
      ],
      "metadata": {
        "colab": {
          "base_uri": "https://localhost:8080/"
        },
        "outputId": "e6619530-b2cd-41f6-f015-0bfd2a589cac",
        "id": "l4_lra_FUrX7"
      },
      "execution_count": 214,
      "outputs": [
        {
          "output_type": "stream",
          "name": "stdout",
          "text": [
            "5\n",
            "The RED : 김영하 작가의 내 안의 숨은 이야기를 찾아 쓰는 법    1062\n",
            "올인원 패키지 : 30개 글감으로 에세이 작가되기 BY.정영욱         224\n",
            "THE RED : 광고인 박웅현과 크리에이티브                  214\n",
            "The RED : 지브리 스튜디오 제작국장에게 듣는 스토리텔링 기획법     185\n",
            "올인원 패키지 : 30개 글감으로 에세이 작가되기 BY.정영욱 플러스      18\n",
            "Name: course_title, dtype: int64\n"
          ]
        }
      ],
      "id": "l4_lra_FUrX7"
    },
    {
      "cell_type": "code",
      "source": [
        "fig_dims = (5, 6)\n",
        "fig, ax = plt.subplots(figsize=fig_dims)\n",
        "sns.countplot(data=writing, x=\"course_title\", palette='mako', order =writing['course_title'].value_counts().index) \n",
        "plt.title('[마케팅] - [글쓰기/카피라이팅] 강의별 수강생 분포')\n",
        "plt.xticks(rotation =  90 )"
      ],
      "metadata": {
        "colab": {
          "base_uri": "https://localhost:8080/",
          "height": 673
        },
        "outputId": "af87906b-0afc-439f-fdd3-c6d61c105c4a",
        "id": "nHmSGQS3UrX8"
      },
      "execution_count": 226,
      "outputs": [
        {
          "output_type": "execute_result",
          "data": {
            "text/plain": [
              "(array([0, 1, 2, 3, 4]), <a list of 5 Text major ticklabel objects>)"
            ]
          },
          "metadata": {},
          "execution_count": 226
        },
        {
          "output_type": "display_data",
          "data": {
            "text/plain": [
              "<Figure size 360x432 with 1 Axes>"
            ],
            "image/png": "[encoded data removed]"
          },
          "metadata": {
            "needs_background": "light"
          }
        }
      ],
      "id": "nHmSGQS3UrX8"
    },
    {
      "cell_type": "markdown",
      "source": [
        "##### ☞ 의견\n",
        "위에서 Subcategory 별 분포를 봤을 때 사람들이 글쓰기에 대한 관심이 많다고 생각했는데, 이 그래프에서 보면 김영하 작가의 The RED 특강 판매가 특히 많이 되어서 글쓰기/카피라이팅 카테고리 판매량에 영향을 준 것으로 알 수 있었다."
      ],
      "metadata": {
        "id": "siedAbDDRHBx"
      },
      "id": "siedAbDDRHBx"
    },
    {
      "cell_type": "markdown",
      "source": [
        "##### (*'한번에 끝내는'* 타이틀 강의)\n",
        "\n",
        "타이틀에 \"한번에 끝내는\"이 들어가는 강의가 많이 팔린 것으로 보임. 관련 분석........"
      ],
      "metadata": {
        "id": "j6bwv8WBP03X"
      },
      "id": "j6bwv8WBP03X"
    },
    {
      "cell_type": "markdown",
      "metadata": {
        "id": "e39ecd02"
      },
      "source": [
        "### (x 수강 신청 후 실제 구매한 비율)"
      ],
      "id": "e39ecd02"
    },
    {
      "cell_type": "markdown",
      "metadata": {
        "id": "97653a2e"
      },
      "source": [
        "결제 완료 인원 / (결제 요청 + 결제 완료 + 주문 취소 + 결제 취소) 인원 * 100\n",
        "\n",
        "(결제 요청 상태인 사람인 미결제인 것으로 포함시킴)"
      ],
      "id": "97653a2e"
    },
    {
      "cell_type": "code",
      "execution_count": 83,
      "metadata": {
        "ExecuteTime": {
          "end_time": "2022-05-10T17:18:44.590426Z",
          "start_time": "2022-05-10T17:18:44.486407Z"
        },
        "colab": {
          "base_uri": "https://localhost:8080/"
        },
        "id": "b19e3dd2",
        "outputId": "d9ff5598-2eff-4343-aa7a-764c42745370"
      },
      "outputs": [
        {
          "output_type": "stream",
          "name": "stdout",
          "text": [
            "14\n",
            "52898\n",
            "34121\n",
            "7153\n",
            "\n",
            " 수강 신청 후 실제 구매율:  56.16 %\n"
          ]
        }
      ],
      "source": [
        "a = len(df[(df['type'] == 'PAYMENT') & (df['state'] == 'REQUESTED')]) # 결제 요청 인원\n",
        "b = len(df[(df['type'] == 'PAYMENT') & (df['state'] == 'COMPLETED')]) # 결제 완료 인원\n",
        "c = len(df[(df['type'] == 'ORDER') & (df['state'] == 'CANCELLED')])  # 주문 취소 인원\n",
        "d = len(df[(df['type'] == 'PAYMENT') & (df['state'] == 'CANCELLED')])  # 결제 취소 인원\n",
        "print(a)\n",
        "print(b)\n",
        "print(c)\n",
        "print(d)\n",
        "print()\n",
        "actual_payment = (b / (a+b+c+d) )*100\n",
        "print(f' 수강 신청 후 실제 구매율:  {round(actual_payment, 2)} %')"
      ],
      "id": "b19e3dd2"
    },
    {
      "cell_type": "code",
      "execution_count": 84,
      "metadata": {
        "ExecuteTime": {
          "end_time": "2022-05-10T17:18:45.757063Z",
          "start_time": "2022-05-10T17:18:45.723053Z"
        },
        "colab": {
          "base_uri": "https://localhost:8080/",
          "height": 424
        },
        "id": "f19af112",
        "outputId": "7755ac2e-d89a-4f09-a65e-64f273a5aaa3"
      },
      "outputs": [
        {
          "output_type": "execute_result",
          "data": {
            "text/plain": [
              "       category_title subcategory_title  course_id  customer_id     type  \\\n",
              "0               프로그래밍           개발자 커리어   201435.0     504760.0    ORDER   \n",
              "1               영상/3D             영상 편집   203178.0     432862.0    ORDER   \n",
              "2               프로그래밍               NaN   204246.0      72297.0  PAYMENT   \n",
              "3               프로그래밍               NaN   204246.0      72297.0    ORDER   \n",
              "4              업무 생산성           PPT/보고서   201797.0     478028.0  PAYMENT   \n",
              "...               ...               ...        ...          ...      ...   \n",
              "105414          영상/3D             영상 편집   205365.0     640697.0  PAYMENT   \n",
              "105415         부동산/금융            부동산 개발   204159.0     670896.0  PAYMENT   \n",
              "105416          영상/3D             영상 편집   205365.0     640697.0  PAYMENT   \n",
              "105417         부동산/금융            부동산 개발   204159.0     670896.0  PAYMENT   \n",
              "105418          영상/3D             영상 편집   206720.0     610626.0  PAYMENT   \n",
              "\n",
              "            state  \n",
              "0       CANCELLED  \n",
              "1       CANCELLED  \n",
              "2       COMPLETED  \n",
              "3       CANCELLED  \n",
              "4       COMPLETED  \n",
              "...           ...  \n",
              "105414  CANCELLED  \n",
              "105415  CANCELLED  \n",
              "105416  COMPLETED  \n",
              "105417  CANCELLED  \n",
              "105418  COMPLETED  \n",
              "\n",
              "[105393 rows x 6 columns]"
            ],
            "text/html": [
              "\n",
              "  <div id=\"df-a6b1106f-bb47-4c58-97f3-ab16118dda33\">\n",
              "    <div class=\"colab-df-container\">\n",
              "      <div>\n",
              "<style scoped>\n",
              "    .dataframe tbody tr th:only-of-type {\n",
              "        vertical-align: middle;\n",
              "    }\n",
              "\n",
              "    .dataframe tbody tr th {\n",
              "        vertical-align: top;\n",
              "    }\n",
              "\n",
              "    .dataframe thead th {\n",
              "        text-align: right;\n",
              "    }\n",
              "</style>\n",
              "<table border=\"1\" class=\"dataframe\">\n",
              "  <thead>\n",
              "    <tr style=\"text-align: right;\">\n",
              "      <th></th>\n",
              "      <th>category_title</th>\n",
              "      <th>subcategory_title</th>\n",
              "      <th>course_id</th>\n",
              "      <th>customer_id</th>\n",
              "      <th>type</th>\n",
              "      <th>state</th>\n",
              "    </tr>\n",
              "  </thead>\n",
              "  <tbody>\n",
              "    <tr>\n",
              "      <th>0</th>\n",
              "      <td>프로그래밍</td>\n",
              "      <td>개발자 커리어</td>\n",
              "      <td>201435.0</td>\n",
              "      <td>504760.0</td>\n",
              "      <td>ORDER</td>\n",
              "      <td>CANCELLED</td>\n",
              "    </tr>\n",
              "    <tr>\n",
              "      <th>1</th>\n",
              "      <td>영상/3D</td>\n",
              "      <td>영상 편집</td>\n",
              "      <td>203178.0</td>\n",
              "      <td>432862.0</td>\n",
              "      <td>ORDER</td>\n",
              "      <td>CANCELLED</td>\n",
              "    </tr>\n",
              "    <tr>\n",
              "      <th>2</th>\n",
              "      <td>프로그래밍</td>\n",
              "      <td>NaN</td>\n",
              "      <td>204246.0</td>\n",
              "      <td>72297.0</td>\n",
              "      <td>PAYMENT</td>\n",
              "      <td>COMPLETED</td>\n",
              "    </tr>\n",
              "    <tr>\n",
              "      <th>3</th>\n",
              "      <td>프로그래밍</td>\n",
              "      <td>NaN</td>\n",
              "      <td>204246.0</td>\n",
              "      <td>72297.0</td>\n",
              "      <td>ORDER</td>\n",
              "      <td>CANCELLED</td>\n",
              "    </tr>\n",
              "    <tr>\n",
              "      <th>4</th>\n",
              "      <td>업무 생산성</td>\n",
              "      <td>PPT/보고서</td>\n",
              "      <td>201797.0</td>\n",
              "      <td>478028.0</td>\n",
              "      <td>PAYMENT</td>\n",
              "      <td>COMPLETED</td>\n",
              "    </tr>\n",
              "    <tr>\n",
              "      <th>...</th>\n",
              "      <td>...</td>\n",
              "      <td>...</td>\n",
              "      <td>...</td>\n",
              "      <td>...</td>\n",
              "      <td>...</td>\n",
              "      <td>...</td>\n",
              "    </tr>\n",
              "    <tr>\n",
              "      <th>105414</th>\n",
              "      <td>영상/3D</td>\n",
              "      <td>영상 편집</td>\n",
              "      <td>205365.0</td>\n",
              "      <td>640697.0</td>\n",
              "      <td>PAYMENT</td>\n",
              "      <td>CANCELLED</td>\n",
              "    </tr>\n",
              "    <tr>\n",
              "      <th>105415</th>\n",
              "      <td>부동산/금융</td>\n",
              "      <td>부동산 개발</td>\n",
              "      <td>204159.0</td>\n",
              "      <td>670896.0</td>\n",
              "      <td>PAYMENT</td>\n",
              "      <td>CANCELLED</td>\n",
              "    </tr>\n",
              "    <tr>\n",
              "      <th>105416</th>\n",
              "      <td>영상/3D</td>\n",
              "      <td>영상 편집</td>\n",
              "      <td>205365.0</td>\n",
              "      <td>640697.0</td>\n",
              "      <td>PAYMENT</td>\n",
              "      <td>COMPLETED</td>\n",
              "    </tr>\n",
              "    <tr>\n",
              "      <th>105417</th>\n",
              "      <td>부동산/금융</td>\n",
              "      <td>부동산 개발</td>\n",
              "      <td>204159.0</td>\n",
              "      <td>670896.0</td>\n",
              "      <td>PAYMENT</td>\n",
              "      <td>CANCELLED</td>\n",
              "    </tr>\n",
              "    <tr>\n",
              "      <th>105418</th>\n",
              "      <td>영상/3D</td>\n",
              "      <td>영상 편집</td>\n",
              "      <td>206720.0</td>\n",
              "      <td>610626.0</td>\n",
              "      <td>PAYMENT</td>\n",
              "      <td>COMPLETED</td>\n",
              "    </tr>\n",
              "  </tbody>\n",
              "</table>\n",
              "<p>105393 rows × 6 columns</p>\n",
              "</div>\n",
              "      <button class=\"colab-df-convert\" onclick=\"convertToInteractive('df-a6b1106f-bb47-4c58-97f3-ab16118dda33')\"\n",
              "              title=\"Convert this dataframe to an interactive table.\"\n",
              "              style=\"display:none;\">\n",
              "        \n",
              "  <svg xmlns=\"http://www.w3.org/2000/svg\" height=\"24px\"viewBox=\"0 0 24 24\"\n",
              "       width=\"24px\">\n",
              "    <path d=\"M0 0h24v24H0V0z\" fill=\"none\"/>\n",
              "    <path d=\"M18.56 5.44l.94 2.06.94-2.06 2.06-.94-2.06-.94-.94-2.06-.94 2.06-2.06.94zm-11 1L8.5 8.5l.94-2.06 2.06-.94-2.06-.94L8.5 2.5l-.94 2.06-2.06.94zm10 10l.94 2.06.94-2.06 2.06-.94-2.06-.94-.94-2.06-.94 2.06-2.06.94z\"/><path d=\"M17.41 7.96l-1.37-1.37c-.4-.4-.92-.59-1.43-.59-.52 0-1.04.2-1.43.59L10.3 9.45l-7.72 7.72c-.78.78-.78 2.05 0 2.83L4 21.41c.39.39.9.59 1.41.59.51 0 1.02-.2 1.41-.59l7.78-7.78 2.81-2.81c.8-.78.8-2.07 0-2.86zM5.41 20L4 18.59l7.72-7.72 1.47 1.35L5.41 20z\"/>\n",
              "  </svg>\n",
              "      </button>\n",
              "      \n",
              "  <style>\n",
              "    .colab-df-container {\n",
              "      display:flex;\n",
              "      flex-wrap:wrap;\n",
              "      gap: 12px;\n",
              "    }\n",
              "\n",
              "    .colab-df-convert {\n",
              "      background-color: #E8F0FE;\n",
              "      border: none;\n",
              "      border-radius: 50%;\n",
              "      cursor: pointer;\n",
              "      display: none;\n",
              "      fill: #1967D2;\n",
              "      height: 32px;\n",
              "      padding: 0 0 0 0;\n",
              "      width: 32px;\n",
              "    }\n",
              "\n",
              "    .colab-df-convert:hover {\n",
              "      background-color: #E2EBFA;\n",
              "      box-shadow: 0px 1px 2px rgba(60, 64, 67, 0.3), 0px 1px 3px 1px rgba(60, 64, 67, 0.15);\n",
              "      fill: #174EA6;\n",
              "    }\n",
              "\n",
              "    [theme=dark] .colab-df-convert {\n",
              "      background-color: #3B4455;\n",
              "      fill: #D2E3FC;\n",
              "    }\n",
              "\n",
              "    [theme=dark] .colab-df-convert:hover {\n",
              "      background-color: #434B5C;\n",
              "      box-shadow: 0px 1px 3px 1px rgba(0, 0, 0, 0.15);\n",
              "      filter: drop-shadow(0px 1px 2px rgba(0, 0, 0, 0.3));\n",
              "      fill: #FFFFFF;\n",
              "    }\n",
              "  </style>\n",
              "\n",
              "      <script>\n",
              "        const buttonEl =\n",
              "          document.querySelector('#df-a6b1106f-bb47-4c58-97f3-ab16118dda33 button.colab-df-convert');\n",
              "        buttonEl.style.display =\n",
              "          google.colab.kernel.accessAllowed ? 'block' : 'none';\n",
              "\n",
              "        async function convertToInteractive(key) {\n",
              "          const element = document.querySelector('#df-a6b1106f-bb47-4c58-97f3-ab16118dda33');\n",
              "          const dataTable =\n",
              "            await google.colab.kernel.invokeFunction('convertToInteractive',\n",
              "                                                     [key], {});\n",
              "          if (!dataTable) return;\n",
              "\n",
              "          const docLinkHtml = 'Like what you see? Visit the ' +\n",
              "            '<a target=\"_blank\" href=https://colab.research.google.com/notebooks/data_table.ipynb>data table notebook</a>'\n",
              "            + ' to learn more about interactive tables.';\n",
              "          element.innerHTML = '';\n",
              "          dataTable['output_type'] = 'display_data';\n",
              "          await google.colab.output.renderOutput(dataTable, element);\n",
              "          const docLink = document.createElement('div');\n",
              "          docLink.innerHTML = docLinkHtml;\n",
              "          element.appendChild(docLink);\n",
              "        }\n",
              "      </script>\n",
              "    </div>\n",
              "  </div>\n",
              "  "
            ]
          },
          "metadata": {},
          "execution_count": 84
        }
      ],
      "source": [
        "categorized = df[['category_title', 'subcategory_title', 'course_id', 'customer_id', 'type', 'state']]\n",
        "categorized"
      ],
      "id": "f19af112"
    },
    {
      "cell_type": "code",
      "execution_count": 85,
      "metadata": {
        "ExecuteTime": {
          "end_time": "2022-05-10T17:18:49.064187Z",
          "start_time": "2022-05-10T17:18:49.000180Z"
        },
        "colab": {
          "base_uri": "https://localhost:8080/",
          "height": 455
        },
        "id": "845a6f30",
        "outputId": "4c1bb90e-5279-4881-e3e6-153c5b25e6a9"
      },
      "outputs": [
        {
          "output_type": "execute_result",
          "data": {
            "text/plain": [
              "                                  course_id  customer_id     type      state\n",
              "category_title subcategory_title                                            \n",
              "프로그래밍          개발자 커리어             201435.0     504760.0    ORDER  CANCELLED\n",
              "영상/3D          영상 편집               203178.0     432862.0    ORDER  CANCELLED\n",
              "프로그래밍          NaN                 204246.0      72297.0  PAYMENT  COMPLETED\n",
              "               NaN                 204246.0      72297.0    ORDER  CANCELLED\n",
              "업무 생산성         PPT/보고서             201797.0     478028.0  PAYMENT  COMPLETED\n",
              "...                                     ...          ...      ...        ...\n",
              "영상/3D          영상 편집               205365.0     640697.0  PAYMENT  CANCELLED\n",
              "부동산/금융         부동산 개발              204159.0     670896.0  PAYMENT  CANCELLED\n",
              "영상/3D          영상 편집               205365.0     640697.0  PAYMENT  COMPLETED\n",
              "부동산/금융         부동산 개발              204159.0     670896.0  PAYMENT  CANCELLED\n",
              "영상/3D          영상 편집               206720.0     610626.0  PAYMENT  COMPLETED\n",
              "\n",
              "[105393 rows x 4 columns]"
            ],
            "text/html": [
              "\n",
              "  <div id=\"df-8c84daeb-1d1f-450f-abfb-e6e7bcc5b98e\">\n",
              "    <div class=\"colab-df-container\">\n",
              "      <div>\n",
              "<style scoped>\n",
              "    .dataframe tbody tr th:only-of-type {\n",
              "        vertical-align: middle;\n",
              "    }\n",
              "\n",
              "    .dataframe tbody tr th {\n",
              "        vertical-align: top;\n",
              "    }\n",
              "\n",
              "    .dataframe thead th {\n",
              "        text-align: right;\n",
              "    }\n",
              "</style>\n",
              "<table border=\"1\" class=\"dataframe\">\n",
              "  <thead>\n",
              "    <tr style=\"text-align: right;\">\n",
              "      <th></th>\n",
              "      <th></th>\n",
              "      <th>course_id</th>\n",
              "      <th>customer_id</th>\n",
              "      <th>type</th>\n",
              "      <th>state</th>\n",
              "    </tr>\n",
              "    <tr>\n",
              "      <th>category_title</th>\n",
              "      <th>subcategory_title</th>\n",
              "      <th></th>\n",
              "      <th></th>\n",
              "      <th></th>\n",
              "      <th></th>\n",
              "    </tr>\n",
              "  </thead>\n",
              "  <tbody>\n",
              "    <tr>\n",
              "      <th>프로그래밍</th>\n",
              "      <th>개발자 커리어</th>\n",
              "      <td>201435.0</td>\n",
              "      <td>504760.0</td>\n",
              "      <td>ORDER</td>\n",
              "      <td>CANCELLED</td>\n",
              "    </tr>\n",
              "    <tr>\n",
              "      <th>영상/3D</th>\n",
              "      <th>영상 편집</th>\n",
              "      <td>203178.0</td>\n",
              "      <td>432862.0</td>\n",
              "      <td>ORDER</td>\n",
              "      <td>CANCELLED</td>\n",
              "    </tr>\n",
              "    <tr>\n",
              "      <th rowspan=\"2\" valign=\"top\">프로그래밍</th>\n",
              "      <th>NaN</th>\n",
              "      <td>204246.0</td>\n",
              "      <td>72297.0</td>\n",
              "      <td>PAYMENT</td>\n",
              "      <td>COMPLETED</td>\n",
              "    </tr>\n",
              "    <tr>\n",
              "      <th>NaN</th>\n",
              "      <td>204246.0</td>\n",
              "      <td>72297.0</td>\n",
              "      <td>ORDER</td>\n",
              "      <td>CANCELLED</td>\n",
              "    </tr>\n",
              "    <tr>\n",
              "      <th>업무 생산성</th>\n",
              "      <th>PPT/보고서</th>\n",
              "      <td>201797.0</td>\n",
              "      <td>478028.0</td>\n",
              "      <td>PAYMENT</td>\n",
              "      <td>COMPLETED</td>\n",
              "    </tr>\n",
              "    <tr>\n",
              "      <th>...</th>\n",
              "      <th>...</th>\n",
              "      <td>...</td>\n",
              "      <td>...</td>\n",
              "      <td>...</td>\n",
              "      <td>...</td>\n",
              "    </tr>\n",
              "    <tr>\n",
              "      <th>영상/3D</th>\n",
              "      <th>영상 편집</th>\n",
              "      <td>205365.0</td>\n",
              "      <td>640697.0</td>\n",
              "      <td>PAYMENT</td>\n",
              "      <td>CANCELLED</td>\n",
              "    </tr>\n",
              "    <tr>\n",
              "      <th>부동산/금융</th>\n",
              "      <th>부동산 개발</th>\n",
              "      <td>204159.0</td>\n",
              "      <td>670896.0</td>\n",
              "      <td>PAYMENT</td>\n",
              "      <td>CANCELLED</td>\n",
              "    </tr>\n",
              "    <tr>\n",
              "      <th>영상/3D</th>\n",
              "      <th>영상 편집</th>\n",
              "      <td>205365.0</td>\n",
              "      <td>640697.0</td>\n",
              "      <td>PAYMENT</td>\n",
              "      <td>COMPLETED</td>\n",
              "    </tr>\n",
              "    <tr>\n",
              "      <th>부동산/금융</th>\n",
              "      <th>부동산 개발</th>\n",
              "      <td>204159.0</td>\n",
              "      <td>670896.0</td>\n",
              "      <td>PAYMENT</td>\n",
              "      <td>CANCELLED</td>\n",
              "    </tr>\n",
              "    <tr>\n",
              "      <th>영상/3D</th>\n",
              "      <th>영상 편집</th>\n",
              "      <td>206720.0</td>\n",
              "      <td>610626.0</td>\n",
              "      <td>PAYMENT</td>\n",
              "      <td>COMPLETED</td>\n",
              "    </tr>\n",
              "  </tbody>\n",
              "</table>\n",
              "<p>105393 rows × 4 columns</p>\n",
              "</div>\n",
              "      <button class=\"colab-df-convert\" onclick=\"convertToInteractive('df-8c84daeb-1d1f-450f-abfb-e6e7bcc5b98e')\"\n",
              "              title=\"Convert this dataframe to an interactive table.\"\n",
              "              style=\"display:none;\">\n",
              "        \n",
              "  <svg xmlns=\"http://www.w3.org/2000/svg\" height=\"24px\"viewBox=\"0 0 24 24\"\n",
              "       width=\"24px\">\n",
              "    <path d=\"M0 0h24v24H0V0z\" fill=\"none\"/>\n",
              "    <path d=\"M18.56 5.44l.94 2.06.94-2.06 2.06-.94-2.06-.94-.94-2.06-.94 2.06-2.06.94zm-11 1L8.5 8.5l.94-2.06 2.06-.94-2.06-.94L8.5 2.5l-.94 2.06-2.06.94zm10 10l.94 2.06.94-2.06 2.06-.94-2.06-.94-.94-2.06-.94 2.06-2.06.94z\"/><path d=\"M17.41 7.96l-1.37-1.37c-.4-.4-.92-.59-1.43-.59-.52 0-1.04.2-1.43.59L10.3 9.45l-7.72 7.72c-.78.78-.78 2.05 0 2.83L4 21.41c.39.39.9.59 1.41.59.51 0 1.02-.2 1.41-.59l7.78-7.78 2.81-2.81c.8-.78.8-2.07 0-2.86zM5.41 20L4 18.59l7.72-7.72 1.47 1.35L5.41 20z\"/>\n",
              "  </svg>\n",
              "      </button>\n",
              "      \n",
              "  <style>\n",
              "    .colab-df-container {\n",
              "      display:flex;\n",
              "      flex-wrap:wrap;\n",
              "      gap: 12px;\n",
              "    }\n",
              "\n",
              "    .colab-df-convert {\n",
              "      background-color: #E8F0FE;\n",
              "      border: none;\n",
              "      border-radius: 50%;\n",
              "      cursor: pointer;\n",
              "      display: none;\n",
              "      fill: #1967D2;\n",
              "      height: 32px;\n",
              "      padding: 0 0 0 0;\n",
              "      width: 32px;\n",
              "    }\n",
              "\n",
              "    .colab-df-convert:hover {\n",
              "      background-color: #E2EBFA;\n",
              "      box-shadow: 0px 1px 2px rgba(60, 64, 67, 0.3), 0px 1px 3px 1px rgba(60, 64, 67, 0.15);\n",
              "      fill: #174EA6;\n",
              "    }\n",
              "\n",
              "    [theme=dark] .colab-df-convert {\n",
              "      background-color: #3B4455;\n",
              "      fill: #D2E3FC;\n",
              "    }\n",
              "\n",
              "    [theme=dark] .colab-df-convert:hover {\n",
              "      background-color: #434B5C;\n",
              "      box-shadow: 0px 1px 3px 1px rgba(0, 0, 0, 0.15);\n",
              "      filter: drop-shadow(0px 1px 2px rgba(0, 0, 0, 0.3));\n",
              "      fill: #FFFFFF;\n",
              "    }\n",
              "  </style>\n",
              "\n",
              "      <script>\n",
              "        const buttonEl =\n",
              "          document.querySelector('#df-8c84daeb-1d1f-450f-abfb-e6e7bcc5b98e button.colab-df-convert');\n",
              "        buttonEl.style.display =\n",
              "          google.colab.kernel.accessAllowed ? 'block' : 'none';\n",
              "\n",
              "        async function convertToInteractive(key) {\n",
              "          const element = document.querySelector('#df-8c84daeb-1d1f-450f-abfb-e6e7bcc5b98e');\n",
              "          const dataTable =\n",
              "            await google.colab.kernel.invokeFunction('convertToInteractive',\n",
              "                                                     [key], {});\n",
              "          if (!dataTable) return;\n",
              "\n",
              "          const docLinkHtml = 'Like what you see? Visit the ' +\n",
              "            '<a target=\"_blank\" href=https://colab.research.google.com/notebooks/data_table.ipynb>data table notebook</a>'\n",
              "            + ' to learn more about interactive tables.';\n",
              "          element.innerHTML = '';\n",
              "          dataTable['output_type'] = 'display_data';\n",
              "          await google.colab.output.renderOutput(dataTable, element);\n",
              "          const docLink = document.createElement('div');\n",
              "          docLink.innerHTML = docLinkHtml;\n",
              "          element.appendChild(docLink);\n",
              "        }\n",
              "      </script>\n",
              "    </div>\n",
              "  </div>\n",
              "  "
            ]
          },
          "metadata": {},
          "execution_count": 85
        }
      ],
      "source": [
        "categorized.set_index( ['category_title', 'subcategory_title'] )"
      ],
      "id": "845a6f30"
    },
    {
      "cell_type": "markdown",
      "metadata": {
        "id": "fbb78af7"
      },
      "source": [
        "### 환불 비율\n",
        "1. 전체 환불 비율\n",
        "2. 제일 환불 많이 하는 강의?"
      ],
      "id": "fbb78af7"
    },
    {
      "cell_type": "markdown",
      "metadata": {
        "id": "b3414de4"
      },
      "source": [
        "환불 인원 / 결제 완료 인원 * 100"
      ],
      "id": "b3414de4"
    },
    {
      "cell_type": "code",
      "execution_count": 86,
      "metadata": {
        "ExecuteTime": {
          "end_time": "2022-05-10T17:19:06.976762Z",
          "start_time": "2022-05-10T17:19:06.925764Z"
        },
        "colab": {
          "base_uri": "https://localhost:8080/"
        },
        "id": "7f20f5ae",
        "outputId": "da6f74ac-ad9d-489b-8683-bf6054b53a3c"
      },
      "outputs": [
        {
          "output_type": "stream",
          "name": "stdout",
          "text": [
            "3821\n",
            "52898\n",
            "\n",
            " 전체 환불 비율:  7.22 %\n"
          ]
        }
      ],
      "source": [
        "e = len(df[(df['type'] == 'REFUND') & (df['state'] == 'COMPLETED')]) # 환불 완료 인원\n",
        "f = len(df[(df['type'] == 'PAYMENT') & (df['state'] == 'COMPLETED')]) # 결제 완료 인원\n",
        "print(e)\n",
        "print(f)\n",
        "print()\n",
        "actual_payment = (e / f)*100\n",
        "print(f' 전체 환불 비율:  {round(actual_payment, 2)} %')"
      ],
      "id": "7f20f5ae"
    }
  ],
  "metadata": {
    "kernelspec": {
      "display_name": "Python 3",
      "language": "python",
      "name": "python3"
    },
    "language_info": {
      "codemirror_mode": {
        "name": "ipython",
        "version": 3
      },
      "file_extension": ".py",
      "mimetype": "text/x-python",
      "name": "python",
      "nbconvert_exporter": "python",
      "pygments_lexer": "ipython3",
      "version": "3.8.8"
    },
    "toc": {
      "base_numbering": 1,
      "nav_menu": {},
      "number_sections": true,
      "sideBar": true,
      "skip_h1_title": false,
      "title_cell": "Table of Contents",
      "title_sidebar": "Contents",
      "toc_cell": false,
      "toc_position": {
        "height": "calc(100% - 180px)",
        "left": "10px",
        "top": "150px",
        "width": "458.892px"
      },
      "toc_section_display": true,
      "toc_window_display": true
    },
    "colab": {
      "name": "EDA_ay.ipynb",
      "provenance": [],
      "collapsed_sections": [],
      "toc_visible": true,
      "include_colab_link": true
    }
  },
  "nbformat": 4,
  "nbformat_minor": 5
}