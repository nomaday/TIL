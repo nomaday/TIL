{
  "nbformat": 4,
  "nbformat_minor": 0,
  "metadata": {
    "colab": {
      "name": "220426_BOJ_02_조건문 & 03_반복문.ipynb",
      "provenance": [],
      "collapsed_sections": [
        "iwx15T_sK3hC"
      ],
      "toc_visible": true
    },
    "kernelspec": {
      "name": "python3",
      "display_name": "Python 3"
    },
    "language_info": {
      "name": "python"
    }
  },
  "cells": [
    {
      "cell_type": "markdown",
      "source": [
        "## [단계 2] 조건문 (4/26~) ▼"
      ],
      "metadata": {
        "id": "nnygjWOdNBwS"
      }
    },
    {
      "cell_type": "markdown",
      "source": [
        "##### No. 1330"
      ],
      "metadata": {
        "id": "BA8f0_NCNJW1"
      }
    },
    {
      "cell_type": "code",
      "source": [
        "a, b=input().split()\n",
        "a = int(a)\n",
        "b = int(b)\n",
        "\n",
        "if a - b > 0:\n",
        "    print('>')\n",
        "elif a - b == 0:\n",
        "    print('==')\n",
        "else :\n",
        "    print('<')"
      ],
      "metadata": {
        "id": "m85KipTdNJW3",
        "colab": {
          "base_uri": "https://localhost:8080/"
        },
        "outputId": "c59dee7e-6abb-4c0f-a660-5b208c719301"
      },
      "execution_count": null,
      "outputs": [
        {
          "output_type": "stream",
          "name": "stdout",
          "text": [
            "5 5\n",
            "==\n"
          ]
        }
      ]
    },
    {
      "cell_type": "markdown",
      "source": [
        "##### No. 9498#"
      ],
      "metadata": {
        "id": "kqN8LKq7NJW3"
      }
    },
    {
      "cell_type": "code",
      "source": [
        "x = int(input())\n",
        "\n",
        "if x >= 90 :\n",
        "    print('A')\n",
        "elif x >= 80:\n",
        "    print('B')\n",
        "elif x >= 70:\n",
        "    print('C')\n",
        "elif x >=60:\n",
        "    print('D')\n",
        "else :\n",
        "    print('F')"
      ],
      "metadata": {
        "id": "cU8Zx75fNJW4",
        "colab": {
          "base_uri": "https://localhost:8080/"
        },
        "outputId": "19765fae-f8c3-4a14-87a2-6cdc4904440b"
      },
      "execution_count": null,
      "outputs": [
        {
          "output_type": "stream",
          "name": "stdout",
          "text": [
            "100\n",
            "A\n"
          ]
        }
      ]
    },
    {
      "cell_type": "markdown",
      "source": [
        "##### No. 2753"
      ],
      "metadata": {
        "id": "bIwFR6TzNJW4"
      }
    },
    {
      "cell_type": "code",
      "source": [
        "y = int(input())\n",
        "if y % 4 == 0 and (y %100 != 0 or y%400 == 0) :\n",
        "    print (1)\n",
        "else:\n",
        "    print (0)"
      ],
      "metadata": {
        "id": "9TYvhDmJNJW4",
        "colab": {
          "base_uri": "https://localhost:8080/"
        },
        "outputId": "54b6d64a-f63a-475c-e81a-e2faf5a9003c"
      },
      "execution_count": null,
      "outputs": [
        {
          "output_type": "stream",
          "name": "stdout",
          "text": [
            "100\n",
            "0\n"
          ]
        }
      ]
    },
    {
      "cell_type": "markdown",
      "source": [
        "##### No. 14681"
      ],
      "metadata": {
        "id": "MafCC73bNJW4"
      }
    },
    {
      "cell_type": "code",
      "source": [
        "x = int(input())\n",
        "y = int(input())\n",
        "\n",
        "if x > 0 and y > 0 :\n",
        "    print(1)\n",
        "elif x < 0 and y > 0 :\n",
        "    print(2)\n",
        "elif x < 0 and y < 0 :\n",
        "    print(3)\n",
        "else :\n",
        "    print(4)"
      ],
      "metadata": {
        "id": "dJPIyyaMNJW4",
        "colab": {
          "base_uri": "https://localhost:8080/"
        },
        "outputId": "6942ba8d-8246-445a-c64a-34d3d1265d7b"
      },
      "execution_count": null,
      "outputs": [
        {
          "output_type": "stream",
          "name": "stdout",
          "text": [
            "9\n",
            "-13\n",
            "4\n"
          ]
        }
      ]
    },
    {
      "cell_type": "markdown",
      "source": [
        "##### No. 2884"
      ],
      "metadata": {
        "id": "90LjHIWwNJW4"
      }
    },
    {
      "cell_type": "code",
      "source": [
        "h, m = input().split()\n",
        "h = int(h)\n",
        "m = int(m)\n",
        "\n",
        "if m >= 45:\n",
        "    print(h, m-45)\n",
        "elif m < 45 and h >= 1 :\n",
        "    print(h-1, m+15)\n",
        "else :\n",
        "    print(h+23, m+15)"
      ],
      "metadata": {
        "id": "67xq-EVgNJW4",
        "colab": {
          "base_uri": "https://localhost:8080/"
        },
        "outputId": "c52115fb-2d9f-4bdc-fcc6-3f5c163e0dc0"
      },
      "execution_count": null,
      "outputs": [
        {
          "output_type": "stream",
          "name": "stdout",
          "text": [
            "0 25\n",
            "23 40\n"
          ]
        }
      ]
    },
    {
      "cell_type": "markdown",
      "source": [
        "##### No. 2525 **"
      ],
      "metadata": {
        "id": "gNeq8qKlNJW5"
      }
    },
    {
      "cell_type": "code",
      "source": [
        "a, b = input().split()\n",
        "a = int(a)\n",
        "b = int(b)\n",
        "c = int(input())\n",
        "\n",
        "if (a+((b+c)//60) <= 23) and (b+c > 60) :\n",
        "    print(a+(b+c)//60 , (b+c)%60)\n",
        "elif (a+(b+c)//60) > 23 and (b+c < 60) :\n",
        "    print(a-24+( (b+c)//60 ),  b+c)\n",
        "elif (a+(b+c)//60) > 23 and (b+c > 60) :\n",
        "    print(a-24+( (b+c)//60 ),  (b+c)%60)\n",
        "else :\n",
        "    print(a, b+c)"
      ],
      "metadata": {
        "id": "ld1dAsKXNJW5",
        "colab": {
          "base_uri": "https://localhost:8080/"
        },
        "outputId": "43741ea9-e7f1-4150-e98d-0879b5fdca4c"
      },
      "execution_count": null,
      "outputs": [
        {
          "output_type": "stream",
          "name": "stdout",
          "text": [
            "23 48\n",
            "25\n",
            "0 13\n"
          ]
        }
      ]
    },
    {
      "cell_type": "code",
      "source": [
        "H, M = map(int, input().split())\n",
        "timer = int(input()) \n",
        "\n",
        "H += timer // 60\n",
        "M += timer % 60\n",
        "\n",
        "if M >= 60:\n",
        "    H += 1\n",
        "    M -= 60\n",
        "if H >= 24:\n",
        "    H -= 24\n",
        "\n",
        "print(H,M)"
      ],
      "metadata": {
        "id": "PKpveyFreNwf"
      },
      "execution_count": null,
      "outputs": []
    },
    {
      "cell_type": "markdown",
      "source": [
        "##### No. 2480"
      ],
      "metadata": {
        "id": "uedfuXp6NJW5"
      }
    },
    {
      "cell_type": "code",
      "source": [
        "a, b, c = input().split()\n",
        "a = int(a)\n",
        "b = int(b)\n",
        "c = int(c)\n",
        "\n",
        "if a == b == c :\n",
        "    print( 10000+a*1000)\n",
        "elif a == b != c or  a== c != b :\n",
        "    print( 1000+(a*100) )\n",
        "elif a != b == c :\n",
        "    print( 1000+(b*100) )\n",
        "else :\n",
        "    i = max(a, b, c)\n",
        "    print(i*100)"
      ],
      "metadata": {
        "id": "pl_YQfLiNJW5",
        "colab": {
          "base_uri": "https://localhost:8080/"
        },
        "outputId": "b6bb2ba9-1d9d-499f-b4e8-4853d241ad66"
      },
      "execution_count": null,
      "outputs": [
        {
          "output_type": "stream",
          "name": "stdout",
          "text": [
            "6 2 5\n",
            "600\n"
          ]
        }
      ]
    },
    {
      "cell_type": "markdown",
      "source": [
        "## [단계 3] 반복문"
      ],
      "metadata": {
        "id": "s7JCKZhhNMH7"
      }
    },
    {
      "cell_type": "markdown",
      "source": [
        "##### No. 2739"
      ],
      "metadata": {
        "id": "chlZyRmqNMH8"
      }
    },
    {
      "cell_type": "code",
      "source": [
        "N = int(input())\n",
        "for i in range(1, 10) :\n",
        "    print(f'{N} * {i} = {N*i}')"
      ],
      "metadata": {
        "id": "y2HjkaxfNMH8",
        "colab": {
          "base_uri": "https://localhost:8080/"
        },
        "outputId": "0b775a54-e23c-4e4e-d8f0-b1e01b62e400"
      },
      "execution_count": null,
      "outputs": [
        {
          "output_type": "stream",
          "name": "stdout",
          "text": [
            "2\n",
            "2 * 1 = 2\n",
            "2 * 2 = 4\n",
            "2 * 3 = 6\n",
            "2 * 4 = 8\n",
            "2 * 5 = 10\n",
            "2 * 6 = 12\n",
            "2 * 7 = 14\n",
            "2 * 8 = 16\n",
            "2 * 9 = 18\n"
          ]
        }
      ]
    },
    {
      "cell_type": "markdown",
      "source": [
        "##### No. 10950"
      ],
      "metadata": {
        "id": "BcAZzeH7NMH8"
      }
    },
    {
      "cell_type": "code",
      "source": [
        "t = int(input())\n",
        "for t in range(1, t+1) :\n",
        "    a, b = input().split()\n",
        "    a = int(a)\n",
        "    b = int(b)\n",
        "    print(a+b)"
      ],
      "metadata": {
        "id": "KzpOS7eFNMH8",
        "colab": {
          "base_uri": "https://localhost:8080/"
        },
        "outputId": "8230f21a-45c8-411d-fcb5-1b7eec37ac13"
      },
      "execution_count": null,
      "outputs": [
        {
          "output_type": "stream",
          "name": "stdout",
          "text": [
            "5\n",
            "1 1\n",
            "2\n",
            "2 3\n",
            "5\n",
            "3 4\n",
            "7\n",
            "9 8\n",
            "17\n",
            "5 2\n",
            "7\n"
          ]
        }
      ]
    },
    {
      "cell_type": "markdown",
      "source": [
        "##### No. 8393 *"
      ],
      "metadata": {
        "id": "AMRsYkkoNJW5"
      }
    },
    {
      "cell_type": "code",
      "source": [
        "n = int(input())\n",
        "sum = 0\n",
        "for i in range (1, n+1):\n",
        "    sum = sum + i\n",
        "print(sum)"
      ],
      "metadata": {
        "id": "vMkeV1PvNJW5",
        "colab": {
          "base_uri": "https://localhost:8080/"
        },
        "outputId": "53a02c57-a9a2-4294-a1aa-d8c4b492e91c"
      },
      "execution_count": null,
      "outputs": [
        {
          "output_type": "stream",
          "name": "stdout",
          "text": [
            "5\n",
            "15\n"
          ]
        }
      ]
    },
    {
      "cell_type": "markdown",
      "source": [
        "`n과 i를 구분해서 써야함`"
      ],
      "metadata": {
        "id": "Zbz7Kqc_nXbt"
      }
    },
    {
      "cell_type": "markdown",
      "source": [
        "##### No. 15552 **"
      ],
      "metadata": {
        "id": "hBFhTmzYnSD3"
      }
    },
    {
      "cell_type": "markdown",
      "source": [
        "Python을 사용하고 있다면, input 대신 sys.stdin.readline을 사용할 수 있다. 단, 이때는 맨 끝의 개행문자까지 같이 입력받기 때문에 문자열을 저장하고 싶을 경우 .rstrip()을 추가로 해 주는 것이 좋다."
      ],
      "metadata": {
        "id": "NoVCsycbnt7c"
      }
    },
    {
      "cell_type": "code",
      "source": [
        "import sys # sys.stdin.readline() 사용 안됨\n",
        "T = int(input())\n",
        "for i in range(T) :\n",
        "    a, b = map(int, sys.stdin.read().split())\n",
        "    print(a+b)"
      ],
      "metadata": {
        "id": "yIyMHyzIqwFF",
        "colab": {
          "base_uri": "https://localhost:8080/",
          "height": 243
        },
        "outputId": "f837c0a0-54eb-4872-d3ae-a8117c3458cd"
      },
      "execution_count": null,
      "outputs": [
        {
          "name": "stdout",
          "output_type": "stream",
          "text": [
            "5\n"
          ]
        },
        {
          "output_type": "error",
          "ename": "ValueError",
          "evalue": "ignored",
          "traceback": [
            "\u001b[0;31m---------------------------------------------------------------------------\u001b[0m",
            "\u001b[0;31mValueError\u001b[0m                                Traceback (most recent call last)",
            "\u001b[0;32m<ipython-input-167-05e0122a01d2>\u001b[0m in \u001b[0;36m<module>\u001b[0;34m()\u001b[0m\n\u001b[1;32m      2\u001b[0m \u001b[0mT\u001b[0m \u001b[0;34m=\u001b[0m \u001b[0mint\u001b[0m\u001b[0;34m(\u001b[0m\u001b[0minput\u001b[0m\u001b[0;34m(\u001b[0m\u001b[0;34m)\u001b[0m\u001b[0;34m)\u001b[0m\u001b[0;34m\u001b[0m\u001b[0;34m\u001b[0m\u001b[0m\n\u001b[1;32m      3\u001b[0m \u001b[0;32mfor\u001b[0m \u001b[0mi\u001b[0m \u001b[0;32min\u001b[0m \u001b[0mrange\u001b[0m\u001b[0;34m(\u001b[0m\u001b[0mT\u001b[0m\u001b[0;34m)\u001b[0m \u001b[0;34m:\u001b[0m\u001b[0;34m\u001b[0m\u001b[0;34m\u001b[0m\u001b[0m\n\u001b[0;32m----> 4\u001b[0;31m     \u001b[0ma\u001b[0m\u001b[0;34m,\u001b[0m \u001b[0mb\u001b[0m \u001b[0;34m=\u001b[0m \u001b[0mmap\u001b[0m\u001b[0;34m(\u001b[0m\u001b[0mint\u001b[0m\u001b[0;34m,\u001b[0m \u001b[0msys\u001b[0m\u001b[0;34m.\u001b[0m\u001b[0mstdin\u001b[0m\u001b[0;34m.\u001b[0m\u001b[0mread\u001b[0m\u001b[0;34m(\u001b[0m\u001b[0;34m)\u001b[0m\u001b[0;34m.\u001b[0m\u001b[0msplit\u001b[0m\u001b[0;34m(\u001b[0m\u001b[0;34m)\u001b[0m\u001b[0;34m)\u001b[0m\u001b[0;34m\u001b[0m\u001b[0;34m\u001b[0m\u001b[0m\n\u001b[0m\u001b[1;32m      5\u001b[0m     \u001b[0mprint\u001b[0m\u001b[0;34m(\u001b[0m\u001b[0ma\u001b[0m\u001b[0;34m+\u001b[0m\u001b[0mb\u001b[0m\u001b[0;34m)\u001b[0m\u001b[0;34m\u001b[0m\u001b[0;34m\u001b[0m\u001b[0m\n",
            "\u001b[0;31mValueError\u001b[0m: not enough values to unpack (expected 2, got 0)"
          ]
        }
      ]
    },
    {
      "cell_type": "markdown",
      "source": [
        "##### No. 2741"
      ],
      "metadata": {
        "id": "kiUKHblnNJW6"
      }
    },
    {
      "cell_type": "code",
      "source": [
        "N = int(input())\n",
        "for a in range(1, N+1) :\n",
        "    print(a)"
      ],
      "metadata": {
        "id": "WtVXwI8-NJW6",
        "colab": {
          "base_uri": "https://localhost:8080/"
        },
        "outputId": "3c0cd7e2-f6c4-4e1b-e725-76c5fefbc0f7"
      },
      "execution_count": null,
      "outputs": [
        {
          "output_type": "stream",
          "name": "stdout",
          "text": [
            "5\n",
            "1\n",
            "2\n",
            "3\n",
            "4\n",
            "5\n"
          ]
        }
      ]
    },
    {
      "cell_type": "markdown",
      "source": [
        "##### No. 2742 *"
      ],
      "metadata": {
        "id": "0eYb2ihENJW6"
      }
    },
    {
      "cell_type": "code",
      "source": [
        "N = int(input())\n",
        "for a in range(N, 0, -1) :\n",
        "    print(a)"
      ],
      "metadata": {
        "id": "cBceoZ1yNJW6",
        "colab": {
          "base_uri": "https://localhost:8080/"
        },
        "outputId": "a8ee0320-a16d-4566-806f-f812c92f9fe3"
      },
      "execution_count": null,
      "outputs": [
        {
          "output_type": "stream",
          "name": "stdout",
          "text": [
            "5\n",
            "5\n",
            "4\n",
            "3\n",
            "2\n",
            "1\n"
          ]
        }
      ]
    },
    {
      "cell_type": "markdown",
      "source": [
        "> 거꾸로 할때는 N~0까지"
      ],
      "metadata": {
        "id": "N495lWDd34dx"
      }
    },
    {
      "cell_type": "markdown",
      "source": [
        "##### No. 11021"
      ],
      "metadata": {
        "id": "WYmjdEl7NMH8"
      }
    },
    {
      "cell_type": "code",
      "source": [
        "T = int(input())\n",
        "a,b = map(int, input().split())\n",
        "for i in range (1, T+1):\n",
        "    print(f'Case #{i}: {a+b}')"
      ],
      "metadata": {
        "id": "2kctQAZWNMH8",
        "colab": {
          "base_uri": "https://localhost:8080/"
        },
        "outputId": "130c87aa-7850-43db-88c4-fe28b7387e4c"
      },
      "execution_count": null,
      "outputs": [
        {
          "output_type": "stream",
          "name": "stdout",
          "text": [
            "5\n",
            "1 1\n",
            "Case #1: 2\n",
            "Case #2: 2\n",
            "Case #3: 2\n",
            "Case #4: 2\n",
            "Case #5: 2\n"
          ]
        }
      ]
    },
    {
      "cell_type": "code",
      "source": [
        "T = int(input())\n",
        "\n",
        "for i in range (1, T+1):\n",
        "    a,b = map(int, input().split())\n",
        "    print(f'Case #{i}: {a+b}')"
      ],
      "metadata": {
        "colab": {
          "base_uri": "https://localhost:8080/"
        },
        "id": "0-cMdjb54-Vq",
        "outputId": "2a3ec050-67bb-4139-8eda-e4d6eb6c73ad"
      },
      "execution_count": null,
      "outputs": [
        {
          "output_type": "stream",
          "name": "stdout",
          "text": [
            "5\n",
            "1 1\n",
            "Case #1: 2\n",
            "2 3\n",
            "Case #2: 5\n",
            "3 4\n",
            "Case #3: 7\n",
            "9 8\n",
            "Case #4: 17\n",
            "5 2\n",
            "Case #5: 7\n"
          ]
        }
      ]
    },
    {
      "cell_type": "markdown",
      "source": [
        "##### No. 11022"
      ],
      "metadata": {
        "id": "0Wkhn4l5NMH8"
      }
    },
    {
      "cell_type": "code",
      "source": [
        "T = int(input())\n",
        "\n",
        "for i in range (1, T+1):\n",
        "    a,b = map(int, input().split())\n",
        "    print(f'Case #{i}: {a} + {b} = {a+b}')"
      ],
      "metadata": {
        "id": "VPfpJ8oZNMH9",
        "colab": {
          "base_uri": "https://localhost:8080/"
        },
        "outputId": "b18ecf24-7701-43a9-b9c9-fc0cfddc02e6"
      },
      "execution_count": null,
      "outputs": [
        {
          "output_type": "stream",
          "name": "stdout",
          "text": [
            "5\n",
            "1 1\n",
            "Case #1: 1 + 1 = 2\n",
            "2 3\n",
            "Case #2: 2 + 3 = 5\n",
            "3 4\n",
            "Case #3: 3 + 4 = 7\n",
            "9 8\n",
            "Case #4: 9 + 8 = 17\n",
            "5 2\n",
            "Case #5: 5 + 2 = 7\n"
          ]
        }
      ]
    },
    {
      "cell_type": "markdown",
      "source": [
        "##### No. 2438"
      ],
      "metadata": {
        "id": "jvblAXNKNMH9"
      }
    },
    {
      "cell_type": "code",
      "source": [
        "N = int(input())\n",
        "for i in range(1, N+1) :\n",
        "    print('*'*i)"
      ],
      "metadata": {
        "id": "JAFmdnTqNMH9",
        "colab": {
          "base_uri": "https://localhost:8080/"
        },
        "outputId": "bd677ef6-88b6-493d-9ac5-024835f58872"
      },
      "execution_count": null,
      "outputs": [
        {
          "output_type": "stream",
          "name": "stdout",
          "text": [
            "5\n",
            "*\n",
            "**\n",
            "***\n",
            "****\n",
            "*****\n"
          ]
        }
      ]
    },
    {
      "cell_type": "markdown",
      "source": [
        "##### No. 2439 *"
      ],
      "metadata": {
        "id": "Ty0CMd_6NMH9"
      }
    },
    {
      "cell_type": "code",
      "source": [
        "# 출력 형식이 잘못되었습니다 뜸\n",
        "N = int(input())\n",
        "for i in range(1, N+1) :\n",
        "    s  = '*'*i\n",
        "    print(str(s).rjust(5))"
      ],
      "metadata": {
        "id": "qx6IEHpANMH9",
        "colab": {
          "base_uri": "https://localhost:8080/"
        },
        "outputId": "e232183c-0704-465d-c3e3-cf81812aa145"
      },
      "execution_count": null,
      "outputs": [
        {
          "output_type": "stream",
          "name": "stdout",
          "text": [
            "5\n",
            "    *\n",
            "   **\n",
            "  ***\n",
            " ****\n",
            "*****\n"
          ]
        }
      ]
    },
    {
      "cell_type": "markdown",
      "source": [
        "##### No. 10871 *"
      ],
      "metadata": {
        "id": "D041kiTmNMH9"
      }
    },
    {
      "cell_type": "code",
      "source": [
        "#수열A : 정수 N개 \n",
        "# 정수 X\n",
        "\n",
        "N, X = map(int, input().split())\n",
        "a = list(map(int, input().split()))\n",
        "for i in range(N) :\n",
        "    if a[i] < X :\n",
        "        print(a[i], end=\" \")"
      ],
      "metadata": {
        "id": "EoTDbiruNMH-",
        "colab": {
          "base_uri": "https://localhost:8080/"
        },
        "outputId": "2fc7519e-2311-4184-89a6-775832647b41"
      },
      "execution_count": null,
      "outputs": [
        {
          "output_type": "stream",
          "name": "stdout",
          "text": [
            "10 5\n",
            "1 10 4 9 2 3 8 5 7 6\n",
            "1 4 2 3 "
          ]
        }
      ]
    },
    {
      "cell_type": "markdown",
      "source": [
        "> 수열은 `list` 로 만들어준다.\n",
        "> 옆으로 이어서 쓸 때는 `print`에 `, end=\" \"`를 추가해줌"
      ],
      "metadata": {
        "id": "ws3yi2hmADSQ"
      }
    },
    {
      "cell_type": "markdown",
      "source": [
        "##### No. 10952 *"
      ],
      "metadata": {
        "id": "0CDECRnJNMH-"
      }
    },
    {
      "cell_type": "code",
      "source": [
        "# 런타임 에러(NameError)\n",
        "while True :\n",
        "    A, B = map(int, input().split())\n",
        "    if A == 0 and B == 0 :\n",
        "        break\n",
        "    else :\n",
        "        print(A+B)"
      ],
      "metadata": {
        "id": "KqQbpVSiNMH-",
        "colab": {
          "base_uri": "https://localhost:8080/"
        },
        "outputId": "72d05b7e-a1e8-4b1f-bd6f-da7b77113bd5"
      },
      "execution_count": null,
      "outputs": [
        {
          "name": "stdout",
          "output_type": "stream",
          "text": [
            "1 1\n",
            "2\n",
            "2 3\n",
            "5\n",
            "3 4\n",
            "7\n",
            "9 8\n",
            "17\n",
            "5 2\n",
            "7\n",
            "0 0\n"
          ]
        }
      ]
    },
    {
      "cell_type": "markdown",
      "source": [
        "> `while True :`  while 문 뒤에 True 오는 것"
      ],
      "metadata": {
        "id": "msK5BJ93F0HZ"
      }
    },
    {
      "cell_type": "markdown",
      "source": [
        "##### No. 10951 *"
      ],
      "metadata": {
        "id": "xWWEKAuNNMH-"
      }
    },
    {
      "cell_type": "code",
      "source": [
        "try:\n",
        "    while True:\n",
        "         a, b = map(int, input().split())\n",
        "         print(a+b)\n",
        "except:\n",
        "    exit()"
      ],
      "metadata": {
        "id": "yNLiPFwSNMH_",
        "colab": {
          "base_uri": "https://localhost:8080/"
        },
        "outputId": "58cc9f10-af67-4a69-d9ca-2c4ef5735776"
      },
      "execution_count": null,
      "outputs": [
        {
          "name": "stdout",
          "output_type": "stream",
          "text": [
            "1 1\n",
            "2\n",
            "2 3\n",
            "5\n",
            "3 4\n",
            "7\n",
            "9 8\n",
            "17\n",
            "5 2\n",
            "7\n",
            "\n"
          ]
        }
      ]
    },
    {
      "cell_type": "markdown",
      "source": [
        ">`while` 문을 쓸 때, `try:` 와 `except:` 에 대해서 몰랐음.\n",
        ">\n",
        ">멈추는 함수는 `exit()` 또는 `break`\n"
      ],
      "metadata": {
        "id": "-AyatxwYE0bW"
      }
    },
    {
      "cell_type": "markdown",
      "source": [
        "##### No. 1110 **"
      ],
      "metadata": {
        "id": "s9hFKcS5NMH_"
      }
    },
    {
      "cell_type": "code",
      "source": [
        "N = int(input())\n",
        "while True :\n",
        "    if N > 10 :\n",
        "        a = N//10\n",
        "        b = N%10\n",
        "        c = a+b\n",
        "        if c < 10 :\n",
        "            N1 = b*10+c\n",
        "        elif c > 10:\n",
        "            N1 = b*10+(c%10)\n",
        "    elif N1 == N :\n",
        "        break\n",
        "    elif N < 10 :\n",
        "        a = 0\n",
        "        b = N%10\n",
        "        c = a+b\n",
        "        if c < 10 :\n",
        "            N1 = b*10+c\n",
        "        elif c > 10:\n",
        "            N1 = b*10+(c%10)\n",
        "    elif N1 == N :\n",
        "        break\n",
        "print(cnt)"
      ],
      "metadata": {
        "id": "GcQ0Er2aNMH_",
        "colab": {
          "base_uri": "https://localhost:8080/",
          "height": 261
        },
        "outputId": "8a1560cb-dc51-4bd9-eb86-53fba3e532fa"
      },
      "execution_count": null,
      "outputs": [
        {
          "name": "stdout",
          "output_type": "stream",
          "text": [
            "26\n"
          ]
        },
        {
          "output_type": "error",
          "ename": "KeyboardInterrupt",
          "evalue": "ignored",
          "traceback": [
            "\u001b[0;31m---------------------------------------------------------------------------\u001b[0m",
            "\u001b[0;31mKeyboardInterrupt\u001b[0m                         Traceback (most recent call last)",
            "\u001b[0;32m<ipython-input-26-8bddaae74b4e>\u001b[0m in \u001b[0;36m<module>\u001b[0;34m()\u001b[0m\n\u001b[1;32m      6\u001b[0m         \u001b[0mc\u001b[0m \u001b[0;34m=\u001b[0m \u001b[0ma\u001b[0m\u001b[0;34m+\u001b[0m\u001b[0mb\u001b[0m\u001b[0;34m\u001b[0m\u001b[0;34m\u001b[0m\u001b[0m\n\u001b[1;32m      7\u001b[0m         \u001b[0;32mif\u001b[0m \u001b[0mc\u001b[0m \u001b[0;34m<\u001b[0m \u001b[0;36m10\u001b[0m \u001b[0;34m:\u001b[0m\u001b[0;34m\u001b[0m\u001b[0;34m\u001b[0m\u001b[0m\n\u001b[0;32m----> 8\u001b[0;31m             \u001b[0mN1\u001b[0m \u001b[0;34m=\u001b[0m \u001b[0mb\u001b[0m\u001b[0;34m*\u001b[0m\u001b[0;36m10\u001b[0m\u001b[0;34m+\u001b[0m\u001b[0mc\u001b[0m\u001b[0;34m\u001b[0m\u001b[0;34m\u001b[0m\u001b[0m\n\u001b[0m\u001b[1;32m      9\u001b[0m         \u001b[0;32melif\u001b[0m \u001b[0mc\u001b[0m \u001b[0;34m>\u001b[0m \u001b[0;36m10\u001b[0m\u001b[0;34m:\u001b[0m\u001b[0;34m\u001b[0m\u001b[0;34m\u001b[0m\u001b[0m\n\u001b[1;32m     10\u001b[0m             \u001b[0mN1\u001b[0m \u001b[0;34m=\u001b[0m \u001b[0mb\u001b[0m\u001b[0;34m*\u001b[0m\u001b[0;36m10\u001b[0m\u001b[0;34m+\u001b[0m\u001b[0;34m(\u001b[0m\u001b[0mc\u001b[0m\u001b[0;34m%\u001b[0m\u001b[0;36m10\u001b[0m\u001b[0;34m)\u001b[0m\u001b[0;34m\u001b[0m\u001b[0;34m\u001b[0m\u001b[0m\n",
            "\u001b[0;31mKeyboardInterrupt\u001b[0m: "
          ]
        }
      ]
    },
    {
      "cell_type": "code",
      "source": [
        "N = int(input())\n",
        "num = N\n",
        "cnt = 0       # 이걸 지정해줬어야 함\n",
        "\n",
        "while True :\n",
        "    a = N//10\n",
        "    b = N%10\n",
        "    c = (a+b)%10\n",
        "    num = (b*10)+c\n",
        "    cnt += 1\n",
        "    if(num == N) :\n",
        "        break\n",
        "print(cnt)"
      ],
      "metadata": {
        "colab": {
          "base_uri": "https://localhost:8080/",
          "height": 261
        },
        "id": "L_XetRdJPkQ7",
        "outputId": "7a6b2e65-6988-4e0a-e4d3-c3fb6ede1496"
      },
      "execution_count": null,
      "outputs": [
        {
          "name": "stdout",
          "output_type": "stream",
          "text": [
            "26\n"
          ]
        },
        {
          "output_type": "error",
          "ename": "KeyboardInterrupt",
          "evalue": "ignored",
          "traceback": [
            "\u001b[0;31m---------------------------------------------------------------------------\u001b[0m",
            "\u001b[0;31mKeyboardInterrupt\u001b[0m                         Traceback (most recent call last)",
            "\u001b[0;32m<ipython-input-32-db8402348292>\u001b[0m in \u001b[0;36m<module>\u001b[0;34m()\u001b[0m\n\u001b[1;32m      5\u001b[0m \u001b[0;32mwhile\u001b[0m \u001b[0;32mTrue\u001b[0m \u001b[0;34m:\u001b[0m\u001b[0;34m\u001b[0m\u001b[0;34m\u001b[0m\u001b[0m\n\u001b[1;32m      6\u001b[0m     \u001b[0ma\u001b[0m \u001b[0;34m=\u001b[0m \u001b[0mN\u001b[0m\u001b[0;34m//\u001b[0m\u001b[0;36m10\u001b[0m\u001b[0;34m\u001b[0m\u001b[0;34m\u001b[0m\u001b[0m\n\u001b[0;32m----> 7\u001b[0;31m     \u001b[0mb\u001b[0m \u001b[0;34m=\u001b[0m \u001b[0mN\u001b[0m\u001b[0;34m%\u001b[0m\u001b[0;36m10\u001b[0m\u001b[0;34m\u001b[0m\u001b[0;34m\u001b[0m\u001b[0m\n\u001b[0m\u001b[1;32m      8\u001b[0m     \u001b[0mc\u001b[0m \u001b[0;34m=\u001b[0m \u001b[0;34m(\u001b[0m\u001b[0ma\u001b[0m\u001b[0;34m+\u001b[0m\u001b[0mb\u001b[0m\u001b[0;34m)\u001b[0m\u001b[0;34m%\u001b[0m\u001b[0;36m10\u001b[0m\u001b[0;34m\u001b[0m\u001b[0;34m\u001b[0m\u001b[0m\n\u001b[1;32m      9\u001b[0m     \u001b[0mnum\u001b[0m \u001b[0;34m=\u001b[0m \u001b[0;34m(\u001b[0m\u001b[0mb\u001b[0m\u001b[0;34m*\u001b[0m\u001b[0;36m10\u001b[0m\u001b[0;34m)\u001b[0m\u001b[0;34m+\u001b[0m\u001b[0mc\u001b[0m\u001b[0;34m\u001b[0m\u001b[0;34m\u001b[0m\u001b[0m\n",
            "\u001b[0;31mKeyboardInterrupt\u001b[0m: "
          ]
        }
      ]
    }
  ]
}
