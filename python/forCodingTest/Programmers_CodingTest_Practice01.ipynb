{
  "nbformat": 4,
  "nbformat_minor": 0,
  "metadata": {
    "colab": {
      "name": "Programmers_CodingTest_Practice01.ipynb",
      "provenance": [],
      "collapsed_sections": [
        "bf51xpuGgdps"
      ],
      "toc_visible": true
    },
    "kernelspec": {
      "name": "python3",
      "display_name": "Python 3"
    },
    "language_info": {
      "name": "python"
    },
    "accelerator": "GPU"
  },
  "cells": [
    {
      "cell_type": "markdown",
      "source": [
        "# 프로그래머스 코딩테스트 연습"
      ],
      "metadata": {
        "id": "OEoAggZVmNKo"
      }
    },
    {
      "cell_type": "markdown",
      "source": [
        "# [문제] Lv.1 신고 결과 받기\n",
        "https://programmers.co.kr/learn/courses/30/lessons/92334?language=python3"
      ],
      "metadata": {
        "id": "44PChU8kfYhW"
      }
    },
    {
      "cell_type": "markdown",
      "source": [
        "## 문제 설명"
      ],
      "metadata": {
        "id": "bf51xpuGgdps"
      }
    },
    {
      "cell_type": "code",
      "execution_count": null,
      "metadata": {
        "id": "bg2ThzQpmC9y"
      },
      "outputs": [],
      "source": [
        "다음은 전체 유저 목록이 [\"muzi\", \"frodo\", \"apeach\", \"neo\"]이고, k = 2(즉, 2번 이상 신고당하면 이용 정지)인 경우의 예시입니다.\n",
        "\n",
        "유저 ID\t유저가 신고한 ID\t설명\n",
        "\"muzi\"\t\"frodo\"\t\"muzi\"가 \"frodo\"를 신고했습니다.\n",
        "\"apeach\"\t\"frodo\"\t\"apeach\"가 \"frodo\"를 신고했습니다.\n",
        "\"frodo\"\t\"neo\"\t\"frodo\"가 \"neo\"를 신고했습니다.\n",
        "\"muzi\"\t\"neo\"\t\"muzi\"가 \"neo\"를 신고했습니다.\n",
        "\"apeach\"\t\"muzi\"\t\"apeach\"가 \"muzi\"를 신고했습니다."
      ]
    },
    {
      "cell_type": "code",
      "source": [
        "각 유저별로 신고당한 횟수는 다음과 같습니다.\n",
        "\n",
        "유저 ID\t신고당한 횟수\n",
        "\"muzi\"\t1\n",
        "\"frodo\"\t2\n",
        "\"apeach\"\t0\n",
        "\"neo\"\t2"
      ],
      "metadata": {
        "id": "SCNJTpmummMD"
      },
      "execution_count": null,
      "outputs": []
    },
    {
      "cell_type": "code",
      "source": [
        "위 예시에서는 2번 이상 신고당한 \"frodo\"와 \"neo\"의 게시판 이용이 정지됩니다. 이때, 각 유저별로 신고한 아이디와 정지된 아이디를 정리하면 다음과 같습니다.\n",
        "\n",
        "유저 ID\t유저가 신고한 ID\t정지된 ID\n",
        "\"muzi\"\t[\"frodo\", \"neo\"]\t[\"frodo\", \"neo\"]\n",
        "\"frodo\"\t[\"neo\"]\t[\"neo\"]\n",
        "\"apeach\"\t[\"muzi\", \"frodo\"]\t[\"frodo\"]\n",
        "\"neo\"\t없음\t없음\n",
        "\n",
        "따라서 \"muzi\"는 처리 결과 메일을 2회, \"frodo\"와 \"apeach\"는 각각 처리 결과 메일을 1회 받게 됩니다."
      ],
      "metadata": {
        "id": "HQmmxBQImmXo"
      },
      "execution_count": null,
      "outputs": []
    },
    {
      "cell_type": "markdown",
      "source": [
        "이용자의 ID가 담긴 문자열 배열 `id_list`, 각 이용자가 신고한 이용자의 ID 정보가 담긴 문자열 배열 `report`, \n",
        "정지 기준이 되는 신고 횟수 `k`가 매개변수로 주어질 때, 각 유저별로 처리 결과 메일을 받은 횟수를 배열에 담아 return 하도록 solution 함수를 완성해주세요."
      ],
      "metadata": {
        "id": "BWE5YzP9nFbd"
      }
    },
    {
      "cell_type": "markdown",
      "source": [
        "제한사항\n",
        "- 2 ≤ `id_list`의 길이 ≤ 1,000\n",
        "    - 1 ≤ `id_list`의 원소 길이 ≤ 10\n",
        "    - `id_list`의 원소는 이용자의 id를 나타내는 문자열이며 알파벳 소문자로만 이루어져 있습니다.\n",
        "    - `id_list`에는 같은 아이디가 중복해서 들어있지 않습니다.\n",
        "- 1 ≤ `report`의 길이 ≤ 200,000\n",
        "    - 3 ≤ `report`의 원소 길이 ≤ 21\n",
        "    - `report`의 원소는 \"이용자id 신고한id\"형태의 문자열입니다.\n",
        "    - 예를 들어 \"muzi frodo\"의 경우 \"muzi\"가 \"frodo\"를 신고했다는 의미입니다.\n",
        "    - id는 알파벳 소문자로만 이루어져 있습니다.\n",
        "    - 이용자id와 신고한id는 공백(스페이스)하나로 구분되어 있습니다.\n",
        "    - 자기 자신을 신고하는 경우는 없습니다.\n",
        "- 1 ≤ `k` ≤ 200, `k`는 자연수입니다.\n",
        "- return 하는 배열은 `id_list`에 담긴 id 순서대로 각 유저가 받은 결과 메일 수를 담으면 됩니다.  <br>\n",
        "\n",
        "입출력 예  \n",
        "![image.png](data:image/png;base64,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)\n",
        "\n",
        "\n",
        "\n",
        "입출력 예 설명  \n",
        "\n",
        "**입출력 예 #1**  \n",
        "\n",
        "문제의 예시와 같습니다.\n",
        "\n",
        "\n",
        "**입출력 예 #2**  \n",
        "\n",
        "\"ryan\"이 \"con\"을 4번 신고했으나, 주어진 조건에 따라 한 유저가 같은 유저를 여러 번 신고한 경우는 신고 횟수 1회로 처리합니다. 따라서 \"con\"은 1회 신고당했습니다. 3번 이상 신고당한 이용자는 없으며, \"con\"과 \"ryan\"은 결과 메일을 받지 않습니다. 따라서 [0, 0]을 return 합니다."
      ],
      "metadata": {
        "id": "YJ76HWwInM0I"
      }
    },
    {
      "cell_type": "markdown",
      "source": [
        "## 나의 제출 답안"
      ],
      "metadata": {
        "id": "R_7zkvFBf2Bd"
      }
    },
    {
      "cell_type": "code",
      "source": [
        "id_list\t= [\"con\", \"ryan\"]\t\n",
        "report = [\"ryan con\", \"ryan con\", \"ryan con\", \"ryan con\"]\t\n",
        "k=3\n",
        "\n",
        "def solution(id_list, report, k):\n",
        "    report = set(report)\n",
        "    total_reported = []\n",
        "    stopped_id = []\n",
        "    notify = []\n",
        "    answer = []\n",
        "    \n",
        "    for user_report in report:\n",
        "        user = user_report.split()[0]\n",
        "        reported_id = user_report.split()[1]\n",
        "        total_reported.append(reported_id)\n",
        "\n",
        "    for id in id_list:\n",
        "        cnt = total_reported.count(id)\n",
        "        if cnt >= k:\n",
        "            stopped_id.append(id)\n",
        "\n",
        "    for user_report in report:\n",
        "        user = user_report.split()[0]\n",
        "        reported_id = user_report.split()[1]\n",
        "        if reported_id in stopped_id:\n",
        "            notify.append(user)\n",
        "\n",
        "    for id in id_list:\n",
        "        cnt_nt = notify.count(id)\n",
        "        answer.append(cnt_nt)\n",
        "    \n",
        "    return answer\n",
        "\n",
        "print(answer)"
      ],
      "metadata": {
        "colab": {
          "base_uri": "https://localhost:8080/"
        },
        "id": "HwwNh_CXeIC1",
        "outputId": "1db1f324-9a0d-4e04-dabf-8d0183b2390b"
      },
      "execution_count": 96,
      "outputs": [
        {
          "output_type": "stream",
          "name": "stdout",
          "text": [
            "[0, 0]\n"
          ]
        }
      ]
    },
    {
      "cell_type": "markdown",
      "source": [
        "## 나의 풀이 과정"
      ],
      "metadata": {
        "id": "xk4xnOCRfkRP"
      }
    },
    {
      "cell_type": "code",
      "source": [
        "def solution(id_list, report, k):\n",
        "    answer = []\n",
        "    return answer"
      ],
      "metadata": {
        "id": "hcg91OgbmU45"
      },
      "execution_count": null,
      "outputs": []
    },
    {
      "cell_type": "code",
      "source": [
        "report = [a b], [a,b]  [a,b] 이렇게 중복인거는 1번만 쳐줌\n",
        "report[1] = (신고된id) 갯수 카운트 = 몇개인지?  -> k와 비교\n",
        "report[1]  # report의 2번째 요소가 k번 이상 (중복으로)나오면 그 요소(신고된id)는 게시판 이용 정지\n",
        "    이때 report[0]인 요소(신고한 이용자id)에게 정지사실 메일 발송됨\n",
        "    report[0]이 메일 받은 횟수를 answer에 넣어라"
      ],
      "metadata": {
        "id": "wi70SNIDmmj5"
      },
      "execution_count": null,
      "outputs": []
    },
    {
      "cell_type": "code",
      "source": [
        "id_list\t= [\"muzi\", \"frodo\", \"apeach\", \"neo\"]\n",
        "report = [\"muzi frodo\",\"apeach frodo\",\"frodo neo\",\"muzi neo\",\"apeach muzi\"]\n",
        "k = 2   #정 지 기준 신고 횟수\n",
        "# result = [2,1,1,0] = answer = 각 유저별로 처리 결과 메일을 받은 횟수"
      ],
      "metadata": {
        "id": "KiQX218mHHl7"
      },
      "execution_count": null,
      "outputs": []
    },
    {
      "cell_type": "code",
      "source": [
        "abc = [\"muzi frodo\", \"muzi frodo\"]\n",
        "abc = set(abc)\n",
        "abc"
      ],
      "metadata": {
        "colab": {
          "base_uri": "https://localhost:8080/"
        },
        "id": "SZsJwKy5KEKS",
        "outputId": "c701e910-e05c-4f39-cfb1-54869be65970"
      },
      "execution_count": 45,
      "outputs": [
        {
          "output_type": "execute_result",
          "data": {
            "text/plain": [
              "{'muzi frodo'}"
            ]
          },
          "metadata": {},
          "execution_count": 45
        }
      ]
    },
    {
      "cell_type": "code",
      "source": [
        "user_report = \"muzi frodo\"\n",
        "user = user_report.split()[0]\n",
        "print(user)\n",
        "reported_id = user_report.split()[1]\n",
        "print(reported_id)"
      ],
      "metadata": {
        "colab": {
          "base_uri": "https://localhost:8080/"
        },
        "id": "vyrSF16gIBRc",
        "outputId": "64010d88-95be-4182-f74b-d2654c855ad0"
      },
      "execution_count": 10,
      "outputs": [
        {
          "output_type": "stream",
          "name": "stdout",
          "text": [
            "muzi\n",
            "frodo\n"
          ]
        }
      ]
    },
    {
      "cell_type": "code",
      "source": [
        "게시판 이용 정지 계정: ['frodo', 'neo']\n",
        "-> 정지계정을 신고한 아이디를 찾자\n",
        "\n",
        "report에서 공백 뒤가 == 정지된 id (stopped_id의 요소) 를 포함하는 요소를 찾고(user_stop)\n",
        "그 요소의 공백 앞 글자 를\n",
        "notify = [] 에 추가한다.\n",
        "notify 리스트의 각 요소별 개수를 세\n",
        "\n",
        "id_list 순서로 결과 리스트 나와야함\n",
        "\n",
        "메일 받은 횟수를 answer에 넣어라"
      ],
      "metadata": {
        "id": "AhejrfOyNgu-"
      },
      "execution_count": null,
      "outputs": []
    },
    {
      "cell_type": "code",
      "source": [
        "id_list\t= [\"muzi\", \"frodo\", \"apeach\", \"neo\"]\n",
        "report = [\"muzi frodo\",\"apeach frodo\",\"frodo neo\",\"muzi neo\",\"apeach muzi\"]\n",
        "k=2\n",
        "\n",
        "report = set(report)   # \"신고자 피신고자\" 짝은 1회만 인정됨\n",
        "total_reported = []\n",
        "stopped_id = []\n",
        "notify = []\n",
        "answer = []\n",
        " \n",
        "for user_report in report:\n",
        "    user = user_report.split()[0]\n",
        "    reported_id = user_report.split()[1]\n",
        "    total_reported.append(reported_id)\n",
        "\n",
        "for id in id_list:\n",
        "    cnt = total_reported.count(id)\n",
        "    print(f'{id}:', cnt,'번 신고당했습니다.')\n",
        "    if cnt >= k:\n",
        "        print(f'\\n{id}님은 게시판 이용이 정지되었습니다.\\n')\n",
        "        stopped_id.append(id)\n",
        "        print(f'게시판 이용 정지 계정:', stopped_id)\n",
        "\n",
        "for user_report in report:\n",
        "    user = user_report.split()[0]\n",
        "    reported_id = user_report.split()[1]\n",
        "    if reported_id in stopped_id:\n",
        "        print(f'신고 결과 안내: {user}님이 신고하신 {reported_id}의 게시판 이용이 정지되었습니다')\n",
        "        notify.append(user)\n",
        "\n",
        "for id in id_list:\n",
        "    cnt_nt = notify.count(id)\n",
        "    answer.append(cnt_nt)\n",
        "\n",
        "    \n",
        "print(total_reported)\n",
        "print(stopped_id)\n",
        "print(notify)\n",
        "print(answer)"
      ],
      "metadata": {
        "colab": {
          "base_uri": "https://localhost:8080/"
        },
        "id": "XuAtQSO_IFwW",
        "outputId": "72239dbb-a5c0-4ecd-b25e-a2377aedd46a"
      },
      "execution_count": 59,
      "outputs": [
        {
          "output_type": "stream",
          "name": "stdout",
          "text": [
            "muzi: 1 번 신고당했습니다.\n",
            "frodo: 2 번 신고당했습니다.\n",
            "\n",
            "frodo님은 게시판 이용이 정지되었습니다.\n",
            "\n",
            "게시판 이용 정지 계정: ['frodo']\n",
            "apeach: 0 번 신고당했습니다.\n",
            "neo: 2 번 신고당했습니다.\n",
            "\n",
            "neo님은 게시판 이용이 정지되었습니다.\n",
            "\n",
            "게시판 이용 정지 계정: ['frodo', 'neo']\n",
            "신고 결과 안내: muzi님이 신고하신 frodo의 게시판 이용이 정지되었습니다\n",
            "신고 결과 안내: muzi님이 신고하신 neo의 게시판 이용이 정지되었습니다\n",
            "신고 결과 안내: apeach님이 신고하신 frodo의 게시판 이용이 정지되었습니다\n",
            "신고 결과 안내: frodo님이 신고하신 neo의 게시판 이용이 정지되었습니다\n",
            "['frodo', 'muzi', 'neo', 'frodo', 'neo']\n",
            "['frodo', 'neo']\n",
            "['muzi', 'muzi', 'apeach', 'frodo']\n",
            "[2, 1, 1, 0]\n"
          ]
        }
      ]
    },
    {
      "cell_type": "code",
      "source": [
        "id_list\t= [\"con\", \"ryan\"]\t\n",
        "report = [\"ryan con\", \"ryan con\", \"ryan con\", \"ryan con\"]\t\n",
        "k=3\n",
        "\n",
        "report = set(report)\n",
        "total_reported = []\n",
        "stopped_id = []\n",
        "notify = []\n",
        "answer = []\n",
        " \n",
        "for user_report in report:\n",
        "    user = user_report.split()[0]\n",
        "    reported_id = user_report.split()[1]\n",
        "    total_reported.append(reported_id)\n",
        "\n",
        "for id in id_list:\n",
        "    cnt = total_reported.count(id)\n",
        "    print(f'{id}:', cnt,'번 신고당했습니다.')\n",
        "    if cnt >= k:\n",
        "        print(f'\\n{id}님은 게시판 이용이 정지되었습니다.\\n')\n",
        "        stopped_id.append(id)\n",
        "        print(f'게시판 이용 정지 계정:', stopped_id)\n",
        "\n",
        "for user_report in report:\n",
        "    user = user_report.split()[0]\n",
        "    reported_id = user_report.split()[1]\n",
        "    if reported_id in stopped_id:\n",
        "        print(f'신고 결과 안내: {user}님이 신고하신 {reported_id}의 게시판 이용이 정지되었습니다')\n",
        "        notify.append(user)\n",
        "\n",
        "for id in id_list:\n",
        "    cnt_nt = notify.count(id)\n",
        "    answer.append(cnt_nt)\n",
        "\n",
        "    \n",
        "print(total_reported)\n",
        "print(stopped_id)\n",
        "print(notify)\n",
        "print(answer)"
      ],
      "metadata": {
        "colab": {
          "base_uri": "https://localhost:8080/"
        },
        "id": "oIQv6uH3Zs7D",
        "outputId": "6a815c23-7e02-40de-a701-79938ea07a85"
      },
      "execution_count": 63,
      "outputs": [
        {
          "output_type": "stream",
          "name": "stdout",
          "text": [
            "muzi: 1 번 신고당했습니다.\n",
            "frodo: 2 번 신고당했습니다.\n",
            "\n",
            "frodo님은 게시판 이용이 정지되었습니다.\n",
            "\n",
            "게시판 이용 정지 계정: ['frodo']\n",
            "apeach: 0 번 신고당했습니다.\n",
            "neo: 2 번 신고당했습니다.\n",
            "\n",
            "neo님은 게시판 이용이 정지되었습니다.\n",
            "\n",
            "게시판 이용 정지 계정: ['frodo', 'neo']\n",
            "신고 결과 안내: muzi님이 신고하신 frodo의 게시판 이용이 정지되었습니다\n",
            "신고 결과 안내: muzi님이 신고하신 neo의 게시판 이용이 정지되었습니다\n",
            "신고 결과 안내: apeach님이 신고하신 frodo의 게시판 이용이 정지되었습니다\n",
            "신고 결과 안내: frodo님이 신고하신 neo의 게시판 이용이 정지되었습니다\n",
            "['frodo', 'muzi', 'neo', 'frodo', 'neo']\n",
            "['frodo', 'neo']\n",
            "['muzi', 'muzi', 'apeach', 'frodo']\n",
            "[2, 1, 1, 0]\n"
          ]
        }
      ]
    }
  ]
}