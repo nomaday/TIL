{
  "nbformat": 4,
  "nbformat_minor": 0,
  "metadata": {
    "colab": {
      "name": "Programmers_CodingTest_Practice03.ipynb",
      "provenance": [],
      "collapsed_sections": [
        "OEoAggZVmNKo"
      ],
      "toc_visible": true
    },
    "kernelspec": {
      "name": "python3",
      "display_name": "Python 3"
    },
    "language_info": {
      "name": "python"
    },
    "accelerator": "GPU"
  },
  "cells": [
    {
      "cell_type": "markdown",
      "source": [
        "# 프로그래머스 코딩테스트 연습"
      ],
      "metadata": {
        "id": "OEoAggZVmNKo"
      }
    },
    {
      "cell_type": "markdown",
      "source": [
        "# [문제] Lv.1 신규 아이디 추천\n",
        "https://programmers.co.kr/learn/courses/30/lessons/72410"
      ],
      "metadata": {
        "id": "44PChU8kfYhW"
      }
    },
    {
      "cell_type": "markdown",
      "source": [
        "## 제출 답안"
      ],
      "metadata": {
        "id": "R_7zkvFBf2Bd"
      }
    },
    {
      "cell_type": "code",
      "source": [
        "def solution(new_id):\n",
        "    import re\n",
        "    id = new_id.lower()\n",
        "\n",
        "\n",
        "    p = re.compile('[a-z0-9_.-]')\n",
        "    m = p.findall(id)\n",
        "    id_2 = \"\".join(m)\n",
        "\n",
        "\n",
        "    pattern = \"[.]+\"\n",
        "    replace = \".\"\n",
        "    id_3 = re.sub(pattern, replace, id_2)\n",
        "\n",
        "\n",
        "    if id_3.startswith('.') & id_3.endswith('.'):\n",
        "        id_4 = id_3[1:-1]\n",
        "    elif id_3.startswith('.'):\n",
        "        id_4 = id_3[1:]\n",
        "    elif id_3.endswith('.'):\n",
        "        id_4 = id_3[:-1]\n",
        "    else:\n",
        "        id_4 = id_3\n",
        "\n",
        "\n",
        "    if len(id_4) == 0:\n",
        "        id_5 = 'a'\n",
        "    elif len(id_4) != 0:\n",
        "        id_5 = id_4\n",
        "\n",
        "\n",
        "    if len(id_5) >= 16:\n",
        "        id_6 = id_5[:15]\n",
        "        if id_6.endswith('.'):\n",
        "            id_6 = id_6[:-1]\n",
        "    else:\n",
        "        id_6 = id_5\n",
        "\n",
        "\n",
        "    if len(id_6) <= 2:\n",
        "        last = id_6[-1]\n",
        "        id_7 = id_6 + (last*2)\n",
        "        if len(id_7) > 3:\n",
        "            id_7 = id_7[:3]\n",
        "    else:\n",
        "        id_7 = id_6\n",
        "    \n",
        "    answer = id_7\n",
        "    return answer"
      ],
      "metadata": {
        "id": "9iNynoJsSHmf"
      },
      "execution_count": null,
      "outputs": []
    },
    {
      "cell_type": "markdown",
      "source": [
        "## 풀이 과정"
      ],
      "metadata": {
        "id": "xk4xnOCRfkRP"
      }
    },
    {
      "cell_type": "markdown",
      "source": [
        "네오 - 카카오 서비스에 가입하는 유저들의 아이디를 생성하는 업무를 담당\n",
        "\n",
        "→ 새로 가입하는 유저들이 카카오 아이디 규칙에 맞지 않는 아이디를 입력했을 때, 입력된 아이디와 유사하면서 규칙에 맞는 아이디를 추천해주는 프로그램 개발\n",
        "\n",
        "- 아이디의 길이는 3자 이상 15자 이하여야 합니다.\n",
        "- 아이디는 알파벳 소문자, 숫자, 빼기(`-`), 밑줄(`_`), 마침표(`.`) 문자만 사용할 수 있습니다.\n",
        "- 단, 마침표(`.`)는 처음과 끝에 사용할 수 없으며 또한 연속으로 사용할 수 없습니다.\n",
        "<br><br>\n",
        "\n",
        "*7단계의 순차적인 처리 과정*\n",
        "> 신규 유저 입력: `new_id`\n",
        "\n",
        "- 1단계 new_id의 모든 대문자를 대응되는 소문자로 치환합니다.\n",
        "- 2단계 new_id에서 알파벳 소문자, 숫자, 빼기(-), 밑줄(_), 마침표(.)를 제외한 모든 문자를 제거합니다.\n",
        "- 3단계 new_id에서 마침표(.)가 2번 이상 연속된 부분을 하나의 마침표(.)로 치환합니다.\n",
        "- 4단계 new_id에서 마침표(.)가 처음이나 끝에 위치한다면 제거합니다.\n",
        "- 5단계 new_id가 빈 문자열이라면, new_id에 \"a\"를 대입합니다.\n",
        "- 6단계 new_id의 길이가 16자 이상이면, new_id의 첫 15개의 문자를 제외한 나머지 문자들을 모두 제거합니다.\n",
        "     만약 제거 후 마침표(.)가 new_id의 끝에 위치한다면 끝에 위치한 마침표(.) 문자를 제거합니다.\n",
        "- 7단계 new_id의 길이가 2자 이하라면, new_id의 마지막 문자를 new_id의 길이가 3이 될 때까지 반복해서 끝에 붙입니다.\n"
      ],
      "metadata": {
        "id": "mkutdUyfUzFr"
      }
    },
    {
      "cell_type": "code",
      "source": [
        "new_id = \"=.=\"\n",
        "import re\n",
        "#step 1 new_id의 모든 대문자를 대응되는 소문자로 치환\n",
        "id = new_id.lower()\n",
        "print(id)\n",
        "\n",
        "#step 2 알파벳 소문자, 숫자, 빼기(-), 밑줄(_), 마침표(.)를 제외한 모든 문자를 제거\n",
        "p = re.compile('[a-z0-9_.-]')\n",
        "m = p.findall(id)\n",
        "id_2 = \"\".join(m)\n",
        "print(id_2)\n",
        "\n",
        "#step 3 마침표(.)가 2번 이상 연속된 부분을 하나의 마침표(.)로 치환\n",
        "pattern = \"[.]+\"\n",
        "replace = \".\"\n",
        "\n",
        "id_3 = re.sub(pattern, replace, id_2)\n",
        "print(id_3)\n",
        "\n",
        "#step 4 마침표(.)가 처음이나 끝에 위치한다면 제거\n",
        "if id_3.startswith('.') & id_3.endswith('.'):\n",
        "    id_4 = id_3[1:-1]\n",
        "elif id_3.startswith('.'):\n",
        "    id_4 = id_3[1:]\n",
        "elif id_3.endswith('.'):\n",
        "    id_4 = id_3[:-1]\n",
        "else:\n",
        "    id_4 = id_3\n",
        "print(id_4)\n",
        "\n",
        "#step 5 빈 문자열이라면, new_id에 \"a\"를 대입\n",
        "if len(id_4) == 0:\n",
        "    id_5 = 'a'\n",
        "elif len(id_4) != 0:\n",
        "    id_5 = id_4\n",
        "print(id_5)\n",
        "\n",
        "#step 6 길이가 16자 이상이면, new_id의 첫 15개의 문자를 제외한 나머지 문자들을 모두 제거합니다. 만약 제거 후 마침표(.)가 new_id의 끝에 위치한다면 끝에 위치한 마침표(.) 문자를 제거합니다.\n",
        "if len(id_5) >= 16:\n",
        "    id_6 = id_5[:15]\n",
        "    if id_6.endswith('.'):\n",
        "        id_6 = id_6[:-1]\n",
        "else:\n",
        "    id_6 = id_5\n",
        "print(id_6)\n",
        "\n",
        "#step 7 길이가 2자 이하라면, new_id의 마지막 문자를 new_id의 길이가 3이 될 때까지 반복해서 끝에 붙입니다.\n",
        "if len(id_6) <= 2:\n",
        "    last = id_6[-1]\n",
        "    id_7 = id_6 + (last*2)\n",
        "    if len(id_7) > 3:\n",
        "        id_7 = id_7[:3]\n",
        "else:\n",
        "    id_7 = id_6\n",
        "print(id_7)\n"
      ],
      "metadata": {
        "id": "a9MlXAT5U0xD",
        "colab": {
          "base_uri": "https://localhost:8080/"
        },
        "outputId": "b7f5924f-e6cf-4efe-f674-ce25303cf40a"
      },
      "execution_count": 103,
      "outputs": [
        {
          "output_type": "stream",
          "name": "stdout",
          "text": [
            "=.=\n",
            ".\n",
            ".\n",
            "\n",
            "a\n",
            "a\n",
            "aaa\n"
          ]
        }
      ]
    },
    {
      "cell_type": "code",
      "source": [
        "id = 'hello!... i____like-you :)... 0645.a5df7'\n",
        "p = re.compile('[a-z0-9_.-]')\n",
        "m = p.findall(id)\n",
        "id_2 = \"\".join(m)\n",
        "print(id_2)\n",
        "\n",
        "#print(m)\n",
        "#id_check.append(m)\n",
        "#print(id_check)\n"
      ],
      "metadata": {
        "colab": {
          "base_uri": "https://localhost:8080/"
        },
        "id": "06D7PrQlqndY",
        "outputId": "b6b05560-602f-4353-a26b-a6413dcdcf9d"
      },
      "execution_count": 44,
      "outputs": [
        {
          "output_type": "stream",
          "name": "stdout",
          "text": [
            "hello...i____like-you...0645.a5df7\n"
          ]
        }
      ]
    },
    {
      "cell_type": "code",
      "source": [
        "id_2 = 'hello...i____like-you...0645.a5df7'\n",
        "pattern = \"[.]+\"\n",
        "replace = \".\"\n",
        "\n",
        "id_3 = re.sub(pattern, replace, id_2)\n",
        "print(id_3)"
      ],
      "metadata": {
        "colab": {
          "base_uri": "https://localhost:8080/"
        },
        "id": "Agby2d6RwgoE",
        "outputId": "42a309fa-025b-410d-9aae-3412cf87387f"
      },
      "execution_count": 52,
      "outputs": [
        {
          "output_type": "stream",
          "name": "stdout",
          "text": [
            "hello.i____like-you.0645.a5df7\n"
          ]
        }
      ]
    },
    {
      "cell_type": "code",
      "source": [
        "id_3 = '.hello.i____like-you.0645.a5df7.'\n",
        "if id_3.startswith('.') & id_3.endswith('.'):\n",
        "    id_4 = id_3[1:-1]\n",
        "    print(id_4)\n",
        "elif id_3.startswith('.'):\n",
        "    id_4 = id_3[1:]\n",
        "    print(id_4)\n",
        "elif id_3.endswith('.'):\n",
        "    id_4 = id_3[:-1]\n",
        "    print(id_4)\n"
      ],
      "metadata": {
        "colab": {
          "base_uri": "https://localhost:8080/"
        },
        "id": "1oIqDgJz5zqm",
        "outputId": "de1128eb-7035-46c3-df35-075c2e701b48"
      },
      "execution_count": 59,
      "outputs": [
        {
          "output_type": "stream",
          "name": "stdout",
          "text": [
            "hello.i____like-you.0645.a5df7\n"
          ]
        }
      ]
    },
    {
      "cell_type": "code",
      "source": [
        "if len(id_4) == 0:\n",
        "    id_5 = 'a'\n",
        "    print(id_5)\n",
        "elif len(id_4) != 0:\n",
        "    id_5 = id_4\n",
        "    print(id_5)"
      ],
      "metadata": {
        "colab": {
          "base_uri": "https://localhost:8080/"
        },
        "id": "DOMxIj2y5zzW",
        "outputId": "83b4769d-2895-4c0d-9623-f05c8eb14319"
      },
      "execution_count": 62,
      "outputs": [
        {
          "output_type": "stream",
          "name": "stdout",
          "text": [
            "hello.i____like-you.0645.a5df7\n"
          ]
        }
      ]
    },
    {
      "cell_type": "code",
      "source": [
        "if len(id_5) >= 16:\n",
        "    id_5 = id_5[:15]\n",
        "    if id_5.endswith('.'):\n",
        "        id_5 = id_5[:-1]\n",
        "        print(id_5)\n",
        "\n",
        "else :\n",
        "    print(id_5)\n"
      ],
      "metadata": {
        "colab": {
          "base_uri": "https://localhost:8080/"
        },
        "id": "02j0zIqw5HFl",
        "outputId": "4f60dc21-15d0-4a3d-d8fe-798f58da0a3f"
      },
      "execution_count": 64,
      "outputs": [
        {
          "output_type": "stream",
          "name": "stdout",
          "text": [
            "hello.i____like\n"
          ]
        }
      ]
    },
    {
      "cell_type": "code",
      "source": [
        "#길이가 2자 이하라면, new_id의 마지막 문자를 new_id의 길이가 3이 될 때까지 반복해서 끝에 붙입니다.\n",
        "\n",
        "id_5 = 'f'\n",
        "if len(id_5) <= 2:\n",
        "    last = id_5[-1]\n",
        "    id_6 = id_5 + last\n",
        "    if len(id_6) < 3:\n",
        "        id_6 = id_6 + last\n",
        "print(id_6)"
      ],
      "metadata": {
        "colab": {
          "base_uri": "https://localhost:8080/"
        },
        "id": "2flBT3xT951_",
        "outputId": "0ade4e89-2ed1-4b3e-ef56-bfab18186ae7"
      },
      "execution_count": 83,
      "outputs": [
        {
          "output_type": "stream",
          "name": "stdout",
          "text": [
            "fff\n"
          ]
        }
      ]
    },
    {
      "cell_type": "markdown",
      "source": [
        "## 다른 사람의 풀이"
      ],
      "metadata": {
        "id": "D1HW22YNF4Ht"
      }
    },
    {
      "cell_type": "code",
      "source": [
        "import re\n",
        "\n",
        "def solution(new_id):\n",
        "    st = new_id\n",
        "    st = st.lower()\n",
        "    st = re.sub('[^a-z0-9\\-_.]', '', st)\n",
        "    st = re.sub('\\.+', '.', st)\n",
        "    st = re.sub('^[.]|[.]$', '', st)\n",
        "    st = 'a' if len(st) == 0 else st[:15]\n",
        "    st = re.sub('^[.]|[.]$', '', st)\n",
        "    st = st if len(st) > 2 else st + \"\".join([st[-1] for i in range(3-len(st))])\n",
        "    return st"
      ],
      "metadata": {
        "id": "RBEud8j-_uwd"
      },
      "execution_count": null,
      "outputs": []
    }
  ]
}