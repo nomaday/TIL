{
 "cells": [
  {
   "cell_type": "markdown",
   "metadata": {
    "id": "QUHu0sZddln9"
   },
   "source": [
    "## [단계 6] 문자열"
   ]
  },
  {
   "cell_type": "markdown",
   "metadata": {
    "id": "IUPj6h7nNXSD"
   },
   "source": [
    "##### No. 11654"
   ]
  },
  {
   "cell_type": "code",
   "execution_count": null,
   "metadata": {
    "colab": {
     "base_uri": "https://localhost:8080/"
    },
    "executionInfo": {
     "elapsed": 3511,
     "status": "ok",
     "timestamp": 1651194254969,
     "user": {
      "displayName": "Ahyeon Ryang",
      "userId": "01218227464515826788"
     },
     "user_tz": -540
    },
    "id": "M6YnPUSYNXSE",
    "outputId": "606f9faf-317e-4ce3-976a-ab8c1809dc1b"
   },
   "outputs": [
    {
     "name": "stdout",
     "output_type": "stream",
     "text": [
      "9\n"
     ]
    },
    {
     "data": {
      "text/plain": [
       "57"
      ]
     },
     "execution_count": 4,
     "metadata": {},
     "output_type": "execute_result"
    }
   ],
   "source": [
    "print(ord(input()))"
   ]
  },
  {
   "cell_type": "markdown",
   "metadata": {
    "id": "QTCQYdBNNXSE"
   },
   "source": [
    "##### No. 11720"
   ]
  },
  {
   "cell_type": "code",
   "execution_count": null,
   "metadata": {
    "colab": {
     "base_uri": "https://localhost:8080/"
    },
    "executionInfo": {
     "elapsed": 3591,
     "status": "ok",
     "timestamp": 1651232300780,
     "user": {
      "displayName": "Ahyeon Ryang",
      "userId": "01218227464515826788"
     },
     "user_tz": -540
    },
    "id": "OjltrBp0NXSF",
    "outputId": "3f0aad9e-ab0e-4530-8403-aeed94cc9a18"
   },
   "outputs": [
    {
     "name": "stdout",
     "output_type": "stream",
     "text": [
      "25\n",
      "7000000000000000000000000\n",
      "7\n"
     ]
    }
   ],
   "source": [
    "n = int(input())\n",
    "n1 = list(map(int, input()))\n",
    "n_sum = 0\n",
    "\n",
    "for i in range(n):\n",
    "    n_sum += n1[i] \n",
    "print(n_sum)"
   ]
  },
  {
   "cell_type": "markdown",
   "metadata": {
    "id": "5Pk-QVZYNXSF"
   },
   "source": [
    "##### No. 10809 *"
   ]
  },
  {
   "cell_type": "code",
   "execution_count": null,
   "metadata": {
    "id": "48ykWMP8Foyl"
   },
   "outputs": [],
   "source": [
    "#틀린답\n",
    "s = list(input())\n",
    "ABC = ['a','b','c','d','e','f','g','h','i','j','k','l','m','n','o','p','q','r','s','t','u','v','w','x','y','z']\n",
    "result = []\n",
    "\n",
    "for letter in ABC:\n",
    "    if letter in s:\n",
    "         result.append(s.index(letter))\n",
    "    else:\n",
    "        result.append('-1')\n",
    "print(result1)"
   ]
  },
  {
   "cell_type": "code",
   "execution_count": null,
   "metadata": {
    "colab": {
     "base_uri": "https://localhost:8080/"
    },
    "executionInfo": {
     "elapsed": 1326,
     "status": "ok",
     "timestamp": 1651248768651,
     "user": {
      "displayName": "Ahyeon Ryang",
      "userId": "01218227464515826788"
     },
     "user_tz": -540
    },
    "id": "raaV9CUTNXSG",
    "outputId": "73daefc4-3381-4d4e-bea9-bc1288334296"
   },
   "outputs": [
    {
     "name": "stdout",
     "output_type": "stream",
     "text": [
      "baekjoon\n",
      "1 0 -1 -1 2 -1 -1 -1 -1 4 3 -1 -1 7 5 -1 -1 -1 -1 -1 -1 -1 -1 -1 -1 -1 "
     ]
    }
   ],
   "source": [
    "s = input()\n",
    "ABC = 'abcdefghijklmnopqrstuvwxyz'\n",
    "\n",
    "for letter in ABC:\n",
    "    print(s.find(letter), end = ' ')"
   ]
  },
  {
   "cell_type": "markdown",
   "metadata": {
    "id": "kY-K7NHsGToi"
   },
   "source": [
    "> 출력형식은 리스트 형태가 아니었음. \n",
    ">\n",
    "> 알파벳도 굳이 일일이 문자열로 지정해주지 않아도 되었음\n",
    "\n",
    "> list에서 `find()`함수 사용하면 문자열에서 찾는 데이터가 가장 먼저 등장한 위치 인덱스를 반환해주고, 찾는 데이터가 없으면 -1을 반환한다.\n"
   ]
  },
  {
   "cell_type": "markdown",
   "metadata": {
    "id": "NKVunb07NXSG"
   },
   "source": [
    "##### No. 2675 *"
   ]
  },
  {
   "cell_type": "code",
   "execution_count": 1,
   "metadata": {
    "ExecuteTime": {
     "end_time": "2022-04-30T15:22:55.079027Z",
     "start_time": "2022-04-30T15:22:48.635799Z"
    },
    "colab": {
     "base_uri": "https://localhost:8080/"
    },
    "executionInfo": {
     "elapsed": 18547,
     "status": "ok",
     "timestamp": 1651285682920,
     "user": {
      "displayName": "Ahyeon Ryang",
      "userId": "01218227464515826788"
     },
     "user_tz": -540
    },
    "id": "XnsFszrHR54j",
    "outputId": "c54204ad-0ab2-4a61-f842-b73634cb1cef"
   },
   "outputs": [
    {
     "name": "stdout",
     "output_type": "stream",
     "text": [
      "2\n",
      "3 ABC\n",
      "AAABBBCCC\n",
      "5 /HTP\n",
      "/////HHHHHTTTTTPPPPP\n"
     ]
    }
   ],
   "source": [
    "T = int(input())\n",
    "for i in range(T):\n",
    "    R, S = input().split()\n",
    "    for s in S:\n",
    "        print(s*int(R), end='')\n",
    "    print()"
   ]
  },
  {
   "cell_type": "markdown",
   "metadata": {
    "id": "o_BgNcJ_TW9k"
   },
   "source": [
    "> 마지막에 `print()` 줄넘김을 해줘야 했음"
   ]
  },
  {
   "cell_type": "markdown",
   "metadata": {
    "id": "R6vbxK6-NXSH"
   },
   "source": [
    "##### No. 1157 ** "
   ]
  },
  {
   "cell_type": "code",
   "execution_count": null,
   "metadata": {},
   "outputs": [],
   "source": [
    "#틀린 답\n",
    "x = input().upper()\n",
    "count = [0 for i in range(len(x))]\n",
    "\n",
    "if A in x:\n",
    "    for i in range(len(x)):\n",
    "        count[i] += 1\n",
    "print(count)"
   ]
  },
  {
   "cell_type": "code",
   "execution_count": 79,
   "metadata": {
    "ExecuteTime": {
     "end_time": "2022-04-30T03:47:20.301066Z",
     "start_time": "2022-04-30T03:47:19.776974Z"
    },
    "id": "zmyCZ5MMNXSH"
   },
   "outputs": [
    {
     "name": "stdout",
     "output_type": "stream",
     "text": [
      "baaa\n",
      "A\n"
     ]
    }
   ],
   "source": [
    "words = input().upper()   # MISSISSIPI\n",
    "unique_words = list(set(words))  # 입력받은 문자열에서 중복값을 제거 ['M', 'P', 'I', 'S']\n",
    "\n",
    "cnt_list = []\n",
    "for x in unique_words :\n",
    "    cnt = words.count(x)  # 입력받은 문자열에서 unique한 값이 각각 몇개씩 나오는지 구함\n",
    "    cnt_list.append(cnt)   # count한 숫자를 리스트에 append\n",
    "#print(cnt_list)\n",
    "\n",
    "if cnt_list.count(max(cnt_list)) > 1: \n",
    "    # max(cnt_list)는 입력받은 문자열의 unique한 값중에 가장 많이 등장한 횟수를 나타냄\n",
    "    # cnt_list에서 max(cnt_list) 값이 몇번 등장하는지 세어봄\n",
    "    # 1이면 최빈 사용 알파벳이 하나라는 것, 2이상이면 최빈 사용 알파벳이 2개 이상이라는 것\n",
    "    #print(cnt_list.count(max(cnt_list)))\n",
    "    print('?')\n",
    "else :\n",
    "    max_index = cnt_list.index(max(cnt_list))  #  cnt_list에서 최대값의 위치\n",
    "#print(cnt_list)\n",
    "#print(max(cnt_list))\n",
    "#print(cnt_list.index(max(cnt_list)))\n",
    "    print(unique_words[max_index])"
   ]
  },
  {
   "cell_type": "markdown",
   "metadata": {
    "id": "c5L9aFqTNXSH"
   },
   "source": [
    "##### No. 1152"
   ]
  },
  {
   "cell_type": "code",
   "execution_count": 83,
   "metadata": {
    "ExecuteTime": {
     "end_time": "2022-04-30T03:51:05.574360Z",
     "start_time": "2022-04-30T03:51:05.200214Z"
    },
    "id": "ewdlgcZwNXSH"
   },
   "outputs": [
    {
     "name": "stdout",
     "output_type": "stream",
     "text": [
      "The last character is a blank \n",
      "6\n"
     ]
    }
   ],
   "source": [
    "s = list(map(str, input().split()))\n",
    "print(len(s))"
   ]
  },
  {
   "cell_type": "markdown",
   "metadata": {
    "id": "iQnMfIaLNXSH"
   },
   "source": [
    "##### No. 2908"
   ]
  },
  {
   "cell_type": "code",
   "execution_count": 89,
   "metadata": {
    "ExecuteTime": {
     "end_time": "2022-04-30T03:55:56.618061Z",
     "start_time": "2022-04-30T03:55:56.216021Z"
    },
    "id": "D7eIyzWONXSI"
   },
   "outputs": [
    {
     "name": "stdout",
     "output_type": "stream",
     "text": [
      "839 237\n",
      "938\n"
     ]
    }
   ],
   "source": [
    "n1, n2 = list(map(str, input().split()))\n",
    "sn1 = n1[::-1]\n",
    "sn2 = n2[::-1]\n",
    "if sn1 > sn2 :\n",
    "    print(sn1)\n",
    "else :\n",
    "    print(sn2)"
   ]
  },
  {
   "cell_type": "markdown",
   "metadata": {
    "id": "lHUXKiTYNXSI"
   },
   "source": [
    "##### No. 5622 *"
   ]
  },
  {
   "cell_type": "code",
   "execution_count": 109,
   "metadata": {
    "ExecuteTime": {
     "end_time": "2022-04-30T04:22:34.767045Z",
     "start_time": "2022-04-30T04:22:32.932852Z"
    },
    "id": "tvovR9HvNXSI"
   },
   "outputs": [
    {
     "name": "stdout",
     "output_type": "stream",
     "text": [
      "UNUCIC\n"
     ]
    }
   ],
   "source": [
    "# 나의 시도\n",
    "w = list(input())\n",
    "unique_w = list(set(w))  # 입력받은 문자열에서 중복값을 제거 ['M', 'P', 'I', 'S']\n",
    "cnt_w = []\n",
    "abc = ['ABC','DEF','GHI','JKL','MNO','PQRS','TUV','WXYZ']\n",
    "s = 0\n",
    "\n",
    "for uw in unique_w :\n",
    "    cnt = w.count(uw)  # 입력받은 문자열에서 unique한 값이 각각 몇개씩 나오는지 구함\n",
    "    cnt_w.append(cnt)   # count한 숫자를 리스트에 append\n",
    "#print(unique_w)\n",
    "#print(cnt_w)\n",
    "\n",
    "\n",
    "#각 단어에 걸리는 시간 * cnt_w  ==> sum 하면 됨\n",
    "    if uw == abc:\n",
    "        \n",
    "for i in w:\n",
    "    for j in abc:\n",
    "        if i in j:\n",
    "            s += abc.index(j)+3\n",
    "print(s)"
   ]
  },
  {
   "cell_type": "code",
   "execution_count": 111,
   "metadata": {
    "ExecuteTime": {
     "end_time": "2022-04-30T04:33:32.169689Z",
     "start_time": "2022-04-30T04:33:31.779695Z"
    }
   },
   "outputs": [
    {
     "name": "stdout",
     "output_type": "stream",
     "text": [
      "UNUCIC\n",
      "36\n"
     ]
    }
   ],
   "source": [
    "w = list(input())\n",
    "abc = ['ABC','DEF','GHI','JKL','MNO','PQRS','TUV','WXYZ']\n",
    "s = 0\n",
    "       \n",
    "for i in w:\n",
    "    for j in abc:\n",
    "        if i in j:\n",
    "            s += abc.index(j)+3\n",
    "print(s)"
   ]
  },
  {
   "cell_type": "markdown",
   "metadata": {},
   "source": [
    "> 굳이 unique 값을 구하지 않아도 되었고,입력받은 문자열 순서대로 각 인덱스 위치값+3을 더해주면 걸리는 시간이 나옴<br> 'w의 요소가 abc의 요소에 있을 때' 의 정의를 헷갈렸음 각 요소를 `i`와 `j`로 지정하고 `if i in j`로 해주면 됨"
   ]
  },
  {
   "cell_type": "code",
   "execution_count": null,
   "metadata": {},
   "outputs": [],
   "source": [
    "1= 1\n",
    "s += 2\n",
    "\n",
    "2 = [A,B,C]\n",
    "s += 3\n",
    "\n",
    "3 = [D,E,F]\n",
    "s += 4\n",
    "\n",
    "4 = [G,H,I]\n",
    "5 = [J,K,L]\n",
    "6 = [M,N,O]\n",
    "7 = [P,Q,R,S]\n",
    "8 = [T,U,V]\n",
    "9 = [W,X,Y,Z]\n",
    "s += 10"
   ]
  },
  {
   "cell_type": "markdown",
   "metadata": {
    "id": "JENUl2TTNXSI"
   },
   "source": [
    "##### No. 2941 *"
   ]
  },
  {
   "cell_type": "code",
   "execution_count": 127,
   "metadata": {
    "ExecuteTime": {
     "end_time": "2022-04-30T04:45:23.176408Z",
     "start_time": "2022-04-30T04:45:22.732527Z"
    },
    "id": "fYMrzqPHNXSI"
   },
   "outputs": [
    {
     "name": "stdout",
     "output_type": "stream",
     "text": [
      "ljes=njak\n"
     ]
    }
   ],
   "source": [
    "# 나의 시도\n",
    "x = list(input())\n",
    "c = ['c=', 'c-', 'dz=', 'd-', 'lj', 'nj', 's=', 'z=']\n",
    "num = []\n",
    "\n",
    "for i in x:\n",
    "    for j in c:\n",
    "        if i in j:\n",
    "            num.append(i)\n",
    "            print(len(num))"
   ]
  },
  {
   "cell_type": "code",
   "execution_count": 135,
   "metadata": {
    "ExecuteTime": {
     "end_time": "2022-04-30T04:53:10.056142Z",
     "start_time": "2022-04-30T04:53:07.995826Z"
    }
   },
   "outputs": [
    {
     "name": "stdout",
     "output_type": "stream",
     "text": [
      "ljes=njak\n",
      "CeCCak\n",
      "6\n"
     ]
    }
   ],
   "source": [
    "x = input()\n",
    "c = ['c=', 'c-', 'dz=', 'd-', 'lj', 'nj', 's=', 'z=']\n",
    "\n",
    "for j in c:\n",
    "    x = x.replace(j, 'C')\n",
    "print(x)\n",
    "print(len(x))"
   ]
  },
  {
   "cell_type": "markdown",
   "metadata": {},
   "source": [
    ">`replace()`함수를 통해 크로아티아 문자를 구분할 수 있는 하나의 문자 (e.g, `C`)로 치환 후 문자열 갯수를 세면 됨"
   ]
  },
  {
   "cell_type": "markdown",
   "metadata": {
    "id": "jLJ9Xq0QNXSJ"
   },
   "source": [
    "##### No. 1316 *"
   ]
  },
  {
   "cell_type": "code",
   "execution_count": 165,
   "metadata": {
    "ExecuteTime": {
     "end_time": "2022-04-30T06:24:39.500048Z",
     "start_time": "2022-04-30T06:24:32.305676Z"
    },
    "id": "XP9W8pKMNXSJ"
   },
   "outputs": [
    {
     "name": "stdout",
     "output_type": "stream",
     "text": [
      "2\n",
      "happy\n",
      "new\n",
      "2\n"
     ]
    }
   ],
   "source": [
    "N = int(input())\n",
    "gw= 0\n",
    "for _ in range(N):\n",
    "    word = input()\n",
    "    check = 0\n",
    "    for i in range(len(word)-1):   # 단어의 마지막에서 두번째 요소까지 넣어줘야 다음 단어랑 비교 가능\n",
    "        if word[i] != word[i+1]:      # 앞글자와 뒷글자가 다르면\n",
    "            new = word[i+1 : ]          # 뒷글자부터 단어 끝까지 요소들로 new 문자열 형성\n",
    "            if new.count(word[i]) > 0:     # 앞글자가 뒤에서도 또 나오면\n",
    "                check += 1                            # check 값  1 올라가게 하고, 이 단어는 그룹문자가 아님\n",
    "    if check == 0:\n",
    "        gw += 1\n",
    "print(gw)"
   ]
  }
 ],
 "metadata": {
  "colab": {
   "authorship_tag": "ABX9TyO6htkHOuDzPQWUBSUCQKjs",
   "collapsed_sections": [],
   "name": "백준문제풀이_220429.ipynb",
   "provenance": []
  },
  "kernelspec": {
   "display_name": "Python 3",
   "language": "python",
   "name": "python3"
  },
  "language_info": {
   "codemirror_mode": {
    "name": "ipython",
    "version": 3
   },
   "file_extension": ".py",
   "mimetype": "text/x-python",
   "name": "python",
   "nbconvert_exporter": "python",
   "pygments_lexer": "ipython3",
   "version": "3.8.8"
  },
  "toc": {
   "base_numbering": 1,
   "nav_menu": {},
   "number_sections": true,
   "sideBar": true,
   "skip_h1_title": false,
   "title_cell": "Table of Contents",
   "title_sidebar": "Contents",
   "toc_cell": false,
   "toc_position": {
    "height": "calc(100% - 180px)",
    "left": "10px",
    "top": "150px",
    "width": "274.972px"
   },
   "toc_section_display": true,
   "toc_window_display": true
  }
 },
 "nbformat": 4,
 "nbformat_minor": 1
}
