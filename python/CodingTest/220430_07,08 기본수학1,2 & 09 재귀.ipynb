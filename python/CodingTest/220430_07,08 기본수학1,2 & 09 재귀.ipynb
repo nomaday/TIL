{
 "cells": [
  {
   "cell_type": "markdown",
   "metadata": {
    "id": "O9ao5tApdvXM"
   },
   "source": [
    "## [단계 7] 기본 수학 1\n"
   ]
  },
  {
   "cell_type": "markdown",
   "metadata": {
    "id": "UHYsPKJceC_A"
   },
   "source": [
    "##### [1] No. 1712 "
   ]
  },
  {
   "cell_type": "code",
   "execution_count": 27,
   "metadata": {
    "ExecuteTime": {
     "end_time": "2022-04-30T07:24:03.725307Z",
     "start_time": "2022-04-30T07:24:02.262293Z"
    },
    "id": "UPDbAOIdeC_B"
   },
   "outputs": [
    {
     "name": "stdout",
     "output_type": "stream",
     "text": [
      "2100000000 9 10\n",
      "2100000001\n"
     ]
    }
   ],
   "source": [
    "#고정비용 A\n",
    "#가변비용 B\n",
    "#노트북 1대 생산 비용: A+B\n",
    "#노트북 n대 생산 비용: A+(B*n)\n",
    "#총 비용(=고정비용+가변비용) = A+(B*n)\n",
    "\n",
    "#노트북가격 C\n",
    "#총 수입(판매비용) = 노트북 n대 수익 = n*C\n",
    "\n",
    "#손익분기점(BREAK-EVEN POINT) = 총 수입 > 총 비용 되는 최초 지점 = n*C > A+(B*n)\n",
    "#n > A/(C-B)\n",
    "\n",
    "A, B, C = map(int, input().split())\n",
    "\n",
    "if C > B:                       # C = B로 0이되서 0으로 나누는 경우와 C <B로 음수로 나누는 경우를 제외해야함\n",
    "    total = A/(C-B)\n",
    "    n = int(total+1)\n",
    "    if n > 0:\n",
    "        print(n)\n",
    "else:\n",
    "    print(-1)"
   ]
  },
  {
   "cell_type": "markdown",
   "metadata": {
    "id": "4KzpZoEJeC_C"
   },
   "source": [
    "##### [4] No. 2869"
   ]
  },
  {
   "cell_type": "code",
   "execution_count": 106,
   "metadata": {
    "ExecuteTime": {
     "end_time": "2022-04-30T09:22:20.604147Z",
     "start_time": "2022-04-30T09:22:16.202760Z"
    },
    "id": "R2k-woTPeC_C"
   },
   "outputs": [
    {
     "name": "stdout",
     "output_type": "stream",
     "text": [
      "100 99 1000000000\n",
      "999999901\n"
     ]
    }
   ],
   "source": [
    "#하루에 +A  -B, 막대높이 V\n",
    "#또, 정상에 올라간 후에는 미끄러지지 않는다.\n",
    "\n",
    "#A + (-B+A)*day = V\n",
    "#day = (V-A)/(A-B)\n",
    "import math\n",
    "\n",
    "A, B, V = map(int, input().split())\n",
    "day = (V-A)/(A-B)\n",
    "print(math.ceil(day+1))\n"
   ]
  },
  {
   "cell_type": "code",
   "execution_count": null,
   "metadata": {},
   "outputs": [],
   "source": [
    "A -B  + A-B  + A-B  + A\n",
    "\n",
    "2\n",
    "1\n",
    "---\n",
    "3\n",
    "2\n",
    "---\n",
    "4\n",
    "3\n",
    "---\n",
    "5     도착!\n",
    "\n",
    "\n",
    "V = 6 (A =+5, B =-1)\n",
    "5\n",
    "4\n",
    "----\n",
    "9\n",
    "\n",
    "A-B+A\n"
   ]
  },
  {
   "cell_type": "markdown",
   "metadata": {
    "id": "sfKFWv27DRiy"
   },
   "source": [
    "## [단계 8] 기본 수학 2\n"
   ]
  },
  {
   "cell_type": "markdown",
   "metadata": {
    "id": "45jGrLatNZfs"
   },
   "source": [
    "##### [7] No. 1085"
   ]
  },
  {
   "cell_type": "code",
   "execution_count": 183,
   "metadata": {
    "ExecuteTime": {
     "end_time": "2022-04-30T14:56:30.939988Z",
     "start_time": "2022-04-30T14:56:30.418619Z"
    },
    "id": "1h347O7pNZfs"
   },
   "outputs": [
    {
     "name": "stdout",
     "output_type": "stream",
     "text": [
      "161 181 762 375\n",
      "161\n"
     ]
    }
   ],
   "source": [
    "#직사각형 가로 길이 = w\n",
    "#직사각형 세로 길이 = h\n",
    "\n",
    "#가로길이 남은것 w-x\n",
    "#세로길이 남은것 h-y\n",
    "#더 작게 남은 부분이 빨리 탈출하는 곳\n",
    "\n",
    "x, y, w, h = map(int, input().split())\n",
    "if x <= w/2 and y <= h/2:\n",
    "    if x <= y:\n",
    "        print(x)\n",
    "    else:\n",
    "        print(y)   \n",
    "elif x <= w/2 and y >= h/2:\n",
    "    if x <= h-y:\n",
    "        print(x)\n",
    "    else :\n",
    "        print(h-y)\n",
    "elif x >= w/2 and y >= h/2:\n",
    "    if w-x <= h-y:\n",
    "        print(w-x)\n",
    "    else :\n",
    "        print(h-y)\n",
    "elif x >= w/2 and y <= h/2:\n",
    "    if w-x <= y:\n",
    "        print(w-x)\n",
    "    else:\n",
    "        print(y)"
   ]
  },
  {
   "cell_type": "markdown",
   "metadata": {
    "id": "ib_R6UDmNZfs"
   },
   "source": [
    "##### [8] No. 3009"
   ]
  },
  {
   "cell_type": "code",
   "execution_count": 202,
   "metadata": {
    "ExecuteTime": {
     "end_time": "2022-04-30T15:25:24.793575Z",
     "start_time": "2022-04-30T15:25:20.383739Z"
    },
    "id": "S1QWAjWGNZfs"
   },
   "outputs": [
    {
     "name": "stdout",
     "output_type": "stream",
     "text": [
      "30 20\n",
      "10 10\n",
      "10 20\n",
      "30 10"
     ]
    }
   ],
   "source": [
    "x1, y1 = map(int, input().split())\n",
    "x2, y2 = map(int, input().split())\n",
    "x3, y3 = map(int, input().split())\n",
    "\n",
    "a = [x1, x2, x3]\n",
    "b = [y1, y2, y3]\n",
    "\n",
    "unique_a = list(set(a))\n",
    "unique_b = list(set(b))\n",
    "\n",
    "cnt_a = []\n",
    "for i in unique_a:\n",
    "    cnt = a.count(i)\n",
    "    cnt_a.append(cnt)\n",
    "    x4_index = cnt_a.index(min(cnt_a))\n",
    "    x4 = unique_a[x4_index]\n",
    "    \n",
    "cnt_b = []\n",
    "for j in unique_b:\n",
    "    cnt = b.count(j)\n",
    "    cnt_b.append(cnt)\n",
    "    y4_index = cnt_b.index(min(cnt_b))\n",
    "    y4 = unique_b[y4_index]\n",
    "\n",
    "print(x4, y4, end='')"
   ]
  },
  {
   "cell_type": "markdown",
   "metadata": {
    "id": "rt_9SrYoNbzA"
   },
   "source": [
    "## [단계 9] 재귀"
   ]
  },
  {
   "cell_type": "markdown",
   "metadata": {
    "id": "NbbIiR4QNbzD"
   },
   "source": [
    "##### [1] No. 10872"
   ]
  },
  {
   "cell_type": "code",
   "execution_count": 205,
   "metadata": {
    "ExecuteTime": {
     "end_time": "2022-04-30T15:33:09.517080Z",
     "start_time": "2022-04-30T15:33:09.128441Z"
    },
    "id": "wii53zFXNbzD"
   },
   "outputs": [
    {
     "name": "stdout",
     "output_type": "stream",
     "text": [
      "0\n",
      "1\n"
     ]
    }
   ],
   "source": [
    "def fac(n):\n",
    "    if n > 1:\n",
    "        return n * fac(n-1)\n",
    "    else:\n",
    "        return 1\n",
    "\n",
    "a = int(input())\n",
    "print(fac(a))"
   ]
  },
  {
   "cell_type": "markdown",
   "metadata": {
    "id": "rEGEgzDjNbzD"
   },
   "source": [
    "##### [2] No. 10870"
   ]
  },
  {
   "cell_type": "code",
   "execution_count": 213,
   "metadata": {
    "ExecuteTime": {
     "end_time": "2022-04-30T15:52:36.121611Z",
     "start_time": "2022-04-30T15:52:34.859462Z"
    },
    "id": "YAfBsXKjNbzD"
   },
   "outputs": [
    {
     "name": "stdout",
     "output_type": "stream",
     "text": [
      "10\n",
      "55\n"
     ]
    }
   ],
   "source": [
    "def fibo(n):\n",
    "    if n >=2:\n",
    "        return fibo(n-1)+fibo(n-2)\n",
    "    else:\n",
    "        return n\n",
    "        \n",
    "a = int(input())\n",
    "print(fibo(a))"
   ]
  }
 ],
 "metadata": {
  "colab": {
   "authorship_tag": "ABX9TyO6htkHOuDzPQWUBSUCQKjs",
   "collapsed_sections": [],
   "name": "백준문제풀이_220429.ipynb",
   "provenance": []
  },
  "kernelspec": {
   "display_name": "Python 3",
   "language": "python",
   "name": "python3"
  },
  "language_info": {
   "codemirror_mode": {
    "name": "ipython",
    "version": 3
   },
   "file_extension": ".py",
   "mimetype": "text/x-python",
   "name": "python",
   "nbconvert_exporter": "python",
   "pygments_lexer": "ipython3",
   "version": "3.8.8"
  },
  "toc": {
   "base_numbering": 1,
   "nav_menu": {},
   "number_sections": true,
   "sideBar": true,
   "skip_h1_title": false,
   "title_cell": "Table of Contents",
   "title_sidebar": "Contents",
   "toc_cell": false,
   "toc_position": {
    "height": "652.727px",
    "left": "33px",
    "top": "111.098px",
    "width": "311.969px"
   },
   "toc_section_display": true,
   "toc_window_display": true
  }
 },
 "nbformat": 4,
 "nbformat_minor": 1
}
