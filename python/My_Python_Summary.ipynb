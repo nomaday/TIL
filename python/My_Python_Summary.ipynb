{
  "cells": [
    {
      "cell_type": "markdown",
      "source": [
        "# 파이썬 문법/코드 메모 🤓 \n",
        "- 새롭게 알게되거나\n",
        "- 자주 혼동하거나\n",
        "- 익숙하지 않은\n",
        "\n",
        " **문법, 코드 - 잊지말자!!**"
      ],
      "metadata": {
        "id": "SEjVj3eZZOW2"
      },
      "id": "SEjVj3eZZOW2"
    },
    {
      "cell_type": "markdown",
      "source": [
        "# 🔖 Numpy"
      ],
      "metadata": {
        "id": "g9J70u09X6Ap"
      },
      "id": "g9J70u09X6Ap"
    },
    {
      "cell_type": "markdown",
      "source": [
        "# 🔖 Pandas"
      ],
      "metadata": {
        "id": "Tcouk51-X-AT"
      },
      "id": "Tcouk51-X-AT"
    },
    {
      "cell_type": "markdown",
      "source": [
        "https://pandas.pydata.org/docs/reference/api/pandas.DataFrame.describe.html"
      ],
      "metadata": {
        "id": "iHkWv07Xap0n"
      },
      "id": "iHkWv07Xap0n"
    },
    {
      "cell_type": "code",
      "execution_count": null,
      "id": "814b1bac",
      "metadata": {
        "id": "814b1bac"
      },
      "outputs": [],
      "source": [
        "# 문자열 describe() 이거 나한테는 혁신!!\n",
        "data.describe(include=[‘O’])"
      ]
    },
    {
      "cell_type": "markdown",
      "source": [
        "https://pandas.pydata.org/docs/reference/api/pandas.cut.html?highlight=pd%20cut"
      ],
      "metadata": {
        "id": "8Ctz5RokagSb"
      },
      "id": "8Ctz5RokagSb"
    },
    {
      "cell_type": "code",
      "source": [
        "# 5개의 구간으로 잘라, age_band 라는 새로운 열 생성\n",
        "titanic['age_band'] = pd.cut(titanic['Age'], 5)\n",
        "\n",
        "pd.cut(나눌data, 나눌구간개수) "
      ],
      "metadata": {
        "id": "01JZlOakZ9G_"
      },
      "id": "01JZlOakZ9G_",
      "execution_count": null,
      "outputs": []
    },
    {
      "cell_type": "markdown",
      "source": [
        "https://pandas.pydata.org/docs/reference/api/pandas.pivot.html"
      ],
      "metadata": {
        "id": "Eti4Y8ifaPq3"
      },
      "id": "Eti4Y8ifaPq3"
    },
    {
      "cell_type": "code",
      "source": [
        "# 각 age_band 별로 평균 survived 가 어느 정도인지 보여주는 피벗 테이블 (age_band의 각 구간이 각각의 컬럼이 되고, 값으로 Survived 들어감)\n",
        "pd.pivot_table(titanic, values='Survived', columns='age_band')"
      ],
      "metadata": {
        "id": "2Q1ccKqLZ9pa"
      },
      "id": "2Q1ccKqLZ9pa",
      "execution_count": null,
      "outputs": []
    },
    {
      "cell_type": "markdown",
      "source": [
        "# 🔖 Matplotlib"
      ],
      "metadata": {
        "id": "VWgwgR8OYNW6"
      },
      "id": "VWgwgR8OYNW6"
    },
    {
      "cell_type": "code",
      "source": [
        ""
      ],
      "metadata": {
        "id": "uyyIY4xNY5Qm"
      },
      "id": "uyyIY4xNY5Qm",
      "execution_count": null,
      "outputs": []
    },
    {
      "cell_type": "markdown",
      "source": [
        "# 🔖 Seaborn"
      ],
      "metadata": {
        "id": "mUrHQFF8X-IL"
      },
      "id": "mUrHQFF8X-IL"
    },
    {
      "cell_type": "code",
      "source": [
        ""
      ],
      "metadata": {
        "id": "dVdlDikZY46s"
      },
      "id": "dVdlDikZY46s",
      "execution_count": null,
      "outputs": []
    },
    {
      "cell_type": "markdown",
      "source": [
        "# 🔖 Scikit-Learn"
      ],
      "metadata": {
        "id": "kOVGaro1YBoo"
      },
      "id": "kOVGaro1YBoo"
    },
    {
      "cell_type": "markdown",
      "source": [
        "https://scikit-learn.org/stable/modules/generated/sklearn.preprocessing.LabelEncoder.html"
      ],
      "metadata": {
        "id": "fOndx2ALcwP9"
      },
      "id": "fOndx2ALcwP9"
    },
    {
      "cell_type": "code",
      "source": [
        "# numerical 데이터로 인코딩(LabelEncoder 사용)\n",
        "from sklearn.preprocessing import LabelEncoder    # LabelEncoder를 불러오기\n",
        "encoder = LabelEncoder()      # encoder라는 변수를 선언\n",
        "encoder.fit(titanic['Title']) # title 열에 맞게 인코딩\n",
        "titanic['Title'] = encoder.transform(titanic['Title']) # 인코딩 결과를 실제 행에 적용\n",
        "titanic.head()"
      ],
      "metadata": {
        "id": "6VP5Dfx1cnX9"
      },
      "id": "6VP5Dfx1cnX9",
      "execution_count": null,
      "outputs": []
    },
    {
      "cell_type": "markdown",
      "source": [
        "`map()`함수를 사용해서도 바꿀 수 있다!"
      ],
      "metadata": {
        "id": "7VIiEBryfge3"
      },
      "id": "7VIiEBryfge3"
    },
    {
      "cell_type": "code",
      "source": [
        "# map 함수 사용\n",
        "genders = {\"male\": 0, \"female\": 1}\n",
        "titanic['Sex'] = titanic['Sex'].map(genders)\n",
        "\n",
        "titanic['Embarked'] = titanic['Embarked'].map( {'S': 0, 'C': 1, 'Q': 2} ).astype(int)  # 소숫점 자리가 나오지 않게 .astype(int)를 사용\n"
      ],
      "metadata": {
        "id": "LIL2knbIcoDK"
      },
      "id": "LIL2knbIcoDK",
      "execution_count": null,
      "outputs": []
    },
    {
      "cell_type": "markdown",
      "source": [
        "# updated ⬇"
      ],
      "metadata": {
        "id": "V9f7XFL_cjCE"
      },
      "id": "V9f7XFL_cjCE"
    },
    {
      "cell_type": "code",
      "source": [
        ""
      ],
      "metadata": {
        "id": "TlR7Ct0Mcn7m"
      },
      "id": "TlR7Ct0Mcn7m",
      "execution_count": null,
      "outputs": []
    }
  ],
  "metadata": {
    "kernelspec": {
      "display_name": "Python 3",
      "language": "python",
      "name": "python3"
    },
    "language_info": {
      "codemirror_mode": {
        "name": "ipython",
        "version": 3
      },
      "file_extension": ".py",
      "mimetype": "text/x-python",
      "name": "python",
      "nbconvert_exporter": "python",
      "pygments_lexer": "ipython3",
      "version": "3.8.8"
    },
    "colab": {
      "name": "My Python Summary.ipynb",
      "provenance": [],
      "collapsed_sections": [],
      "toc_visible": true
    }
  },
  "nbformat": 4,
  "nbformat_minor": 5
}
