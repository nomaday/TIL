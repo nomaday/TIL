{
  "cells": [
    {
      "cell_type": "markdown",
      "id": "SEjVj3eZZOW2",
      "metadata": {
        "id": "SEjVj3eZZOW2"
      },
      "source": [
        "# 파이썬 문법/코드 메모 🤓 \n",
        "- 새롭게 알게되거나\n",
        "- 자주 혼동하거나\n",
        "- 익숙하지 않은\n",
        "\n",
        " **문법, 코드 - 잊지말자!!**"
      ]
    },
    {
      "cell_type": "markdown",
      "id": "g9J70u09X6Ap",
      "metadata": {
        "id": "g9J70u09X6Ap"
      },
      "source": [
        "# 🔖 Numpy"
      ]
    },
    {
      "cell_type": "markdown",
      "id": "6upEcbyqW9_b",
      "metadata": {
        "id": "6upEcbyqW9_b"
      },
      "source": [
        "## np.random.`randint` vs `rand/randn`\n",
        "\n",
        "- `np.random.seed`  seed를 통한 난수 생성\n",
        "- `np.random.randint`   균일 분포의 정수 난수 1개 생성\n",
        "- `np.random.rand`  0부터 1사이의 균일 분포에서 난수 matrix array생성\n",
        "- `np.random.randn` 가우시안 표준 정규 분포에서 난수 matrix array생성\n",
        "\n",
        "\n",
        "- `np.random.shuffle`   기존의 데이터의 순서 바꾸기\n",
        "- `np.random.choice`    기존의 데이터에서 sampling\n",
        "- `np.unique`   데이터에서 중복된 값을 제거하고 중복되지 않는 값의 리스트를 출력\n",
        "- `np.bincount` 발생하지 않은 사건에 대해서도 카운트를 해준다\n",
        "\n",
        "\n",
        "출처: https://nittaku.tistory.com/443 [동신한의 조재성 - 머신러닝, 딥러닝, 안드로이드 개발 in 남룡북매:티스토리]\n",
        "\n",
        "> [numpy.param.randn](https://numpy.org/doc/stable/reference/random/generated/numpy.random.randn.html)"
      ]
    },
    {
      "cell_type": "markdown",
      "id": "Tcouk51-X-AT",
      "metadata": {
        "id": "Tcouk51-X-AT"
      },
      "source": [
        "# 🔖 Pandas"
      ]
    },
    {
      "cell_type": "markdown",
      "id": "iHkWv07Xap0n",
      "metadata": {
        "id": "iHkWv07Xap0n"
      },
      "source": [
        "## [.describe(include=[‘O’])](https://pandas.pydata.org/docs/reference/api/pandas.DataFrame.describe.html)"
      ]
    },
    {
      "cell_type": "code",
      "execution_count": null,
      "id": "814b1bac",
      "metadata": {
        "id": "814b1bac"
      },
      "outputs": [],
      "source": [
        "# 문자열 describe() 이거 나한테는 혁신!!\n",
        "data.describe(include=[‘O’])"
      ]
    },
    {
      "cell_type": "markdown",
      "id": "8Ctz5RokagSb",
      "metadata": {
        "id": "8Ctz5RokagSb"
      },
      "source": [
        "## [.cut(data, num)](https://pandas.pydata.org/docs/reference/api/pandas.cut.html?highlight=pd%20cut)"
      ]
    },
    {
      "cell_type": "code",
      "execution_count": null,
      "id": "01JZlOakZ9G_",
      "metadata": {
        "id": "01JZlOakZ9G_"
      },
      "outputs": [],
      "source": [
        "# 5개의 구간으로 잘라, age_band 라는 새로운 열 생성\n",
        "titanic['age_band'] = pd.cut(titanic['Age'], 5)\n",
        "\n",
        "pd.cut(나눌data, 나눌구간개수) "
      ]
    },
    {
      "cell_type": "markdown",
      "id": "Eti4Y8ifaPq3",
      "metadata": {
        "id": "Eti4Y8ifaPq3"
      },
      "source": [
        "## [.pivot_table()](https://pandas.pydata.org/docs/reference/api/pandas.pivot.html)"
      ]
    },
    {
      "cell_type": "code",
      "execution_count": null,
      "id": "2Q1ccKqLZ9pa",
      "metadata": {
        "id": "2Q1ccKqLZ9pa"
      },
      "outputs": [],
      "source": [
        "# 각 age_band 별로 평균 survived 가 어느 정도인지 보여주는 피벗 테이블 (age_band의 각 구간이 각각의 컬럼이 되고, 값으로 Survived 들어감)\n",
        "pd.pivot_table(titanic, values='Survived', columns='age_band')"
      ]
    },
    {
      "cell_type": "markdown",
      "id": "4e3a76c4",
      "metadata": {
        "id": "4e3a76c4"
      },
      "source": [
        "## [.DataFrame.apply](https://pandas.pydata.org/docs/reference/api/pandas.DataFrame.apply.html)"
      ]
    },
    {
      "cell_type": "code",
      "execution_count": null,
      "id": "6106d942",
      "metadata": {
        "id": "6106d942"
      },
      "outputs": [],
      "source": [
        "DataFrame.apply(func, axis=0, raw=False, result_type=None, args=(), **kwargs)\n",
        "\n",
        "df[\"content\"].apply(lambda data: max(model.predict_proba([data])[0]))"
      ]
    },
    {
      "cell_type": "markdown",
      "source": [
        "## [pandas.Series.value_counts](https://pandas.pydata.org/docs/reference/api/pandas.Series.value_counts.html)\n",
        "\n",
        "Return a Series containing counts of unique values.  \n",
        "\n",
        "The resulting object will be in descending order so that the first element is the most frequently-occurring element. Excludes NA values by default.  \n",
        "\n",
        "**Parameters**:\n",
        "- **normalize** : *bool, default False*  \n",
        "If True then the object returned will contain the relative frequencies of the unique values.\n",
        "> 상대빈도값을 포함하려면 `normalize=True`\n",
        "- **dropna** : *bool, default True*  \n",
        "Don’t include counts of NaN.\n",
        "> NaN값도 표시하려면 `dropna=False`\n"
      ],
      "metadata": {
        "id": "KDEuE_n0DOXj"
      },
      "id": "KDEuE_n0DOXj"
    },
    {
      "cell_type": "code",
      "source": [
        "Series.value_counts(normalize=False, sort=True, ascending=False, bins=None, dropna=True)"
      ],
      "metadata": {
        "id": "ti6--xTzDOqw"
      },
      "id": "ti6--xTzDOqw",
      "execution_count": null,
      "outputs": []
    },
    {
      "cell_type": "markdown",
      "id": "VWgwgR8OYNW6",
      "metadata": {
        "id": "VWgwgR8OYNW6"
      },
      "source": [
        "# 🔖 Matplotlib"
      ]
    },
    {
      "cell_type": "code",
      "execution_count": null,
      "id": "uyyIY4xNY5Qm",
      "metadata": {
        "id": "uyyIY4xNY5Qm"
      },
      "outputs": [],
      "source": [
        ""
      ]
    },
    {
      "cell_type": "markdown",
      "id": "mUrHQFF8X-IL",
      "metadata": {
        "id": "mUrHQFF8X-IL"
      },
      "source": [
        "# 🔖 Seaborn"
      ]
    },
    {
      "cell_type": "markdown",
      "id": "_CbhaJANjJS0",
      "metadata": {
        "id": "_CbhaJANjJS0"
      },
      "source": [
        "## [.FacetGrid](https://seaborn.pydata.org/generated/seaborn.FacetGrid.html)"
      ]
    },
    {
      "cell_type": "code",
      "execution_count": null,
      "id": "dVdlDikZY46s",
      "metadata": {
        "id": "dVdlDikZY46s"
      },
      "outputs": [],
      "source": [
        ""
      ]
    },
    {
      "cell_type": "markdown",
      "id": "kOVGaro1YBoo",
      "metadata": {
        "id": "kOVGaro1YBoo"
      },
      "source": [
        "# 🔖 Scikit-Learn"
      ]
    },
    {
      "cell_type": "markdown",
      "id": "fOndx2ALcwP9",
      "metadata": {
        "id": "fOndx2ALcwP9"
      },
      "source": [
        "## [LabelEncoder()](https://scikit-learn.org/stable/modules/generated/sklearn.preprocessing.LabelEncoder.html)"
      ]
    },
    {
      "cell_type": "code",
      "execution_count": null,
      "id": "6VP5Dfx1cnX9",
      "metadata": {
        "id": "6VP5Dfx1cnX9"
      },
      "outputs": [],
      "source": [
        "# numerical 데이터로 인코딩(LabelEncoder 사용)\n",
        "from sklearn.preprocessing import LabelEncoder    # LabelEncoder를 불러오기\n",
        "encoder = LabelEncoder()      # encoder라는 변수를 선언\n",
        "encoder.fit(titanic['Title']) # title 열에 맞게 인코딩\n",
        "titanic['Title'] = encoder.transform(titanic['Title']) # 인코딩 결과를 실제 행에 적용\n",
        "titanic.head()"
      ]
    },
    {
      "cell_type": "markdown",
      "id": "7VIiEBryfge3",
      "metadata": {
        "id": "7VIiEBryfge3"
      },
      "source": [
        "## `map()`\n",
        "함수를 사용해서도 바꿀 수 있다!"
      ]
    },
    {
      "cell_type": "code",
      "execution_count": null,
      "id": "LIL2knbIcoDK",
      "metadata": {
        "id": "LIL2knbIcoDK"
      },
      "outputs": [],
      "source": [
        "# map 함수 사용\n",
        "genders = {\"male\": 0, \"female\": 1}\n",
        "titanic['Sex'] = titanic['Sex'].map(genders)\n",
        "\n",
        "titanic['Embarked'] = titanic['Embarked'].map( {'S': 0, 'C': 1, 'Q': 2} ).astype(int)  # 소숫점 자리가 나오지 않게 .astype(int)를 사용\n"
      ]
    },
    {
      "cell_type": "markdown",
      "metadata": {
        "id": "kAbOj_-jDKU1"
      },
      "source": [
        "# 🔖 Statsmodels"
      ],
      "id": "kAbOj_-jDKU1"
    },
    {
      "cell_type": "markdown",
      "metadata": {
        "id": "nsDENYbPDKU2"
      },
      "source": [
        "## [statsmodels.stats.outliers_influence.variance_inflation_factor](https://www.statsmodels.org/dev/generated/statsmodels.stats.outliers_influence.variance_inflation_factor.html) (VIF)"
      ],
      "id": "nsDENYbPDKU2"
    },
    {
      "cell_type": "code",
      "execution_count": null,
      "metadata": {
        "id": "MkQwniXkDKU2"
      },
      "outputs": [],
      "source": [
        "import statsmodels.api as sm\n",
        "\n",
        "# VIF 지표 : 함수 사용\n",
        "from statsmodels.stats.outliers_influence import variance_inflation_factor\n",
        "variance_inflation_factor(features_df.values, 0)\n",
        "\n",
        "# 데이터 프레임으로 출력\n",
        "pd.DataFrame({\n",
        "    \"VIF Factor\": [variance_inflation_factor(features_df.values, idx) for idx in range(features_df.shape[1])],\n",
        "    \"features\": features_df.columns,\n",
        "})"
      ],
      "id": "MkQwniXkDKU2"
    },
    {
      "cell_type": "markdown",
      "id": "5779349f",
      "metadata": {
        "id": "5779349f"
      },
      "source": [
        "## [statsmodels.regression.linear_model.OLS](https://www.statsmodels.org/dev/generated/statsmodels.regression.linear_model.OLS.html?highlight=sm+ols#statsmodels.regression.linear_model.OLS)\n",
        "\n",
        ">Ordinary Least Squares\n",
        "\n",
        "class statsmodels.regression.linear_model.OLS*(endog, exog=None, missing='none', hasconst=None, ** kwargs)*"
      ]
    },
    {
      "cell_type": "code",
      "execution_count": null,
      "id": "79754c45",
      "metadata": {
        "id": "79754c45"
      },
      "outputs": [],
      "source": [
        "feature_1 = sm.add_constant(df[[\"TV\", \"radio\", \"newspaper\"]])\n",
        "model_1 = sm.OLS(df[\"sales\"], feature_1).fit()\n",
        "print(model_1.summary2())"
      ]
    }
  ],
  "metadata": {
    "colab": {
      "collapsed_sections": [],
      "name": "My_Python_Summary.ipynb",
      "provenance": [],
      "toc_visible": true
    },
    "kernelspec": {
      "display_name": "Python 3",
      "language": "python",
      "name": "python3"
    },
    "language_info": {
      "codemirror_mode": {
        "name": "ipython",
        "version": 3
      },
      "file_extension": ".py",
      "mimetype": "text/x-python",
      "name": "python",
      "nbconvert_exporter": "python",
      "pygments_lexer": "ipython3",
      "version": "3.8.8"
    }
  },
  "nbformat": 4,
  "nbformat_minor": 5
}
