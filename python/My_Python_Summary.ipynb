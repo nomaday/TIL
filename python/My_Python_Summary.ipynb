{
  "cells": [
    {
      "cell_type": "markdown",
      "source": [
        "# 파이썬 문법/코드 메모 🤓 \n",
        "- 자주 혼동하거나\n",
        "- 익숙하지 않은\n",
        "\n",
        " 문법, 코드! 잊지말자!!"
      ],
      "metadata": {
        "id": "SEjVj3eZZOW2"
      },
      "id": "SEjVj3eZZOW2"
    },
    {
      "cell_type": "markdown",
      "source": [
        "https://pandas.pydata.org/docs/reference/api/pandas.DataFrame.describe.html"
      ],
      "metadata": {
        "id": "iHkWv07Xap0n"
      },
      "id": "iHkWv07Xap0n"
    },
    {
      "cell_type": "code",
      "execution_count": null,
      "id": "814b1bac",
      "metadata": {
        "id": "814b1bac"
      },
      "outputs": [],
      "source": [
        "# 문자열 describe() 이거 나한테는 혁신!!\n",
        "data.describe(include=[‘O’])"
      ]
    },
    {
      "cell_type": "markdown",
      "source": [
        "https://pandas.pydata.org/docs/reference/api/pandas.cut.html?highlight=pd%20cut"
      ],
      "metadata": {
        "id": "8Ctz5RokagSb"
      },
      "id": "8Ctz5RokagSb"
    },
    {
      "cell_type": "code",
      "source": [
        "#5개의 구간으로 잘라, age_band 라는 새로운 열 생성\n",
        "titanic['age_band'] = pd.cut(titanic['Age'], 5)\n",
        "\n",
        "pd.cut(나눌data, 나눌구간개수) "
      ],
      "metadata": {
        "id": "01JZlOakZ9G_"
      },
      "id": "01JZlOakZ9G_",
      "execution_count": null,
      "outputs": []
    },
    {
      "cell_type": "markdown",
      "source": [
        "https://pandas.pydata.org/docs/reference/api/pandas.pivot.html"
      ],
      "metadata": {
        "id": "Eti4Y8ifaPq3"
      },
      "id": "Eti4Y8ifaPq3"
    },
    {
      "cell_type": "code",
      "source": [
        "#각 age_band 별로 평균 survived 가 어느 정도인지 보여주는 피벗 테이블 (age_band의 각 구간이 각각의 컬럼이 되고, 값으로 Survived 들어감)\n",
        "pd.pivot_table(titanic, values='Survived', columns='age_band')"
      ],
      "metadata": {
        "id": "2Q1ccKqLZ9pa"
      },
      "id": "2Q1ccKqLZ9pa",
      "execution_count": null,
      "outputs": []
    }
  ],
  "metadata": {
    "kernelspec": {
      "display_name": "Python 3",
      "language": "python",
      "name": "python3"
    },
    "language_info": {
      "codemirror_mode": {
        "name": "ipython",
        "version": 3
      },
      "file_extension": ".py",
      "mimetype": "text/x-python",
      "name": "python",
      "nbconvert_exporter": "python",
      "pygments_lexer": "ipython3",
      "version": "3.8.8"
    },
    "colab": {
      "name": "My Python Summary.ipynb",
      "provenance": [],
      "collapsed_sections": [],
      "toc_visible": true
    }
  },
  "nbformat": 4,
  "nbformat_minor": 5
}